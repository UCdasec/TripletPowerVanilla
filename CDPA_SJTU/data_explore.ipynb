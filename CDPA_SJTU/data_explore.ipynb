{
 "cells": [
  {
   "cell_type": "code",
   "execution_count": 1,
   "metadata": {},
   "outputs": [],
   "source": [
    "import numpy as np"
   ]
  },
  {
   "cell_type": "markdown",
   "metadata": {},
   "source": [
    "## Dataset from sjtu"
   ]
  },
  {
   "cell_type": "code",
   "execution_count": 2,
   "metadata": {},
   "outputs": [
    {
     "name": "stdout",
     "output_type": "stream",
     "text": [
      "--------> Dataset information from SJTU <--------\n",
      "attributes of dataset in one device includes:('Train:trace-label-plaintext', 'Attack:trace-label-plaintext')\n",
      "shape of attack data in device02 is (5000, 500)\n",
      "shape of attack labels in device02 is (5000,)\n",
      "shape of train data in device02 is (25000, 500)\n",
      "shape of train labels in device02 is (25000,), class includes {0, 1, 2, 3, 4, 5, 6, 7, 8}\n",
      "shape of train plaintext in device02 is (25000,)\n",
      "\n",
      "\n",
      "Sample of train data: [[-1449.  -289. -1739. ... -1449. -2319. -1449.]\n",
      " [  289.     0.     0. ...  1739. -3189. -1449.]\n",
      " [  579. -1159.     0. ...   579. -3478. -1449.]\n",
      " ...\n",
      " [ 3768. -1449.   289. ...  2029. -2899. -1449.]\n",
      " [ 2609. -1159.   869. ...  2319. -2319. -1739.]\n",
      " [    0.   289.  -289. ...  2609. -2609. -1159.]]\n",
      "Sample of train label:  [7 2 5 ... 3 3 3] \n",
      "Sample of train plaintext: [ 36 236  41 ... 116 198 243], max number of plaintext: 255\n"
     ]
    }
   ],
   "source": [
    "## XMEGA data from sjtu includes 6 devices, \n",
    "## for each device, they have train data, attack data (either for testing or tuning), \n",
    "## also includes corresponding labels and plaintexts for train and attack data\n",
    "## print info of data in device02 of sjtu\n",
    "\n",
    "attack_d2 = np.load('./Data/device02/X_attack.npy')\n",
    "attack_label_d2 = np.load('./Data/device02/Y_attack.npy')\n",
    "train_d2 = np.load('./Data/device02/X_train.npy')\n",
    "train_label_d2 = np.load('./Data/device02/Y_train.npy')\n",
    "train_plaintext = np.load('./Data/device02/plaintexts_train.npy')\n",
    "\n",
    "print('--------> Dataset information from SJTU <--------')\n",
    "print(f\"attributes of dataset in one device includes:{'Train:trace-label-plaintext','Attack:trace-label-plaintext'}\")\n",
    "print(f\"shape of attack data in device02 is {attack_d2.shape}\")\n",
    "print(f\"shape of attack labels in device02 is {attack_label_d2.shape}\")\n",
    "print(f\"shape of train data in device02 is {train_d2.shape}\")\n",
    "print(f\"shape of train labels in device02 is {train_label_d2.shape}, class includes {set(train_label_d2)}\")\n",
    "print(f\"shape of train plaintext in device02 is {train_plaintext.shape}\")\n",
    "\n",
    "\n",
    "print('\\n')\n",
    "print(f\"Sample of train data: {train_d2}\")\n",
    "print(f\"Sample of train label:  {train_label_d2} \")\n",
    "print(f\"Sample of train plaintext: {train_plaintext}, max number of plaintext: {max(train_plaintext)}\")"
   ]
  },
  {
   "cell_type": "markdown",
   "metadata": {},
   "source": [
    "## Our Dataset "
   ]
  },
  {
   "cell_type": "code",
   "execution_count": 5,
   "metadata": {},
   "outputs": [
    {
     "name": "stdout",
     "output_type": "stream",
     "text": [
      "--------> Dataset information of Ours <--------\n",
      "attributes of attack dataset in device02 includes:['power_trace', 'plain_text', 'key']\n",
      "attributes of tuning dataset in device02 includes:['power_trace', 'plain_text']\n",
      "shape of attack data trace in device02 is (20000, 5000)\n",
      "shape of tuning data trace in device02 is (2500, 5000)\n",
      "shape of attack plaintext in device02 is (20000, 16)\n",
      "shape of tuning plaintext in device02 is (2500, 16)\n",
      "shape of attack data key in device02 is (16,)\n",
      "shape of attack label in device02 is (20000,), num of class: 256\n",
      "\n",
      "\n",
      "Sample of attack data: [[ 0.05566406 -0.31445312 -0.16796875 ... -0.09960938  0.0078125\n",
      "  -0.01074219]\n",
      " [ 0.06054688 -0.31738281 -0.171875   ... -0.10058594  0.00585938\n",
      "  -0.00683594]\n",
      " [ 0.046875   -0.33203125 -0.18359375 ... -0.10742188  0.00195312\n",
      "  -0.01074219]\n",
      " ...\n",
      " [ 0.0625     -0.31347656 -0.16699219 ... -0.09472656  0.00976562\n",
      "   0.        ]\n",
      " [ 0.06640625 -0.3125     -0.16992188 ... -0.11328125 -0.00585938\n",
      "  -0.01953125]\n",
      " [ 0.0625     -0.31152344 -0.16894531 ... -0.10644531  0.00097656\n",
      "  -0.01074219]]\n",
      "Sample of attack key:  [112  25 236  86 208 121 246 166 121 214 187 133  45  97  96  48] \n",
      "Sample of attack plaintext: [[100 216 246 ... 105 173  14]\n",
      " [134  72 141 ... 250 182 167]\n",
      " [ 56 216  81 ... 103 109 232]\n",
      " ...\n",
      " [ 97   8 240 ... 195  42  43]\n",
      " [178 134 216 ...  27 153 122]\n",
      " [ 15 223 113 ...  44 183 214]]\n",
      "Sample of attack label: [250  66  82 ... 130  37 210]\n"
     ]
    }
   ],
   "source": [
    "## Our XMEGA unmasked data includes two devices here,\n",
    "## print info of data in device02  of ours\n",
    "\n",
    "attack_d2 = np.load('./our_data/unmasked/device02/PC2_CB2_TDX3_K3_U_20k_0317.npz')\n",
    "tuning_d2 = np.load('./our_data/unmasked/device02/PC2_CB2_TDX3_K3_U_2500_b_0317.npz')\n",
    "attack_label_d2 = np.load('./our_data/device02/Y_attack.npy')\n",
    "\n",
    "print('--------> Dataset information of Ours <--------')\n",
    "print(f\"attributes of attack dataset in device02 includes:{attack_d2.files}\")\n",
    "print(f\"attributes of tuning dataset in device02 includes:{tuning_d2.files}\")\n",
    "print(f\"shape of attack data trace in device02 is {attack_d2['power_trace'].shape}\")\n",
    "print(f\"shape of tuning data trace in device02 is {tuning_d2['power_trace'].shape}\")\n",
    "print(f\"shape of attack plaintext in device02 is {attack_d2['plain_text'].shape}\")\n",
    "print(f\"shape of tuning plaintext in device02 is {tuning_d2['plain_text'].shape}\")\n",
    "print(f\"shape of attack data key in device02 is {attack_d2['key'].shape}\")\n",
    "print(f\"shape of attack label in device02 is {attack_label_d2.shape}, num of class: {max(attack_label_d2)+1}\")\n",
    "\n",
    "\n",
    "print('\\n')\n",
    "print(f\"Sample of attack data: {attack_d2['power_trace']}\")\n",
    "print(f\"Sample of attack key:  {attack_d2['key']} \")\n",
    "print(f\"Sample of attack plaintext: {attack_d2['plain_text']}\")\n",
    "print(f\"Sample of attack label: {attack_label_d2}\")"
   ]
  },
  {
   "cell_type": "markdown",
   "metadata": {},
   "source": [
    "## Our Dataset after Pre-processing"
   ]
  },
  {
   "cell_type": "code",
   "execution_count": 4,
   "metadata": {},
   "outputs": [
    {
     "name": "stdout",
     "output_type": "stream",
     "text": [
      "--------> Dataset information of Preprocessed data of Ours <--------\n",
      "attributes of dataset in one device includes:('Train:trace-label-plaintext', 'Attack:trace-label-plaintext')\n",
      "shape of train data trace in device01 is (200000, 1000)\n",
      "shape of train plaintext in device01 is (200000,)\n",
      "shape of train label in device01 is (200000,), num of class: 256\n",
      "\n",
      "\n",
      "Sample of train data: [[ 0.15722656  0.02050781  0.1484375  ... -0.24804688 -0.09667969\n",
      "  -0.05664062]\n",
      " [ 0.1484375   0.01367188  0.14355469 ... -0.296875   -0.14550781\n",
      "  -0.09277344]\n",
      " [ 0.14453125  0.00390625  0.1328125  ... -0.22070312 -0.07714844\n",
      "  -0.04296875]\n",
      " ...\n",
      " [ 0.14941406  0.01660156  0.14453125 ... -0.18554688 -0.04785156\n",
      "  -0.01660156]\n",
      " [ 0.14648438  0.01074219  0.13964844 ... -0.20996094 -0.0703125\n",
      "  -0.03417969]\n",
      " [ 0.15429688  0.00976562  0.13769531 ... -0.2265625  -0.08789062\n",
      "  -0.05566406]]\n",
      "Sample of train plaintext: [158 187 104 ...  39 209 215]\n",
      "Sample of train label: [213  96  26 ... 254  45 176]\n"
     ]
    }
   ],
   "source": [
    "## pre-processe our dataset, to make the format consistent with dataset of SJTU\n",
    "## print info of data in device01  of ours\n",
    "\n",
    "train_d2 = np.load('./our_data/device01/X_train.npy')\n",
    "train_label_d2 = np.load('./our_data/device01/Y_train.npy')\n",
    "train_plaintext = np.load('./our_data/device01/plaintexts_train.npy')\n",
    "\n",
    "print('--------> Dataset information of Preprocessed data of Ours <--------')\n",
    "print(f\"attributes of dataset in one device includes:{'Train:trace-label-plaintext','Attack:trace-label-plaintext'}\")\n",
    "print(f\"shape of train data trace in device01 is {train_d2.shape}\")\n",
    "print(f\"shape of train plaintext in device01 is {train_plaintext.shape}\")\n",
    "print(f\"shape of train label in device01 is {train_label_d2.shape}, num of class: {max(train_label_d2)+1}\")\n",
    "\n",
    "\n",
    "print('\\n')\n",
    "print(f\"Sample of train data: {train_d2}\")\n",
    "print(f\"Sample of train plaintext: {train_plaintext}\")\n",
    "print(f\"Sample of train label: {train_label_d2}\")"
   ]
  }
 ],
 "metadata": {
  "kernelspec": {
   "display_name": "Python [conda env:sca] *",
   "language": "python",
   "name": "conda-env-sca-py"
  },
  "language_info": {
   "codemirror_mode": {
    "name": "ipython",
    "version": 3
   },
   "file_extension": ".py",
   "mimetype": "text/x-python",
   "name": "python",
   "nbconvert_exporter": "python",
   "pygments_lexer": "ipython3",
   "version": "3.8.8"
  }
 },
 "nbformat": 4,
 "nbformat_minor": 4
}
