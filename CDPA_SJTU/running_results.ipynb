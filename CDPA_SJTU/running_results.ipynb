{
 "metadata": {
  "kernelspec": {
   "display_name": "Python [conda env:sca]",
   "language": "python",
   "name": "conda-env-sca-py"
  },
  "language_info": {
   "codemirror_mode": {
    "name": "ipython",
    "version": 3
   },
   "file_extension": ".py",
   "mimetype": "text/x-python",
   "name": "python",
   "nbconvert_exporter": "python",
   "pygments_lexer": "ipython3",
   "version": "3.8.8"
  },
  "name": ""
 },
 "nbformat": 3,
 "nbformat_minor": 0,
 "worksheets": [
  {
   "cells": [
    {
     "cell_type": "code",
     "collapsed": false,
     "input": [
      "from torchvision import transforms\n",
      "from torch.utils.data import Dataset, DataLoader\n",
      "import torch\n",
      "from torch import optim\n",
      "from torch.autograd import Variable\n",
      "import numpy as np\n",
      "import os\n",
      "import math\n",
      "from torch import nn\n",
      "from sklearn.metrics import confusion_matrix\n",
      "import matplotlib.pyplot as plt  \n",
      "from sklearn import preprocessing\n",
      "import itertools\n",
      "import random\n",
      "os.environ[\"CUDA_VISIBLE_DEVICES\"] = \"0\"\n",
      "%load_ext autotime"
     ],
     "language": "python",
     "metadata": {},
     "outputs": [],
     "prompt_number": 1
    },
    {
     "cell_type": "heading",
     "level": 2,
     "metadata": {},
     "source": [
      "DataLoader"
     ]
    },
    {
     "cell_type": "code",
     "collapsed": false,
     "input": [
      "### handle the dataset\n",
      "class TorchDataset(Dataset):\n",
      "    def __init__(self, trs_file, label_file, trace_num, trace_offset, trace_length):\n",
      "        self.trs_file = trs_file\n",
      "        self.label_file = label_file\n",
      "        self.trace_num = trace_num\n",
      "        self.trace_offset = trace_offset\n",
      "        self.trace_length = trace_length\n",
      "        self.ToTensor = transforms.ToTensor()\n",
      "    def __getitem__(self, i):\n",
      "        index = i % self.trace_num\n",
      "        trace = self.trs_file[index,:]\n",
      "        label = self.label_file[index]\n",
      "        trace = trace[self.trace_offset:self.trace_offset+self.trace_length]\n",
      "        trace = np.reshape(trace,(1,-1))\n",
      "        trace = self.ToTensor(trace)\n",
      "        trace = np.reshape(trace, (1,-1))\n",
      "        label = torch.tensor(label, dtype=torch.long) \n",
      "        return trace.float(), label\n",
      "    def __len__(self):\n",
      "        return self.trace_num\n",
      "    \n",
      "### data loader for training\n",
      "def load_training(batch_size, kwargs):\n",
      "    data = TorchDataset(**kwargs)\n",
      "    train_loader = torch.utils.data.DataLoader(data, batch_size=batch_size, shuffle=True, drop_last=True, num_workers=1, pin_memory=True)\n",
      "    return train_loader\n",
      "\n",
      "### data loader for testing\n",
      "def load_testing(batch_size, kwargs):\n",
      "    data = TorchDataset(**kwargs)\n",
      "    test_loader = torch.utils.data.DataLoader(data, batch_size=batch_size, shuffle=False, drop_last=True, num_workers=1, pin_memory=True)\n",
      "    return test_loader"
     ],
     "language": "python",
     "metadata": {},
     "outputs": [
      {
       "output_type": "stream",
       "stream": "stdout",
       "text": [
        "time: 503 \u00b5s\n"
       ]
      }
     ],
     "prompt_number": 2
    },
    {
     "cell_type": "heading",
     "level": 2,
     "metadata": {},
     "source": [
      "Arrays and Functions"
     ]
    },
    {
     "cell_type": "code",
     "collapsed": false,
     "input": [
      "Sbox = [99, 124, 119, 123, 242, 107, 111, 197, 48, 1, 103, 43, 254, 215, 171, 118, 202, 130, 201, 125, 250, 89, 71,\n",
      "        240, 173, 212, 162, 175, 156, 164, 114, 192, 183, 253, 147, 38, 54, 63, 247, 204, 52, 165, 229, 241, 113, 216,\n",
      "        49, 21, 4, 199, 35, 195, 24, 150, 5, 154, 7, 18, 128, 226, 235, 39, 178, 117, 9, 131, 44, 26, 27, 110, 90, 160,\n",
      "        82, 59, 214, 179, 41, 227, 47, 132, 83, 209, 0, 237, 32, 252, 177, 91, 106, 203, 190, 57, 74, 76, 88, 207, 208,\n",
      "        239, 170, 251, 67, 77, 51, 133, 69, 249, 2, 127, 80, 60, 159, 168, 81, 163, 64, 143, 146, 157, 56, 245, 188,\n",
      "        182, 218, 33, 16, 255, 243, 210, 205, 12, 19, 236, 95, 151, 68, 23, 196, 167, 126, 61, 100, 93, 25, 115, 96,\n",
      "        129, 79, 220, 34, 42, 144, 136, 70, 238, 184, 20, 222, 94, 11, 219, 224, 50, 58, 10, 73, 6, 36, 92, 194, 211,\n",
      "        172, 98, 145, 149, 228, 121, 231, 200, 55, 109, 141, 213, 78, 169, 108, 86, 244, 234, 101, 122, 174, 8, 186,\n",
      "        120, 37, 46, 28, 166, 180, 198, 232, 221, 116, 31, 75, 189, 139, 138, 112, 62, 181, 102, 72, 3, 246, 14, 97,\n",
      "        53, 87, 185, 134, 193, 29, 158, 225, 248, 152, 17, 105, 217, 142, 148, 155, 30, 135, 233, 206, 85, 40, 223, 140,\n",
      "        161, 137, 13, 191, 230, 66, 104, 65, 153, 45, 15, 176, 84, 187, 22]\n",
      "\n",
      "HW_byte = [0, 1, 1, 2, 1, 2, 2, 3, 1, 2, 2, 3, 2, 3, 3, 4, 1, 2, 2, 3, 2, 3, 3, 4, 2, 3, 3, 4, 3, 4, 4, 5, 1, 2, 2,\n",
      "            3, 2, 3, 3, 4, 2, 3, 3, 4, 3, 4, 4, 5, 2, 3, 3, 4, 3, 4, 4, 5, 3, 4, 4, 5, 4, 5, 5, 6, 1, 2, 2, 3, 2, 3,\n",
      "            3, 4, 2, 3, 3, 4, 3, 4, 4, 5, 2, 3, 3, 4, 3, 4, 4, 5, 3, 4, 4, 5, 4, 5, 5, 6, 2, 3, 3, 4, 3, 4, 4, 5, 3,\n",
      "            4, 4, 5, 4, 5, 5, 6, 3, 4, 4, 5, 4, 5, 5, 6, 4, 5, 5, 6, 5, 6, 6, 7, 1, 2, 2, 3, 2, 3, 3, 4, 2, 3, 3, 4,\n",
      "            3, 4, 4, 5, 2, 3, 3, 4, 3, 4, 4, 5, 3, 4, 4, 5, 4, 5, 5, 6, 2, 3, 3, 4, 3, 4, 4, 5, 3, 4, 4, 5, 4, 5, 5,\n",
      "            6, 3, 4, 4, 5, 4, 5, 5, 6, 4, 5, 5, 6, 5, 6, 6, 7, 2, 3, 3, 4, 3, 4, 4, 5, 3, 4, 4, 5, 4, 5, 5, 6, 3, 4,\n",
      "            4, 5, 4, 5, 5, 6, 4, 5, 5, 6, 5, 6, 6, 7, 3, 4, 4, 5, 4, 5, 5, 6, 4, 5, 5, 6, 5, 6, 6, 7, 4, 5, 5, 6, 5,\n",
      "            6, 6, 7, 5, 6, 6, 7, 6, 7, 7, 8]\n",
      "\n",
      "### To train a network \n",
      "def train(epoch, model, freeze_BN = False):\n",
      "    \"\"\"\n",
      "    - epoch : the current epoch\n",
      "    - model : the current model   \n",
      "    - freeze_BN : whether to freeze batch normalization layers\n",
      "    \"\"\"\n",
      "    if freeze_BN:\n",
      "        model.eval() # enter eval mode to freeze batch normalization layers\n",
      "    else:\n",
      "        model.train() # enter training mode \n",
      "    # Instantiate the Iterator\n",
      "    iter_source = iter(source_train_loader)\n",
      "    # get the number of batches\n",
      "    num_iter = len(source_train_loader)\n",
      "    clf_criterion = nn.CrossEntropyLoss()\n",
      "    # train on each batch of data\n",
      "    for i in range(1, num_iter+1):\n",
      "        source_data, source_label = iter_source.next()\n",
      "        if cuda:\n",
      "            source_data, source_label = source_data.cuda(), source_label.cuda()\n",
      "        source_data, source_label = Variable(source_data), Variable(source_label)\n",
      "        optimizer.zero_grad()\n",
      "        source_preds = model(source_data)\n",
      "        preds = source_preds.data.max(1, keepdim=True)[1]\n",
      "        correct_batch = preds.eq(source_label.data.view_as(preds)).sum()\n",
      "        loss = clf_criterion(source_preds, source_label)\n",
      "        # optimzie the cross-entropy loss\n",
      "        loss.backward()\n",
      "        optimizer.step()\n",
      "        if i % log_interval == 0:\n",
      "            print('Train Epoch {}: [{}/{} ({:.0f}%)]\\tLoss: {:.6f}\\tAcc: {:.6f}%'.format(\n",
      "                epoch, i * len(source_data), len(source_train_loader) * batch_size,\n",
      "                100. * i / len(source_train_loader), loss.data, float(correct_batch) * 100. /batch_size))\n",
      "            \n",
      "### validation \n",
      "def validation(model):\n",
      "    # enter evaluation mode\n",
      "    model.eval()\n",
      "    valid_loss = 0\n",
      "    # the number of correct prediction\n",
      "    correct_valid = 0\n",
      "    clf_criterion = nn.CrossEntropyLoss()\n",
      "    for data, label in source_valid_loader:\n",
      "        if cuda:\n",
      "            data, label = data.cuda(), label.cuda()\n",
      "        data, label = Variable(data), Variable(label)\n",
      "        valid_preds = model(data)\n",
      "        # sum up batch loss\n",
      "        valid_loss += clf_criterion(valid_preds, label) \n",
      "        # get the index of the max probability\n",
      "        pred = valid_preds.data.max(1)[1] \n",
      "        # get the number of correct prediction\n",
      "        correct_valid += pred.eq(label.data.view_as(pred)).cpu().sum()\n",
      "    valid_loss /= len(source_valid_loader)\n",
      "    valid_acc = 100. * correct_valid / len(source_valid_loader.dataset)\n",
      "    print('Validation: loss: {:.4f}, accuracy: {}/{} ({:.6f}%)'.format(\n",
      "        valid_loss.data, correct_valid, len(source_valid_loader.dataset),\n",
      "        valid_acc))\n",
      "    return valid_loss, valid_acc\n",
      "\n",
      "### test/attack\n",
      "def test(model, device_id, disp_GE=True,disp_MAT=True, model_flag='pretrained'):\n",
      "    \"\"\"\n",
      "    - model : the current model \n",
      "    - device_id : id of the tested device\n",
      "    - disp_GE : whether to attack/calculate guessing entropy (GE)\n",
      "    - model_flag : a string for naming GE result\n",
      "    \"\"\"\n",
      "    # enter evaluation mode\n",
      "    model.eval()\n",
      "    test_loss = 0\n",
      "    # the number of correct prediction\n",
      "    correct = 0\n",
      "    epoch = 0\n",
      "    clf_criterion = nn.CrossEntropyLoss()\n",
      "    if device_id == source_device_id: # attack on the source domain\n",
      "        test_num = source_test_num\n",
      "        test_loader = source_test_loader\n",
      "        real_key = real_key_01\n",
      "    else: # attack on the target domain\n",
      "        test_num = target_test_num\n",
      "        test_loader = target_test_loader\n",
      "        real_key = real_key_02\n",
      "    # Initialize the prediction and label lists(tensors)\n",
      "    predlist=torch.zeros(0,dtype=torch.long, device='cpu')\n",
      "    lbllist=torch.zeros(0,dtype=torch.long, device='cpu')\n",
      "    test_preds_all = torch.zeros((test_num, class_num), dtype=torch.float, device='cpu')\n",
      "    for data, label in test_loader:\n",
      "        if cuda:\n",
      "            data, label = data.cuda(), label.cuda()\n",
      "        data, label = Variable(data), Variable(label)\n",
      "        test_preds = model(data)\n",
      "        # sum up batch loss\n",
      "        test_loss += clf_criterion(test_preds, label) \n",
      "        # get the index of the max probability\n",
      "        pred = test_preds.data.max(1)[1]\n",
      "        # get the softmax results for attack/showing guessing entropy\n",
      "        softmax = nn.Softmax(dim=1)\n",
      "        test_preds_all[epoch*batch_size:(epoch+1)*batch_size, :] =softmax(test_preds)\n",
      "        # get the predictions (predlist) and real labels (lbllist) for showing confusion matrix\n",
      "        predlist=torch.cat([predlist,pred.view(-1).cpu()])\n",
      "        lbllist=torch.cat([lbllist,label.view(-1).cpu()])\n",
      "        # get the number of correct prediction\n",
      "        correct += pred.eq(label.data.view_as(pred)).cpu().sum()\n",
      "        epoch += 1\n",
      "    test_loss /= len(test_loader)\n",
      "    print('Target test loss: {:.4f}, Target test accuracy: {}/{} ({:.2f}%)\\n'.format(\n",
      "        test_loss.data, correct, len(test_loader.dataset),\n",
      "        100. * correct / len(test_loader.dataset)))\n",
      "    if disp_MAT:\n",
      "        # get the confusion matrix\n",
      "        confusion_mat = confusion_matrix(lbllist.numpy(), predlist.numpy())\n",
      "        # show the confusion matrix\n",
      "        plot_sonfusion_matrix(confusion_mat, classes = range(class_num),model_flag=model_flag)\n",
      "    # show the guessing entropy and success rate\n",
      "    if disp_GE:\n",
      "        plot_guessing_entropy(test_preds_all.numpy(), real_key, device_id, model_flag)\n",
      "\n",
      "### fine-tune a pre-trained model\n",
      "def CDP_train(epoch, model):\n",
      "    \"\"\"\n",
      "    - epoch : the current epoch\n",
      "    - model : the current model  \n",
      "    \"\"\"\n",
      "    # enter evaluation mode to freeze the BN and dropout (if have) layer when fine-tuning\n",
      "    model.eval()\n",
      "    # Instantiate the Iterator for source tprofiling traces\n",
      "    iter_source = iter(source_train_loader)\n",
      "    # Instantiate the Iterator for target traces\n",
      "    iter_target = iter(target_finetune_loader)\n",
      "    num_iter_target = len(target_finetune_loader)\n",
      "    finetune_trace_all = torch.zeros((num_iter_target, batch_size, 1, trace_length))\n",
      "    for i in range(num_iter_target):\n",
      "        finetune_trace_all[i,:,:,:], _ = iter_target.next()\n",
      "    # get the number of batches\n",
      "    num_iter = len(source_train_loader)\n",
      "    clf_criterion = nn.CrossEntropyLoss()\n",
      "    # train on each batch of data\n",
      "    for i in range(1, num_iter+1):\n",
      "        # get traces and labels for source domain\n",
      "        source_data, source_label = iter_source.next()\n",
      "        # get traces for target domain\n",
      "        target_data = finetune_trace_all[(i-1)%num_iter_target,:,:,:]\n",
      "        if cuda:\n",
      "            source_data, source_label = source_data.cuda(), source_label.cuda()\n",
      "            target_data = target_data.cuda()\n",
      "        source_data, source_label = Variable(source_data), Variable(source_label)\n",
      "        target_data = Variable(target_data)\n",
      "        optimizer.zero_grad()\n",
      "        # get predictions and MMD loss\n",
      "        source_preds, mmd_loss = model(source_data, target_data)\n",
      "        preds = source_preds.data.max(1, keepdim=True)[1]\n",
      "        # get classification loss on source doamin\n",
      "        clf_loss = clf_criterion(source_preds, source_label)\n",
      "        # the total loss function\n",
      "        loss = clf_loss + lambda_*mmd_loss\n",
      "        # optimzie the total loss\n",
      "        loss.backward()\n",
      "        optimizer.step()\n",
      "        if i % log_interval == 0:\n",
      "            print('Train Epoch {}: [{}/{} ({:.0f}%)]\\ttotal_loss: {:.6f}\\tclf_loss: {:.6f}\\tmmd_loss: {:.6f}'.format(\n",
      "                epoch, i * len(source_data), len(source_train_loader) * batch_size,\n",
      "                100. * i / len(source_train_loader), loss.data, clf_loss.data, mmd_loss.data))\n",
      "\n",
      "### Validation for fine-tuning phase          \n",
      "def CDP_validation(model):\n",
      "    # enter evaluation mode\n",
      "    clf_criterion = nn.CrossEntropyLoss()\n",
      "    model.eval()\n",
      "    # Instantiate the Iterator for source validation traces\n",
      "    iter_source = iter(source_valid_loader)\n",
      "    # Instantiate the Iterator for target traces\n",
      "    iter_target = iter(target_finetune_loader)\n",
      "    num_iter_target = len(target_finetune_loader)\n",
      "    finetune_trace_all = torch.zeros((num_iter_target, batch_size, 1, trace_length))\n",
      "    for i in range(num_iter_target):\n",
      "        finetune_trace_all[i,:,:,:], _ = iter_target.next()\n",
      "    # get the number of batches\n",
      "    num_iter = len(source_valid_loader)\n",
      "    # the classification loss\n",
      "    total_clf_loss = 0\n",
      "    # the MMD loss\n",
      "    total_mmd_loss = 0\n",
      "    # the total loss\n",
      "    total_loss = 0\n",
      "    # the number of correct prediction\n",
      "    correct = 0\n",
      "    for i in range(1, num_iter+1):\n",
      "        # get traces and labels for source domain\n",
      "        source_data, source_label = iter_source.next()\n",
      "        # get traces for target domain\n",
      "        target_data = finetune_trace_all[(i-1)%num_iter_target,:,:,:]\n",
      "        if cuda:\n",
      "            source_data, source_label = source_data.cuda(), source_label.cuda()\n",
      "            target_data = target_data.cuda()\n",
      "        source_data, source_label = Variable(source_data), Variable(source_label)\n",
      "        target_data = Variable(target_data)\n",
      "        valid_preds, mmd_loss = model(source_data, target_data)\n",
      "        clf_loss = clf_criterion(valid_preds, source_label) \n",
      "        # sum up batch loss\n",
      "        loss = clf_loss + lambda_*mmd_loss\n",
      "        total_clf_loss += clf_loss\n",
      "        total_mmd_loss += mmd_loss\n",
      "        total_loss += loss\n",
      "        # get the index of the max probability\n",
      "        pred = valid_preds.data.max(1)[1] \n",
      "        correct += pred.eq(source_label.data.view_as(pred)).cpu().sum()\n",
      "    total_loss /= len(source_valid_loader)\n",
      "    total_clf_loss /= len(source_valid_loader)\n",
      "    total_mmd_loss /= len(source_valid_loader)\n",
      "    print('Validation: total_loss: {:.4f}, clf_loss: {:.4f}, mmd_loss: {:.4f}, accuracy: {}/{} ({:.2f}%)'.format(\n",
      "        total_loss.data, total_clf_loss, total_mmd_loss, correct, len(source_valid_loader.dataset),\n",
      "        100. * correct / len(source_valid_loader.dataset)))\n",
      "    return total_loss\n",
      "\n",
      "### kernel function\n",
      "def guassian_kernel(source, target, kernel_mul=2.0, kernel_num=5, fix_sigma=None):\n",
      "    \"\"\"\n",
      "    - source : source data\n",
      "    - target : target data\n",
      "    - kernel_mul : multiplicative step of bandwidth (sigma)\n",
      "    - kernel_num : the number of guassian kernels\n",
      "    - fix_sigma : use a fix value of bandwidth\n",
      "    \"\"\"\n",
      "    n_samples = int(source.size()[0])+int(target.size()[0])\n",
      "    total = torch.cat([source, target], dim=0)\n",
      "    total0 = total.unsqueeze(0).expand(int(total.size(0)), \\\n",
      "                                       int(total.size(0)), \\\n",
      "                                       int(total.size(1)))\n",
      "    total1 = total.unsqueeze(1).expand(int(total.size(0)), \\\n",
      "                                       int(total.size(0)), \\\n",
      "                                       int(total.size(1)))\n",
      "    # |x-y|\n",
      "    L2_distance = ((total0-total1)**2).sum(2) \n",
      "    \n",
      "#     ## coustmoized by HL\n",
      "#     print(f\"Ls-distance {L2_distance}\")\n",
      "    \n",
      "    # bandwidth\n",
      "    if fix_sigma:\n",
      "        bandwidth = fix_sigma\n",
      "    else:\n",
      "        bandwidth = torch.sum(L2_distance.data) / (n_samples**2-n_samples)\n",
      "    \n",
      "#     ## coustmoized by HL\n",
      "#     print(f\"bandwidth {bandwidth}\")\n",
      "    \n",
      "    # take the current bandwidth as the median value, and get a list of bandwidths (for example, when bandwidth is 1, we get [0.25,0.5,1,2,4]). \n",
      "    bandwidth /= kernel_mul ** (kernel_num // 2)\n",
      "    bandwidth_list = [bandwidth * (kernel_mul**i) for i in range(kernel_num)]\n",
      "\n",
      "    # exp(-|x-y|/bandwidth)\n",
      "    kernel_val = [torch.exp(-L2_distance / bandwidth_temp) for \\\n",
      "                  bandwidth_temp in bandwidth_list]\n",
      "    \n",
      "#     ## coustmoized by HL\n",
      "#     print(f\"kernel_val {kernel_val}\")\n",
      "    \n",
      "    # return the final kernel matrix\n",
      "    return sum(kernel_val)\n",
      "\n",
      "### MMD loss function based on guassian kernels\n",
      "def mmd_rbf(source, target, kernel_mul=2.0, kernel_num=5, fix_sigma=None):\n",
      "    \"\"\"\n",
      "    - source : source data\n",
      "    - target : target data\n",
      "    - kernel_mul : multiplicative step of bandwidth (sigma)\n",
      "    - kernel_num : the number of guassian kernels\n",
      "    - fix_sigma : use a fix value of bandwidth\n",
      "    \"\"\"\n",
      "    loss = 0.0\n",
      "    batch_size = int(source.size()[0])\n",
      "    kernels = guassian_kernel(source, target,kernel_mul=kernel_mul,kernel_num=kernel_num, fix_sigma=fix_sigma)\n",
      "    XX = kernels[:batch_size, :batch_size] # Source<->Source\n",
      "    YY = kernels[batch_size:, batch_size:] # Target<->Target\n",
      "    XY = kernels[:batch_size, batch_size:] # Source<->Target\n",
      "    YX = kernels[batch_size:, :batch_size] # Target<->Source\n",
      "    loss = torch.mean(XX + YY - XY -YX)\n",
      "    \n",
      "#     ## coustmoized by HL\n",
      "#     print(\"kerneks {kernels}\")\n",
      "#     print(f\"loss {loss}\")\n",
      "    \n",
      "    return loss\n",
      "\n",
      "### show the guessing entropy and success rate\n",
      "def plot_guessing_entropy(preds, real_key, device_id, model_flag):\n",
      "    \"\"\"\n",
      "    - preds : the probability for each class (n*256 for a byte, n*9 for Hamming weight)\n",
      "    - real_key : the key of the target device\n",
      "    - device_id : id of the target device\n",
      "    - model_flag : a string for naming GE result\n",
      "    \"\"\"\n",
      "    # GE/SR is averaged over 100 attacks \n",
      "    num_averaged = 100\n",
      "    # max trace num for attack\n",
      "    trace_num_max = 500\n",
      "    guessing_entropy = np.zeros((num_averaged, trace_num_max))\n",
      "    success_flag = np.zeros((num_averaged, trace_num_max))\n",
      "    if device_id == target_device_id: # attack on the target domain\n",
      "        plaintext = plaintexts_target\n",
      "    elif device_id == source_device_id: # attack on the source domain\n",
      "        plaintext = plaintexts_source\n",
      "    # attack multiples times for average\n",
      "    for time in range(num_averaged):\n",
      "        # select the attack traces randomly\n",
      "        random_index = list(range(plaintext.shape[0]))\n",
      "        \n",
      "#         ## customized by HL\n",
      "#         print(f\"random_index shape {len(random_index)}, max value {max(random_index)}, min value {min(random_index)}\")\n",
      "        \n",
      "        random.shuffle(random_index)\n",
      "        random_index = random_index[0:trace_num_max]\n",
      "        \n",
      "#         ## customized by HL\n",
      "#         print(f\"random_index shape after slicing {len(random_index)}, max value {max(random_index)}, min value {min(random_index)}\")\n",
      "        \n",
      "        # initialize score matrix\n",
      "        score_mat = np.zeros((trace_num_max, 256))\n",
      "        for key_guess in range(0, 256):\n",
      "            for i in range(0, trace_num_max):\n",
      "                initialState = plaintext[random_index[i]] ^ key_guess\n",
      "                sout = Sbox[initialState]\n",
      "                if labeling_method == 'identity':\n",
      "                    label = sout\n",
      "                elif labeling_method == 'hw':\n",
      "                    label = HW_byte[sout]\n",
      "                score_mat[i, key_guess] = preds[random_index[i], label]\n",
      "        score_mat = np.log(score_mat + 1e-40)\n",
      "        \n",
      "#         ## customized by HL\n",
      "#         print(f\"score_mat {score_mat}\")\n",
      "        \n",
      "        for i in range(0, trace_num_max):\n",
      "            log_likelihood = np.sum(score_mat[0:i+1,:], axis=0)\n",
      "            ranked = np.argsort(log_likelihood)[::-1]\n",
      "            guessing_entropy[time,i] =  list(ranked).index(real_key)\n",
      "            if list(ranked).index(real_key) == 0:\n",
      "                    success_flag[time, i] = 1\n",
      "    guessing_entropy = np.mean(guessing_entropy,axis=0)\n",
      "    plt.figure(figsize=(12,4))\n",
      "    plt.subplot(1, 2, 1)\n",
      "    p1, = plt.plot(guessing_entropy[0:trace_num_max],color='red')\n",
      "    plt.xlabel('Number of trace')\n",
      "    plt.ylabel('Guessing entropy')\n",
      "    #np.save('./results/entropy_'+ labeling_method + '_{}_to_{}_'.format(source_device_id, device_id) + model_flag, guessing_entropy)\n",
      "    plt.subplot(1, 2, 2)       \n",
      "    success_flag = np.sum(success_flag, axis=0)\n",
      "    success_rate = success_flag/num_averaged \n",
      "    p2, = plt.plot(success_rate[0:trace_num_max], color='red')\n",
      "    plt.xlabel('Number of trace')\n",
      "    plt.ylabel('Success rate')\n",
      "    plt.savefig('./results/ge_%s.eps' % model_flag)\n",
      "    plt.show()\n",
      "    #np.save('./results/success_rate_' + labeling_method + '_{}_to_{}_'.format(source_device_id, device_id) + model_flag, success_rate)\n",
      "\n",
      "### show the confusion matrix \n",
      "def plot_sonfusion_matrix(cm, classes, normalize=False, title='Confusion matrix',cmap=plt.cm.Blues,model_flag=None):\n",
      "    plt.figure(figsize=(8,6))\n",
      "    plt.imshow(cm, interpolation='nearest', cmap=cmap)\n",
      "    plt.title(title)\n",
      "    plt.colorbar()\n",
      "    tick_marks = np.arange(len(classes))\n",
      "    plt.xticks(tick_marks, classes, rotation=45)\n",
      "    plt.yticks(tick_marks, classes)\n",
      "    if normalize:\n",
      "        cm = cm.astype('float')/cm.sum(axis=1)[:,np.newaxis]\n",
      "    thresh = cm.max()/2.0\n",
      "    for i,j in itertools.product(range(cm.shape[0]), range(cm.shape[1])):\n",
      "        plt.text(j,i,cm[i,j], horizontalalignment='center',color='white' if cm[i,j] > thresh else 'black')   \n",
      "    plt.ylim((len(classes)-0.5, -0.5))\n",
      "    plt.tight_layout()\n",
      "    plt.ylabel('True label')\n",
      "    plt.xlabel('Predict label')\n",
      "    plt.savefig('./results/cm_%s.eps' %model_flag)\n",
      "    plt.show()"
     ],
     "language": "python",
     "metadata": {},
     "outputs": [
      {
       "output_type": "stream",
       "stream": "stdout",
       "text": [
        "time: 22.8 ms\n"
       ]
      }
     ],
     "prompt_number": 3
    },
    {
     "cell_type": "heading",
     "level": 2,
     "metadata": {},
     "source": [
      "Setups"
     ]
    },
    {
     "cell_type": "code",
     "collapsed": false,
     "input": [
      "source_device_id = 1\n",
      "target_device_id = 2\n",
      "real_key_01 = 0x2b # key of the source domain\n",
      "real_key_02 = 0x70 # key of the target domain\n",
      "lambda_ = 0.1 # Penalty coefficient\n",
      "labeling_method = 'hw' # labeling of trace, default 'hw'\n",
      "preprocess = 'horizontal_standardization' # preprocess method, default: 'horizontal_standardization'\n",
      "batch_size = 100\n",
      "total_epoch = 100  # default 100\n",
      "finetune_epoch = 15 # epoch number for fine-tuning\n",
      "lr = 0.001 # learning rate\n",
      "log_interval = 100 # epoch interval to log training information\n",
      "train_num = 180000\n",
      "valid_num = 20000\n",
      "source_test_num = 40000\n",
      "target_finetune_num = 2500\n",
      "target_test_num = 20000\n",
      "trace_offset = 0\n",
      "trace_length = 1000   ##default 500\n",
      "source_file_path = './our_data/device01/'\n",
      "target_file_path = './our_data/device02/'\n",
      "no_cuda =False\n",
      "cuda = not no_cuda and torch.cuda.is_available()\n",
      "seed = 8\n",
      "torch.manual_seed(seed)\n",
      "if cuda:\n",
      "    torch.cuda.manual_seed(seed)\n",
      "if labeling_method == 'identity':\n",
      "    class_num = 256\n",
      "elif labeling_method == 'hw':\n",
      "    class_num = 9\n",
      "    \n",
      "# to load traces and labels\n",
      "X_train_source = np.load(source_file_path + 'X_train.npy')\n",
      "Y_train_source = np.load(source_file_path + 'Y_train_hw.npy')\n",
      "X_attack_source = np.load(source_file_path + 'X_attack.npy')\n",
      "Y_attack_source = np.load(source_file_path + 'Y_attack_hw.npy')\n",
      "X_attack_target = np.load(target_file_path + 'X_attack.npy')\n",
      "Y_attack_target = np.load(target_file_path + 'Y_attack_hw.npy')\n",
      "## customized by HL\n",
      "X_tuning_target = np.load(target_file_path + 'X_tuning.npy')\n",
      "Y_tuning_target = np.load(target_file_path + 'Y_tuning_hw.npy')\n",
      "\n",
      "# to load plaintexts\n",
      "plaintexts_source = np.load(source_file_path + 'plaintexts_attack.npy')\n",
      "plaintexts_target = np.load(target_file_path + 'plaintexts_attack.npy')\n",
      "# plaintexts_target = plaintexts_target[target_finetune_num:target_finetune_num+target_test_num]\n",
      "\n",
      "\n",
      "# preprocess of traces\n",
      "if preprocess == 'horizontal_standardization':\n",
      "    mn = np.repeat(np.mean(X_train_source, axis=1, keepdims=True), X_train_source.shape[1], axis=1)\n",
      "    std = np.repeat(np.std(X_train_source, axis=1, keepdims=True), X_train_source.shape[1], axis=1)\n",
      "    X_train_source = (X_train_source - mn)/std\n",
      "\n",
      "    mn = np.repeat(np.mean(X_attack_source, axis=1, keepdims=True), X_attack_source.shape[1], axis=1)\n",
      "    std = np.repeat(np.std(X_attack_source, axis=1, keepdims=True), X_attack_source.shape[1], axis=1)\n",
      "    X_attack_source = (X_attack_source - mn)/std\n",
      "    \n",
      "    mn = np.repeat(np.mean(X_attack_target, axis=1, keepdims=True), X_attack_target.shape[1], axis=1)\n",
      "    std = np.repeat(np.std(X_attack_target, axis=1, keepdims=True), X_attack_target.shape[1], axis=1)\n",
      "    X_attack_target = (X_attack_target - mn)/std  \n",
      "    \n",
      "    mn = np.repeat(np.mean(X_tuning_target, axis=1, keepdims=True), X_tuning_target.shape[1], axis=1)\n",
      "    std = np.repeat(np.std(X_tuning_target, axis=1, keepdims=True), X_tuning_target.shape[1], axis=1)\n",
      "    X_tuning_target = (X_tuning_target - mn)/std\n",
      "    \n",
      "#     ## customized by HL\n",
      "#     print(f\"{preprocess} pre-processed training source data: {X_train_source}\")\n",
      "#     print(f\"{preprocess} pre-processed attacking target data: {X_attack_target}\")\n",
      "    \n",
      "elif preprocess == 'horizontal_scaling':\n",
      "    lower, upper = -1,1 # default, lower=-1, upper=1\n",
      "    scaler = preprocessing.MinMaxScaler(feature_range=(lower, upper)).fit(X_train_source.T)\n",
      "    X_train_source = scaler.transform(X_train_source.T).T\n",
      "\n",
      "    scaler = preprocessing.MinMaxScaler(feature_range=(lower, upper)).fit(X_attack_source.T)\n",
      "    X_attack_source = scaler.transform(X_attack_source.T).T\n",
      "    \n",
      "    scaler = preprocessing.MinMaxScaler(feature_range=(lower, upper)).fit(X_attack_target.T)\n",
      "    X_attack_target = scaler.transform(X_attack_target.T).T\n",
      "    \n",
      "    scaler = preprocessing.MinMaxScaler(feature_range=(lower, upper)).fit(X_tuning_target.T)\n",
      "    X_tuning_target = scaler.transform(X_tuning_target.T).T\n",
      "\n",
      "#     ## customized by HL\n",
      "#     print(f\"{preprocess} pre-processed training source data: {X_train_source}\")\n",
      "#     print(f\"{preprocess} pre-processed attacking target data: {X_attack_target}\")\n",
      "    \n",
      "    \n",
      "# parameters of data loader\n",
      "kwargs_source_train = {\n",
      "        'trs_file': X_train_source[0:train_num,:],\n",
      "        'label_file': Y_train_source[0:train_num],\n",
      "        'trace_num':train_num,\n",
      "        'trace_offset':trace_offset,\n",
      "        'trace_length':trace_length,\n",
      "}\n",
      "kwargs_source_valid = {\n",
      "        'trs_file': X_train_source[train_num:train_num+valid_num,:],\n",
      "        'label_file': Y_train_source[train_num:train_num+valid_num],\n",
      "        'trace_num':valid_num,\n",
      "        'trace_offset':trace_offset,\n",
      "        'trace_length':trace_length,\n",
      "}\n",
      "kwargs_source_test = {\n",
      "        'trs_file': X_attack_source,\n",
      "        'label_file': Y_attack_source,\n",
      "        'trace_num':source_test_num,\n",
      "        'trace_offset':trace_offset,\n",
      "        'trace_length':trace_length,\n",
      "}\n",
      "# kwargs_target_finetune = {\n",
      "#         'trs_file': X_attack_target[0:target_finetune_num,:],\n",
      "#         'label_file': Y_attack_target[0:target_finetune_num],\n",
      "#         'trace_num':target_finetune_num,\n",
      "#         'trace_offset':trace_offset,\n",
      "#         'trace_length':trace_length,\n",
      "# }\n",
      "# kwargs_target = {\n",
      "#         'trs_file': X_attack_target[target_finetune_num:target_finetune_num+target_test_num, :],\n",
      "#         'label_file': Y_attack_target[target_finetune_num:target_finetune_num+target_test_num],\n",
      "#         'trace_num':target_test_num,\n",
      "#         'trace_offset':trace_offset,\n",
      "#         'trace_length':trace_length,\n",
      "# }\n",
      "## customized by HL\n",
      "kwargs_target_finetune = {\n",
      "        'trs_file': X_tuning_target,\n",
      "        'label_file': Y_tuning_target,\n",
      "        'trace_num':target_finetune_num,\n",
      "        'trace_offset':trace_offset,\n",
      "        'trace_length':trace_length,\n",
      "}\n",
      "kwargs_target = {\n",
      "        'trs_file': X_attack_target,\n",
      "        'label_file': Y_attack_target,\n",
      "        'trace_num':target_test_num,\n",
      "        'trace_offset':trace_offset,\n",
      "        'trace_length':trace_length,\n",
      "}\n",
      "source_train_loader = load_training(batch_size, kwargs_source_train)\n",
      "source_valid_loader = load_training(batch_size, kwargs_source_valid)\n",
      "source_test_loader = load_testing(batch_size, kwargs_source_test)\n",
      "target_finetune_loader = load_training(batch_size, kwargs_target_finetune)\n",
      "target_test_loader = load_testing(batch_size, kwargs_target)\n",
      "print('Load data complete!')"
     ],
     "language": "python",
     "metadata": {},
     "outputs": [
      {
       "output_type": "stream",
       "stream": "stdout",
       "text": [
        "Load data complete!\n",
        "time: 5.03 s\n"
       ]
      }
     ],
     "prompt_number": 4
    },
    {
     "cell_type": "heading",
     "level": 2,
     "metadata": {},
     "source": [
      "Models"
     ]
    },
    {
     "cell_type": "code",
     "collapsed": false,
     "input": [
      "### the pre-trained model\n",
      "class Net(nn.Module):\n",
      "    def __init__(self, num_classes=class_num):\n",
      "        super(Net, self).__init__()\n",
      "        # the encoder part\n",
      "        self.features = nn.Sequential(\n",
      "            nn.Conv1d(1, 16, kernel_size=1),\n",
      "            nn.SELU(),\n",
      "            nn.AvgPool1d(kernel_size=2, stride=2),\n",
      "            nn.Conv1d(16, 32, kernel_size=50),\n",
      "            nn.SELU(),\n",
      "            nn.AvgPool1d(kernel_size=50, stride=50),\n",
      "            nn.Conv1d(32, 64, kernel_size=3),\n",
      "            nn.SELU(),\n",
      "            nn.AvgPool1d(kernel_size=2, stride=2),\n",
      "            nn.Flatten()\n",
      "        )\n",
      "        # the fully-connected layer 1 (inputsize=500-->(batchsize,64); inputsize=1000-->(batchsize,192))\n",
      "        self.classifier_1 = nn.Sequential(\n",
      "            nn.Linear(192, 20),\n",
      "            nn.ReLU(inplace=True),\n",
      "        )\n",
      "        # the output layer\n",
      "        self.final_classifier = nn.Sequential(\n",
      "            nn.Linear(20, num_classes)\n",
      "        )\n",
      "\n",
      "    # how the network runs\n",
      "    def forward(self, input):\n",
      "        x = self.features(input)\n",
      "        x = x.view(x.size(0), -1)\n",
      "        x = self.classifier_1(x)\n",
      "        output = self.final_classifier(x)\n",
      "        return output\n",
      "\n",
      "### the fine-tuning model\n",
      "class CDP_Net(nn.Module):\n",
      "    def __init__(self, num_classes=class_num):\n",
      "        super(CDP_Net, self).__init__()\n",
      "        # the encoder part\n",
      "        self.features = nn.Sequential(\n",
      "            nn.Conv1d(1, 16, kernel_size=1),\n",
      "            nn.SELU(),\n",
      "            nn.AvgPool1d(kernel_size=2, stride=2),\n",
      "            nn.Conv1d(16, 32, kernel_size=50),\n",
      "            nn.SELU(),\n",
      "            nn.AvgPool1d(kernel_size=50, stride=50),\n",
      "            nn.Conv1d(32, 64, kernel_size=3),\n",
      "            nn.SELU(),\n",
      "            nn.AvgPool1d(kernel_size=2, stride=2),\n",
      "            nn.Flatten()\n",
      "        )\n",
      "        # the fully-connected layer 1\n",
      "        self.classifier_1 = nn.Sequential(\n",
      "            nn.Linear(192, 20),\n",
      "            nn.ReLU(inplace=True),\n",
      "        )\n",
      "        # the output layer\n",
      "        self.final_classifier = nn.Sequential(\n",
      "            nn.Linear(20, num_classes)\n",
      "        )\n",
      "        \n",
      "    # how the network runs\n",
      "    def forward(self, source, target):\n",
      "        mmd_loss = 0\n",
      "        #source data flow\n",
      "        source = self.features(source)\n",
      "        source_0 = source.view(source.size(0), -1)\n",
      "        source_1 = self.classifier_1(source_0)\n",
      "        \n",
      "        #target data flow\n",
      "        target = self.features(target)\n",
      "        target = target.view(target.size(0), -1)\n",
      "        mmd_loss += mmd_rbf(source_0, target)\n",
      "        target = self.classifier_1(target)\n",
      "        mmd_loss += mmd_rbf(source_1, target)\n",
      "        \n",
      "        result = self.final_classifier(source_1)\n",
      "        return result, mmd_loss"
     ],
     "language": "python",
     "metadata": {},
     "outputs": [
      {
       "output_type": "stream",
       "stream": "stdout",
       "text": [
        "time: 860 \u00b5s\n"
       ]
      }
     ],
     "prompt_number": 5
    },
    {
     "cell_type": "heading",
     "level": 2,
     "metadata": {},
     "source": [
      "Train a pre-trained model if needed"
     ]
    },
    {
     "cell_type": "code",
     "collapsed": false,
     "input": [
      "pre_trained = False"
     ],
     "language": "python",
     "metadata": {},
     "outputs": [
      {
       "output_type": "stream",
       "stream": "stdout",
       "text": [
        "time: 145 ms\n"
       ]
      }
     ],
     "prompt_number": 6
    },
    {
     "cell_type": "code",
     "collapsed": false,
     "input": [
      "if pre_trained:\n",
      "    # create a network \n",
      "    pretrained_model = Net(num_classes=class_num)\n",
      "    print('Construct model complete')\n",
      "    if cuda:\n",
      "        pretrained_model.cuda()\n",
      "    # initiate a big enough loss\n",
      "    min_loss = 1000\n",
      "    optimizer = optim.Adam([\n",
      "        {'params': pretrained_model.features.parameters()},\n",
      "        {'params': pretrained_model.classifier_1.parameters()},\n",
      "        {'params': pretrained_model.final_classifier.parameters()}\n",
      "    ], lr=lr)\n",
      "    # start training\n",
      "    for epoch in range(1,total_epoch+1):\n",
      "        print(f'Train Epoch {epoch}:')\n",
      "        train(epoch,pretrained_model,freeze_BN=False)\n",
      "        with torch.no_grad():\n",
      "            valid_loss,valid_acc = validation(pretrained_model)\n",
      "            if valid_loss < min_loss:\n",
      "                min_loss = valid_loss\n",
      "                torch.save({\n",
      "                'epoch': epoch,\n",
      "                'model_state_dict': pretrained_model.state_dict(),\n",
      "                'optimizer_state_dict': optimizer.state_dict()\n",
      "                }, './our_models/pre-trained_device{}.pth'.format(source_device_id))\n",
      "    torch.save({\n",
      "        'epoch': epoch,\n",
      "        'model_state_dict': pretrained_model.state_dict(),\n",
      "        'optimizer_state_dict': optimizer.state_dict()\n",
      "        }, './our_models/last_pre-trained_device{}.pth'.format(source_device_id))\n",
      "    "
     ],
     "language": "python",
     "metadata": {},
     "outputs": [
      {
       "output_type": "stream",
       "stream": "stdout",
       "text": [
        "time: 45.2 ms\n"
       ]
      }
     ],
     "prompt_number": 7
    },
    {
     "cell_type": "heading",
     "level": 2,
     "metadata": {},
     "source": [
      "Performance of the pre-trained model"
     ]
    },
    {
     "cell_type": "code",
     "collapsed": false,
     "input": [
      "# create a network\n",
      "model = Net(num_classes=class_num)\n",
      "print('Construct model complete')\n",
      "if cuda:\n",
      "    model.cuda()\n",
      "    \n",
      "# load the pre-trained network\n",
      "checkpoint = torch.load('./our_models/pre-trained_device{}.pth'.format(source_device_id))\n",
      "pretrained_dict = checkpoint['model_state_dict']\n",
      "model.load_state_dict(pretrained_dict)\n",
      "\n",
      "# evaluate the pre-trained model on source and target domain\n",
      "with torch.no_grad():\n",
      "    print('Result on source device:')\n",
      "    test(model, source_device_id,disp_GE=True,disp_MAT=True, model_flag='pretrained_source')\n",
      "    print('Result on target device:')\n",
      "    test(model, target_device_id,disp_GE=True, disp_MAT=True,model_flag='pretrained_target')"
     ],
     "language": "python",
     "metadata": {},
     "outputs": [
      {
       "output_type": "stream",
       "stream": "stdout",
       "text": [
        "Construct model complete\n"
       ]
      },
      {
       "output_type": "stream",
       "stream": "stdout",
       "text": [
        "Result on source device:\n"
       ]
      },
      {
       "output_type": "stream",
       "stream": "stdout",
       "text": [
        "Target test loss: 1.5204, Target test accuracy: 14900/40000 (37.25%)\n",
        "\n"
       ]
      },
      {
       "output_type": "display_data",
       "png": "[encoded data removed]",
       "text": [
        "<Figure size 800x600 with 2 Axes>"
       ]
      },
      {
       "output_type": "display_data",
       "png": "[encoded data removed]",
       "text": [
        "<Figure size 1200x400 with 2 Axes>"
       ]
      },
      {
       "output_type": "stream",
       "stream": "stdout",
       "text": [
        "Result on target device:\n"
       ]
      },
      {
       "output_type": "stream",
       "stream": "stdout",
       "text": [
        "Target test loss: 1.9090, Target test accuracy: 4643/20000 (23.22%)\n",
        "\n"
       ]
      },
      {
       "output_type": "display_data",
       "png": "[encoded data removed]",
       "text": [
        "<Figure size 800x600 with 2 Axes>"
       ]
      },
      {
       "output_type": "display_data",
       "png": "[encoded data removed]",
       "text": [
        "<Figure size 1200x400 with 2 Axes>"
       ]
      },
      {
       "output_type": "stream",
       "stream": "stdout",
       "text": [
        "time: 1min 20s\n"
       ]
      }
     ],
     "prompt_number": 8
    },
    {
     "cell_type": "code",
     "collapsed": false,
     "input": [
      "fine_tune = True"
     ],
     "language": "python",
     "metadata": {},
     "outputs": [
      {
       "output_type": "stream",
       "stream": "stdout",
       "text": [
        "time: 210 \u00b5s\n"
       ]
      }
     ],
     "prompt_number": 9
    },
    {
     "cell_type": "heading",
     "level": 2,
     "metadata": {},
     "source": [
      "Cross-Device Profiling: fine-tune 15 epochs"
     ]
    },
    {
     "cell_type": "code",
     "collapsed": false,
     "input": [
      "if fine_tune:\n",
      "    # create a network\n",
      "    CDP_model = CDP_Net(num_classes=class_num)\n",
      "    print('Construct model complete')\n",
      "    if cuda:\n",
      "        CDP_model.cuda()\n",
      "    # initialize a big enough loss\n",
      "    min_loss = 1000\n",
      "    # load the pre-trained model\n",
      "    checkpoint = torch.load('./our_models/pre-trained_device{}.pth'.format(source_device_id))\n",
      "    pretrained_dict = checkpoint['model_state_dict']\n",
      "    CDP_model.load_state_dict(pretrained_dict)\n",
      "    optimizer = optim.Adam([\n",
      "            {'params': CDP_model.features.parameters()},\n",
      "            {'params': CDP_model.classifier_1.parameters()},\n",
      "            {'params': CDP_model.final_classifier.parameters()}\n",
      "        ], lr=lr)\n",
      "    # restore the optimizer state\n",
      "    optimizer.load_state_dict(checkpoint['optimizer_state_dict'])\n",
      "    for epoch in range(1, finetune_epoch + 1):\n",
      "        print(f'Train Epoch {epoch}:')\n",
      "        CDP_train(epoch, CDP_model)\n",
      "        with torch.no_grad():\n",
      "            valid_loss = CDP_validation(CDP_model)\n",
      "            if valid_loss < min_loss:\n",
      "                min_loss = valid_loss\n",
      "                torch.save({\n",
      "                'epoch': epoch,\n",
      "                'model_state_dict': CDP_model.state_dict(),\n",
      "                'optimizer_state_dict': optimizer.state_dict()\n",
      "                }, './our_models/best_valid_loss_finetuned_device{}_to_{}.pth'.format(source_device_id, target_device_id))\n",
      "    torch.save({\n",
      "        'epoch': epoch,\n",
      "        'model_state_dict': CDP_model.state_dict(),\n",
      "        'optimizer_state_dict': optimizer.state_dict()\n",
      "        }, './our_models/last_valid_loss_finetuned_device{}_to_{}.pth'.format(source_device_id, target_device_id))\n"
     ],
     "language": "python",
     "metadata": {
      "scrolled": true
     },
     "outputs": [
      {
       "output_type": "stream",
       "stream": "stdout",
       "text": [
        "Construct model complete\n"
       ]
      },
      {
       "output_type": "stream",
       "stream": "stdout",
       "text": [
        "Train Epoch 1:\n"
       ]
      },
      {
       "output_type": "stream",
       "stream": "stdout",
       "text": [
        "Train Epoch 1: [10000/180000 (6%)]\ttotal_loss: 0.953093\tclf_loss: 0.931292\tmmd_loss: 0.218013\n"
       ]
      },
      {
       "output_type": "stream",
       "stream": "stdout",
       "text": [
        "Train Epoch 1: [20000/180000 (11%)]\ttotal_loss: 0.883977\tclf_loss: 0.866620\tmmd_loss: 0.173575\n"
       ]
      },
      {
       "output_type": "stream",
       "stream": "stdout",
       "text": [
        "Train Epoch 1: [30000/180000 (17%)]\ttotal_loss: 0.945751\tclf_loss: 0.923437\tmmd_loss: 0.223140\n"
       ]
      },
      {
       "output_type": "stream",
       "stream": "stdout",
       "text": [
        "Train Epoch 1: [40000/180000 (22%)]\ttotal_loss: 0.917002\tclf_loss: 0.899974\tmmd_loss: 0.170283\n"
       ]
      },
      {
       "output_type": "stream",
       "stream": "stdout",
       "text": [
        "Train Epoch 1: [50000/180000 (28%)]\ttotal_loss: 0.828236\tclf_loss: 0.808513\tmmd_loss: 0.197232\n"
       ]
      },
      {
       "output_type": "stream",
       "stream": "stdout",
       "text": [
        "Train Epoch 1: [60000/180000 (33%)]\ttotal_loss: 0.988740\tclf_loss: 0.973866\tmmd_loss: 0.148745\n"
       ]
      },
      {
       "output_type": "stream",
       "stream": "stdout",
       "text": [
        "Train Epoch 1: [70000/180000 (39%)]\ttotal_loss: 0.811243\tclf_loss: 0.801170\tmmd_loss: 0.100728\n"
       ]
      },
      {
       "output_type": "stream",
       "stream": "stdout",
       "text": [
        "Train Epoch 1: [80000/180000 (44%)]\ttotal_loss: 0.864440\tclf_loss: 0.854541\tmmd_loss: 0.098986\n"
       ]
      },
      {
       "output_type": "stream",
       "stream": "stdout",
       "text": [
        "Train Epoch 1: [90000/180000 (50%)]\ttotal_loss: 0.900228\tclf_loss: 0.884648\tmmd_loss: 0.155799\n"
       ]
      },
      {
       "output_type": "stream",
       "stream": "stdout",
       "text": [
        "Train Epoch 1: [100000/180000 (56%)]\ttotal_loss: 1.007688\tclf_loss: 0.996370\tmmd_loss: 0.113184\n"
       ]
      },
      {
       "output_type": "stream",
       "stream": "stdout",
       "text": [
        "Train Epoch 1: [110000/180000 (61%)]\ttotal_loss: 0.867952\tclf_loss: 0.856789\tmmd_loss: 0.111635\n"
       ]
      },
      {
       "output_type": "stream",
       "stream": "stdout",
       "text": [
        "Train Epoch 1: [120000/180000 (67%)]\ttotal_loss: 1.068895\tclf_loss: 1.051908\tmmd_loss: 0.169870\n"
       ]
      },
      {
       "output_type": "stream",
       "stream": "stdout",
       "text": [
        "Train Epoch 1: [130000/180000 (72%)]\ttotal_loss: 0.880926\tclf_loss: 0.868301\tmmd_loss: 0.126251\n"
       ]
      },
      {
       "output_type": "stream",
       "stream": "stdout",
       "text": [
        "Train Epoch 1: [140000/180000 (78%)]\ttotal_loss: 0.765722\tclf_loss: 0.754997\tmmd_loss: 0.107246\n"
       ]
      },
      {
       "output_type": "stream",
       "stream": "stdout",
       "text": [
        "Train Epoch 1: [150000/180000 (83%)]\ttotal_loss: 0.875238\tclf_loss: 0.864621\tmmd_loss: 0.106166\n"
       ]
      },
      {
       "output_type": "stream",
       "stream": "stdout",
       "text": [
        "Train Epoch 1: [160000/180000 (89%)]\ttotal_loss: 1.048612\tclf_loss: 1.038747\tmmd_loss: 0.098658\n"
       ]
      },
      {
       "output_type": "stream",
       "stream": "stdout",
       "text": [
        "Train Epoch 1: [170000/180000 (94%)]\ttotal_loss: 0.797356\tclf_loss: 0.780312\tmmd_loss: 0.170446\n"
       ]
      },
      {
       "output_type": "stream",
       "stream": "stdout",
       "text": [
        "Train Epoch 1: [180000/180000 (100%)]\ttotal_loss: 0.978473\tclf_loss: 0.963010\tmmd_loss: 0.154628\n"
       ]
      },
      {
       "output_type": "stream",
       "stream": "stdout",
       "text": [
        "Validation: total_loss: 0.9368, clf_loss: 0.9241, mmd_loss: 0.1270, accuracy: 11528/20000 (57.64%)\n",
        "Train Epoch 2:\n"
       ]
      },
      {
       "output_type": "stream",
       "stream": "stdout",
       "text": [
        "Train Epoch 2: [10000/180000 (6%)]\ttotal_loss: 0.808936\tclf_loss: 0.800279\tmmd_loss: 0.086573\n"
       ]
      },
      {
       "output_type": "stream",
       "stream": "stdout",
       "text": [
        "Train Epoch 2: [20000/180000 (11%)]\ttotal_loss: 0.922679\tclf_loss: 0.909790\tmmd_loss: 0.128894\n"
       ]
      },
      {
       "output_type": "stream",
       "stream": "stdout",
       "text": [
        "Train Epoch 2: [30000/180000 (17%)]\ttotal_loss: 0.948904\tclf_loss: 0.940240\tmmd_loss: 0.086639\n"
       ]
      },
      {
       "output_type": "stream",
       "stream": "stdout",
       "text": [
        "Train Epoch 2: [40000/180000 (22%)]\ttotal_loss: 0.785538\tclf_loss: 0.778015\tmmd_loss: 0.075233\n"
       ]
      },
      {
       "output_type": "stream",
       "stream": "stdout",
       "text": [
        "Train Epoch 2: [50000/180000 (28%)]\ttotal_loss: 0.790945\tclf_loss: 0.781267\tmmd_loss: 0.096778\n"
       ]
      },
      {
       "output_type": "stream",
       "stream": "stdout",
       "text": [
        "Train Epoch 2: [60000/180000 (33%)]\ttotal_loss: 0.766139\tclf_loss: 0.757636\tmmd_loss: 0.085026\n"
       ]
      },
      {
       "output_type": "stream",
       "stream": "stdout",
       "text": [
        "Train Epoch 2: [70000/180000 (39%)]\ttotal_loss: 0.879369\tclf_loss: 0.871371\tmmd_loss: 0.079984\n"
       ]
      },
      {
       "output_type": "stream",
       "stream": "stdout",
       "text": [
        "Train Epoch 2: [80000/180000 (44%)]\ttotal_loss: 0.817416\tclf_loss: 0.799725\tmmd_loss: 0.176913\n"
       ]
      },
      {
       "output_type": "stream",
       "stream": "stdout",
       "text": [
        "Train Epoch 2: [90000/180000 (50%)]\ttotal_loss: 0.867497\tclf_loss: 0.857942\tmmd_loss: 0.095548\n"
       ]
      },
      {
       "output_type": "stream",
       "stream": "stdout",
       "text": [
        "Train Epoch 2: [100000/180000 (56%)]\ttotal_loss: 0.939935\tclf_loss: 0.929665\tmmd_loss: 0.102704\n"
       ]
      },
      {
       "output_type": "stream",
       "stream": "stdout",
       "text": [
        "Train Epoch 2: [110000/180000 (61%)]\ttotal_loss: 0.798526\tclf_loss: 0.788194\tmmd_loss: 0.103323\n"
       ]
      },
      {
       "output_type": "stream",
       "stream": "stdout",
       "text": [
        "Train Epoch 2: [120000/180000 (67%)]\ttotal_loss: 0.792652\tclf_loss: 0.780445\tmmd_loss: 0.122073\n"
       ]
      },
      {
       "output_type": "stream",
       "stream": "stdout",
       "text": [
        "Train Epoch 2: [130000/180000 (72%)]\ttotal_loss: 0.879473\tclf_loss: 0.871838\tmmd_loss: 0.076349\n"
       ]
      },
      {
       "output_type": "stream",
       "stream": "stdout",
       "text": [
        "Train Epoch 2: [140000/180000 (78%)]\ttotal_loss: 0.753518\tclf_loss: 0.742635\tmmd_loss: 0.108827\n"
       ]
      },
      {
       "output_type": "stream",
       "stream": "stdout",
       "text": [
        "Train Epoch 2: [150000/180000 (83%)]\ttotal_loss: 0.826096\tclf_loss: 0.819694\tmmd_loss: 0.064020\n"
       ]
      },
      {
       "output_type": "stream",
       "stream": "stdout",
       "text": [
        "Train Epoch 2: [160000/180000 (89%)]\ttotal_loss: 0.787983\tclf_loss: 0.777082\tmmd_loss: 0.109013\n"
       ]
      },
      {
       "output_type": "stream",
       "stream": "stdout",
       "text": [
        "Train Epoch 2: [170000/180000 (94%)]\ttotal_loss: 0.780044\tclf_loss: 0.771321\tmmd_loss: 0.087227\n"
       ]
      },
      {
       "output_type": "stream",
       "stream": "stdout",
       "text": [
        "Train Epoch 2: [180000/180000 (100%)]\ttotal_loss: 0.737880\tclf_loss: 0.728601\tmmd_loss: 0.092796\n"
       ]
      },
      {
       "output_type": "stream",
       "stream": "stdout",
       "text": [
        "Validation: total_loss: 0.8137, clf_loss: 0.8022, mmd_loss: 0.1144, accuracy: 12979/20000 (64.89%)\n",
        "Train Epoch 3:\n"
       ]
      },
      {
       "output_type": "stream",
       "stream": "stdout",
       "text": [
        "Train Epoch 3: [10000/180000 (6%)]\ttotal_loss: 0.874755\tclf_loss: 0.864755\tmmd_loss: 0.099994\n"
       ]
      },
      {
       "output_type": "stream",
       "stream": "stdout",
       "text": [
        "Train Epoch 3: [20000/180000 (11%)]\ttotal_loss: 0.909189\tclf_loss: 0.898349\tmmd_loss: 0.108406\n"
       ]
      },
      {
       "output_type": "stream",
       "stream": "stdout",
       "text": [
        "Train Epoch 3: [30000/180000 (17%)]\ttotal_loss: 0.846552\tclf_loss: 0.830136\tmmd_loss: 0.164161\n"
       ]
      },
      {
       "output_type": "stream",
       "stream": "stdout",
       "text": [
        "Train Epoch 3: [40000/180000 (22%)]\ttotal_loss: 0.894532\tclf_loss: 0.884656\tmmd_loss: 0.098758\n"
       ]
      },
      {
       "output_type": "stream",
       "stream": "stdout",
       "text": [
        "Train Epoch 3: [50000/180000 (28%)]\ttotal_loss: 0.736010\tclf_loss: 0.723550\tmmd_loss: 0.124592\n"
       ]
      },
      {
       "output_type": "stream",
       "stream": "stdout",
       "text": [
        "Train Epoch 3: [60000/180000 (33%)]\ttotal_loss: 0.857661\tclf_loss: 0.842389\tmmd_loss: 0.152714\n"
       ]
      },
      {
       "output_type": "stream",
       "stream": "stdout",
       "text": [
        "Train Epoch 3: [70000/180000 (39%)]\ttotal_loss: 0.936205\tclf_loss: 0.922240\tmmd_loss: 0.139645\n"
       ]
      },
      {
       "output_type": "stream",
       "stream": "stdout",
       "text": [
        "Train Epoch 3: [80000/180000 (44%)]\ttotal_loss: 0.794732\tclf_loss: 0.784287\tmmd_loss: 0.104451\n"
       ]
      },
      {
       "output_type": "stream",
       "stream": "stdout",
       "text": [
        "Train Epoch 3: [90000/180000 (50%)]\ttotal_loss: 0.804402\tclf_loss: 0.792566\tmmd_loss: 0.118359\n"
       ]
      },
      {
       "output_type": "stream",
       "stream": "stdout",
       "text": [
        "Train Epoch 3: [100000/180000 (56%)]\ttotal_loss: 0.811593\tclf_loss: 0.800127\tmmd_loss: 0.114655\n"
       ]
      },
      {
       "output_type": "stream",
       "stream": "stdout",
       "text": [
        "Train Epoch 3: [110000/180000 (61%)]\ttotal_loss: 0.708557\tclf_loss: 0.690054\tmmd_loss: 0.185025\n"
       ]
      },
      {
       "output_type": "stream",
       "stream": "stdout",
       "text": [
        "Train Epoch 3: [120000/180000 (67%)]\ttotal_loss: 0.718806\tclf_loss: 0.711312\tmmd_loss: 0.074938\n"
       ]
      },
      {
       "output_type": "stream",
       "stream": "stdout",
       "text": [
        "Train Epoch 3: [130000/180000 (72%)]\ttotal_loss: 0.794513\tclf_loss: 0.782423\tmmd_loss: 0.120898\n"
       ]
      },
      {
       "output_type": "stream",
       "stream": "stdout",
       "text": [
        "Train Epoch 3: [140000/180000 (78%)]\ttotal_loss: 0.681313\tclf_loss: 0.672080\tmmd_loss: 0.092328\n"
       ]
      },
      {
       "output_type": "stream",
       "stream": "stdout",
       "text": [
        "Train Epoch 3: [150000/180000 (83%)]\ttotal_loss: 0.858913\tclf_loss: 0.845880\tmmd_loss: 0.130333\n"
       ]
      },
      {
       "output_type": "stream",
       "stream": "stdout",
       "text": [
        "Train Epoch 3: [160000/180000 (89%)]\ttotal_loss: 0.796520\tclf_loss: 0.786072\tmmd_loss: 0.104477\n"
       ]
      },
      {
       "output_type": "stream",
       "stream": "stdout",
       "text": [
        "Train Epoch 3: [170000/180000 (94%)]\ttotal_loss: 0.669603\tclf_loss: 0.661418\tmmd_loss: 0.081843\n"
       ]
      },
      {
       "output_type": "stream",
       "stream": "stdout",
       "text": [
        "Train Epoch 3: [180000/180000 (100%)]\ttotal_loss: 0.874433\tclf_loss: 0.859861\tmmd_loss: 0.145722\n"
       ]
      },
      {
       "output_type": "stream",
       "stream": "stdout",
       "text": [
        "Validation: total_loss: 0.8232, clf_loss: 0.8125, mmd_loss: 0.1064, accuracy: 13212/20000 (66.06%)\n",
        "Train Epoch 4:\n"
       ]
      },
      {
       "output_type": "stream",
       "stream": "stdout",
       "text": [
        "Train Epoch 4: [10000/180000 (6%)]\ttotal_loss: 0.842454\tclf_loss: 0.834657\tmmd_loss: 0.077967\n"
       ]
      },
      {
       "output_type": "stream",
       "stream": "stdout",
       "text": [
        "Train Epoch 4: [20000/180000 (11%)]\ttotal_loss: 0.819311\tclf_loss: 0.808073\tmmd_loss: 0.112388\n"
       ]
      },
      {
       "output_type": "stream",
       "stream": "stdout",
       "text": [
        "Train Epoch 4: [30000/180000 (17%)]\ttotal_loss: 0.659584\tclf_loss: 0.647609\tmmd_loss: 0.119745\n"
       ]
      },
      {
       "output_type": "stream",
       "stream": "stdout",
       "text": [
        "Train Epoch 4: [40000/180000 (22%)]\ttotal_loss: 0.896034\tclf_loss: 0.887828\tmmd_loss: 0.082056\n"
       ]
      },
      {
       "output_type": "stream",
       "stream": "stdout",
       "text": [
        "Train Epoch 4: [50000/180000 (28%)]\ttotal_loss: 0.754588\tclf_loss: 0.745196\tmmd_loss: 0.093913\n"
       ]
      },
      {
       "output_type": "stream",
       "stream": "stdout",
       "text": [
        "Train Epoch 4: [60000/180000 (33%)]\ttotal_loss: 0.795699\tclf_loss: 0.787715\tmmd_loss: 0.079840\n"
       ]
      },
      {
       "output_type": "stream",
       "stream": "stdout",
       "text": [
        "Train Epoch 4: [70000/180000 (39%)]\ttotal_loss: 0.758283\tclf_loss: 0.745873\tmmd_loss: 0.124103\n"
       ]
      },
      {
       "output_type": "stream",
       "stream": "stdout",
       "text": [
        "Train Epoch 4: [80000/180000 (44%)]\ttotal_loss: 0.863262\tclf_loss: 0.850751\tmmd_loss: 0.125117\n"
       ]
      },
      {
       "output_type": "stream",
       "stream": "stdout",
       "text": [
        "Train Epoch 4: [90000/180000 (50%)]\ttotal_loss: 0.722678\tclf_loss: 0.704641\tmmd_loss: 0.180365\n"
       ]
      },
      {
       "output_type": "stream",
       "stream": "stdout",
       "text": [
        "Train Epoch 4: [100000/180000 (56%)]\ttotal_loss: 0.858654\tclf_loss: 0.837625\tmmd_loss: 0.210283\n"
       ]
      },
      {
       "output_type": "stream",
       "stream": "stdout",
       "text": [
        "Train Epoch 4: [110000/180000 (61%)]\ttotal_loss: 0.826915\tclf_loss: 0.806116\tmmd_loss: 0.207983\n"
       ]
      },
      {
       "output_type": "stream",
       "stream": "stdout",
       "text": [
        "Train Epoch 4: [120000/180000 (67%)]\ttotal_loss: 0.684074\tclf_loss: 0.673187\tmmd_loss: 0.108869\n"
       ]
      },
      {
       "output_type": "stream",
       "stream": "stdout",
       "text": [
        "Train Epoch 4: [130000/180000 (72%)]\ttotal_loss: 0.774061\tclf_loss: 0.760191\tmmd_loss: 0.138701\n"
       ]
      },
      {
       "output_type": "stream",
       "stream": "stdout",
       "text": [
        "Train Epoch 4: [140000/180000 (78%)]\ttotal_loss: 0.737454\tclf_loss: 0.725179\tmmd_loss: 0.122753\n"
       ]
      },
      {
       "output_type": "stream",
       "stream": "stdout",
       "text": [
        "Train Epoch 4: [150000/180000 (83%)]\ttotal_loss: 0.750275\tclf_loss: 0.729972\tmmd_loss: 0.203033\n"
       ]
      },
      {
       "output_type": "stream",
       "stream": "stdout",
       "text": [
        "Train Epoch 4: [160000/180000 (89%)]\ttotal_loss: 0.710778\tclf_loss: 0.687215\tmmd_loss: 0.235637\n"
       ]
      },
      {
       "output_type": "stream",
       "stream": "stdout",
       "text": [
        "Train Epoch 4: [170000/180000 (94%)]\ttotal_loss: 0.695758\tclf_loss: 0.683762\tmmd_loss: 0.119956\n"
       ]
      },
      {
       "output_type": "stream",
       "stream": "stdout",
       "text": [
        "Train Epoch 4: [180000/180000 (100%)]\ttotal_loss: 0.869587\tclf_loss: 0.858213\tmmd_loss: 0.113735\n"
       ]
      },
      {
       "output_type": "stream",
       "stream": "stdout",
       "text": [
        "Validation: total_loss: 0.7807, clf_loss: 0.7695, mmd_loss: 0.1120, accuracy: 13218/20000 (66.09%)\n",
        "Train Epoch 5:\n"
       ]
      },
      {
       "output_type": "stream",
       "stream": "stdout",
       "text": [
        "Train Epoch 5: [10000/180000 (6%)]\ttotal_loss: 0.683596\tclf_loss: 0.668222\tmmd_loss: 0.153742\n"
       ]
      },
      {
       "output_type": "stream",
       "stream": "stdout",
       "text": [
        "Train Epoch 5: [20000/180000 (11%)]\ttotal_loss: 0.730227\tclf_loss: 0.718055\tmmd_loss: 0.121722\n"
       ]
      },
      {
       "output_type": "stream",
       "stream": "stdout",
       "text": [
        "Train Epoch 5: [30000/180000 (17%)]\ttotal_loss: 0.699132\tclf_loss: 0.688123\tmmd_loss: 0.110094\n"
       ]
      },
      {
       "output_type": "stream",
       "stream": "stdout",
       "text": [
        "Train Epoch 5: [40000/180000 (22%)]\ttotal_loss: 0.752874\tclf_loss: 0.740390\tmmd_loss: 0.124842\n"
       ]
      },
      {
       "output_type": "stream",
       "stream": "stdout",
       "text": [
        "Train Epoch 5: [50000/180000 (28%)]\ttotal_loss: 0.859999\tclf_loss: 0.847794\tmmd_loss: 0.122049\n"
       ]
      },
      {
       "output_type": "stream",
       "stream": "stdout",
       "text": [
        "Train Epoch 5: [60000/180000 (33%)]\ttotal_loss: 0.713979\tclf_loss: 0.700372\tmmd_loss: 0.136066\n"
       ]
      },
      {
       "output_type": "stream",
       "stream": "stdout",
       "text": [
        "Train Epoch 5: [70000/180000 (39%)]\ttotal_loss: 0.670079\tclf_loss: 0.657273\tmmd_loss: 0.128063\n"
       ]
      },
      {
       "output_type": "stream",
       "stream": "stdout",
       "text": [
        "Train Epoch 5: [80000/180000 (44%)]\ttotal_loss: 0.710892\tclf_loss: 0.697159\tmmd_loss: 0.137332\n"
       ]
      },
      {
       "output_type": "stream",
       "stream": "stdout",
       "text": [
        "Train Epoch 5: [90000/180000 (50%)]\ttotal_loss: 0.770535\tclf_loss: 0.755427\tmmd_loss: 0.151078\n"
       ]
      },
      {
       "output_type": "stream",
       "stream": "stdout",
       "text": [
        "Train Epoch 5: [100000/180000 (56%)]\ttotal_loss: 0.699765\tclf_loss: 0.685111\tmmd_loss: 0.146542\n"
       ]
      },
      {
       "output_type": "stream",
       "stream": "stdout",
       "text": [
        "Train Epoch 5: [110000/180000 (61%)]\ttotal_loss: 0.768413\tclf_loss: 0.743393\tmmd_loss: 0.250203\n"
       ]
      },
      {
       "output_type": "stream",
       "stream": "stdout",
       "text": [
        "Train Epoch 5: [120000/180000 (67%)]\ttotal_loss: 0.674054\tclf_loss: 0.664165\tmmd_loss: 0.098891\n"
       ]
      },
      {
       "output_type": "stream",
       "stream": "stdout",
       "text": [
        "Train Epoch 5: [130000/180000 (72%)]\ttotal_loss: 0.811948\tclf_loss: 0.799241\tmmd_loss: 0.127076\n"
       ]
      },
      {
       "output_type": "stream",
       "stream": "stdout",
       "text": [
        "Train Epoch 5: [140000/180000 (78%)]\ttotal_loss: 0.691028\tclf_loss: 0.681404\tmmd_loss: 0.096237\n"
       ]
      },
      {
       "output_type": "stream",
       "stream": "stdout",
       "text": [
        "Train Epoch 5: [150000/180000 (83%)]\ttotal_loss: 0.601894\tclf_loss: 0.587491\tmmd_loss: 0.144028\n"
       ]
      },
      {
       "output_type": "stream",
       "stream": "stdout",
       "text": [
        "Train Epoch 5: [160000/180000 (89%)]\ttotal_loss: 0.688165\tclf_loss: 0.668539\tmmd_loss: 0.196260\n"
       ]
      },
      {
       "output_type": "stream",
       "stream": "stdout",
       "text": [
        "Train Epoch 5: [170000/180000 (94%)]\ttotal_loss: 0.765941\tclf_loss: 0.752582\tmmd_loss: 0.133590\n"
       ]
      },
      {
       "output_type": "stream",
       "stream": "stdout",
       "text": [
        "Train Epoch 5: [180000/180000 (100%)]\ttotal_loss: 0.839031\tclf_loss: 0.830330\tmmd_loss: 0.087004\n"
       ]
      },
      {
       "output_type": "stream",
       "stream": "stdout",
       "text": [
        "Validation: total_loss: 0.7084, clf_loss: 0.6973, mmd_loss: 0.1113, accuracy: 14232/20000 (71.16%)\n",
        "Train Epoch 6:\n"
       ]
      },
      {
       "output_type": "stream",
       "stream": "stdout",
       "text": [
        "Train Epoch 6: [10000/180000 (6%)]\ttotal_loss: 0.688210\tclf_loss: 0.678543\tmmd_loss: 0.096674\n"
       ]
      },
      {
       "output_type": "stream",
       "stream": "stdout",
       "text": [
        "Train Epoch 6: [20000/180000 (11%)]\ttotal_loss: 0.697083\tclf_loss: 0.689243\tmmd_loss: 0.078402\n"
       ]
      },
      {
       "output_type": "stream",
       "stream": "stdout",
       "text": [
        "Train Epoch 6: [30000/180000 (17%)]\ttotal_loss: 0.724243\tclf_loss: 0.712237\tmmd_loss: 0.120061\n"
       ]
      },
      {
       "output_type": "stream",
       "stream": "stdout",
       "text": [
        "Train Epoch 6: [40000/180000 (22%)]\ttotal_loss: 0.656178\tclf_loss: 0.649162\tmmd_loss: 0.070165\n"
       ]
      },
      {
       "output_type": "stream",
       "stream": "stdout",
       "text": [
        "Train Epoch 6: [50000/180000 (28%)]\ttotal_loss: 0.663003\tclf_loss: 0.640382\tmmd_loss: 0.226211\n"
       ]
      },
      {
       "output_type": "stream",
       "stream": "stdout",
       "text": [
        "Train Epoch 6: [60000/180000 (33%)]\ttotal_loss: 0.723556\tclf_loss: 0.709387\tmmd_loss: 0.141693\n"
       ]
      },
      {
       "output_type": "stream",
       "stream": "stdout",
       "text": [
        "Train Epoch 6: [70000/180000 (39%)]\ttotal_loss: 0.589575\tclf_loss: 0.581306\tmmd_loss: 0.082694\n"
       ]
      },
      {
       "output_type": "stream",
       "stream": "stdout",
       "text": [
        "Train Epoch 6: [80000/180000 (44%)]\ttotal_loss: 0.742110\tclf_loss: 0.734223\tmmd_loss: 0.078869\n"
       ]
      },
      {
       "output_type": "stream",
       "stream": "stdout",
       "text": [
        "Train Epoch 6: [90000/180000 (50%)]\ttotal_loss: 0.745588\tclf_loss: 0.738754\tmmd_loss: 0.068336\n"
       ]
      },
      {
       "output_type": "stream",
       "stream": "stdout",
       "text": [
        "Train Epoch 6: [100000/180000 (56%)]\ttotal_loss: 0.671392\tclf_loss: 0.661241\tmmd_loss: 0.101517\n"
       ]
      },
      {
       "output_type": "stream",
       "stream": "stdout",
       "text": [
        "Train Epoch 6: [110000/180000 (61%)]\ttotal_loss: 0.704532\tclf_loss: 0.693094\tmmd_loss: 0.114379\n"
       ]
      },
      {
       "output_type": "stream",
       "stream": "stdout",
       "text": [
        "Train Epoch 6: [120000/180000 (67%)]\ttotal_loss: 0.671195\tclf_loss: 0.663076\tmmd_loss: 0.081190\n"
       ]
      },
      {
       "output_type": "stream",
       "stream": "stdout",
       "text": [
        "Train Epoch 6: [130000/180000 (72%)]\ttotal_loss: 0.791295\tclf_loss: 0.774984\tmmd_loss: 0.163111\n"
       ]
      },
      {
       "output_type": "stream",
       "stream": "stdout",
       "text": [
        "Train Epoch 6: [140000/180000 (78%)]\ttotal_loss: 0.688945\tclf_loss: 0.677060\tmmd_loss: 0.118848\n"
       ]
      },
      {
       "output_type": "stream",
       "stream": "stdout",
       "text": [
        "Train Epoch 6: [150000/180000 (83%)]\ttotal_loss: 0.795144\tclf_loss: 0.787705\tmmd_loss: 0.074388\n"
       ]
      },
      {
       "output_type": "stream",
       "stream": "stdout",
       "text": [
        "Train Epoch 6: [160000/180000 (89%)]\ttotal_loss: 0.649396\tclf_loss: 0.639409\tmmd_loss: 0.099878\n"
       ]
      },
      {
       "output_type": "stream",
       "stream": "stdout",
       "text": [
        "Train Epoch 6: [170000/180000 (94%)]\ttotal_loss: 0.760548\tclf_loss: 0.751726\tmmd_loss: 0.088217\n"
       ]
      },
      {
       "output_type": "stream",
       "stream": "stdout",
       "text": [
        "Train Epoch 6: [180000/180000 (100%)]\ttotal_loss: 0.630091\tclf_loss: 0.619881\tmmd_loss: 0.102107\n"
       ]
      },
      {
       "output_type": "stream",
       "stream": "stdout",
       "text": [
        "Validation: total_loss: 0.7372, clf_loss: 0.7254, mmd_loss: 0.1179, accuracy: 13656/20000 (68.28%)\n",
        "Train Epoch 7:\n"
       ]
      },
      {
       "output_type": "stream",
       "stream": "stdout",
       "text": [
        "Train Epoch 7: [10000/180000 (6%)]\ttotal_loss: 0.716446\tclf_loss: 0.708428\tmmd_loss: 0.080180\n"
       ]
      },
      {
       "output_type": "stream",
       "stream": "stdout",
       "text": [
        "Train Epoch 7: [20000/180000 (11%)]\ttotal_loss: 0.643842\tclf_loss: 0.635294\tmmd_loss: 0.085481\n"
       ]
      },
      {
       "output_type": "stream",
       "stream": "stdout",
       "text": [
        "Train Epoch 7: [30000/180000 (17%)]\ttotal_loss: 0.828798\tclf_loss: 0.821297\tmmd_loss: 0.075017\n"
       ]
      },
      {
       "output_type": "stream",
       "stream": "stdout",
       "text": [
        "Train Epoch 7: [40000/180000 (22%)]\ttotal_loss: 0.625628\tclf_loss: 0.618397\tmmd_loss: 0.072314\n"
       ]
      },
      {
       "output_type": "stream",
       "stream": "stdout",
       "text": [
        "Train Epoch 7: [50000/180000 (28%)]\ttotal_loss: 0.813187\tclf_loss: 0.804197\tmmd_loss: 0.089895\n"
       ]
      },
      {
       "output_type": "stream",
       "stream": "stdout",
       "text": [
        "Train Epoch 7: [60000/180000 (33%)]\ttotal_loss: 0.722447\tclf_loss: 0.712821\tmmd_loss: 0.096264\n"
       ]
      },
      {
       "output_type": "stream",
       "stream": "stdout",
       "text": [
        "Train Epoch 7: [70000/180000 (39%)]\ttotal_loss: 0.749596\tclf_loss: 0.739538\tmmd_loss: 0.100581\n"
       ]
      },
      {
       "output_type": "stream",
       "stream": "stdout",
       "text": [
        "Train Epoch 7: [80000/180000 (44%)]\ttotal_loss: 0.617250\tclf_loss: 0.608554\tmmd_loss: 0.086954\n"
       ]
      },
      {
       "output_type": "stream",
       "stream": "stdout",
       "text": [
        "Train Epoch 7: [90000/180000 (50%)]\ttotal_loss: 0.759120\tclf_loss: 0.752465\tmmd_loss: 0.066544\n"
       ]
      },
      {
       "output_type": "stream",
       "stream": "stdout",
       "text": [
        "Train Epoch 7: [100000/180000 (56%)]\ttotal_loss: 0.614926\tclf_loss: 0.604675\tmmd_loss: 0.102509\n"
       ]
      },
      {
       "output_type": "stream",
       "stream": "stdout",
       "text": [
        "Train Epoch 7: [110000/180000 (61%)]\ttotal_loss: 0.598281\tclf_loss: 0.591003\tmmd_loss: 0.072782\n"
       ]
      },
      {
       "output_type": "stream",
       "stream": "stdout",
       "text": [
        "Train Epoch 7: [120000/180000 (67%)]\ttotal_loss: 0.812608\tclf_loss: 0.800078\tmmd_loss: 0.125307\n"
       ]
      },
      {
       "output_type": "stream",
       "stream": "stdout",
       "text": [
        "Train Epoch 7: [130000/180000 (72%)]\ttotal_loss: 0.840730\tclf_loss: 0.830332\tmmd_loss: 0.103986\n"
       ]
      },
      {
       "output_type": "stream",
       "stream": "stdout",
       "text": [
        "Train Epoch 7: [140000/180000 (78%)]\ttotal_loss: 0.700833\tclf_loss: 0.689862\tmmd_loss: 0.109708\n"
       ]
      },
      {
       "output_type": "stream",
       "stream": "stdout",
       "text": [
        "Train Epoch 7: [150000/180000 (83%)]\ttotal_loss: 0.801098\tclf_loss: 0.793022\tmmd_loss: 0.080763\n"
       ]
      },
      {
       "output_type": "stream",
       "stream": "stdout",
       "text": [
        "Train Epoch 7: [160000/180000 (89%)]\ttotal_loss: 0.748930\tclf_loss: 0.739806\tmmd_loss: 0.091237\n"
       ]
      },
      {
       "output_type": "stream",
       "stream": "stdout",
       "text": [
        "Train Epoch 7: [170000/180000 (94%)]\ttotal_loss: 0.605739\tclf_loss: 0.598181\tmmd_loss: 0.075582\n"
       ]
      },
      {
       "output_type": "stream",
       "stream": "stdout",
       "text": [
        "Train Epoch 7: [180000/180000 (100%)]\ttotal_loss: 0.607474\tclf_loss: 0.600403\tmmd_loss: 0.070710\n"
       ]
      },
      {
       "output_type": "stream",
       "stream": "stdout",
       "text": [
        "Validation: total_loss: 0.6975, clf_loss: 0.6866, mmd_loss: 0.1088, accuracy: 14426/20000 (72.13%)\n",
        "Train Epoch 8:\n"
       ]
      },
      {
       "output_type": "stream",
       "stream": "stdout",
       "text": [
        "Train Epoch 8: [10000/180000 (6%)]\ttotal_loss: 0.646559\tclf_loss: 0.636962\tmmd_loss: 0.095967\n"
       ]
      },
      {
       "output_type": "stream",
       "stream": "stdout",
       "text": [
        "Train Epoch 8: [20000/180000 (11%)]\ttotal_loss: 0.686887\tclf_loss: 0.678273\tmmd_loss: 0.086141\n"
       ]
      },
      {
       "output_type": "stream",
       "stream": "stdout",
       "text": [
        "Train Epoch 8: [30000/180000 (17%)]\ttotal_loss: 0.706822\tclf_loss: 0.695644\tmmd_loss: 0.111773\n"
       ]
      },
      {
       "output_type": "stream",
       "stream": "stdout",
       "text": [
        "Train Epoch 8: [40000/180000 (22%)]\ttotal_loss: 0.569258\tclf_loss: 0.559105\tmmd_loss: 0.101523\n"
       ]
      },
      {
       "output_type": "stream",
       "stream": "stdout",
       "text": [
        "Train Epoch 8: [50000/180000 (28%)]\ttotal_loss: 0.538413\tclf_loss: 0.527836\tmmd_loss: 0.105766\n"
       ]
      },
      {
       "output_type": "stream",
       "stream": "stdout",
       "text": [
        "Train Epoch 8: [60000/180000 (33%)]\ttotal_loss: 0.822701\tclf_loss: 0.810835\tmmd_loss: 0.118654\n"
       ]
      },
      {
       "output_type": "stream",
       "stream": "stdout",
       "text": [
        "Train Epoch 8: [70000/180000 (39%)]\ttotal_loss: 0.721934\tclf_loss: 0.712083\tmmd_loss: 0.098514\n"
       ]
      },
      {
       "output_type": "stream",
       "stream": "stdout",
       "text": [
        "Train Epoch 8: [80000/180000 (44%)]\ttotal_loss: 0.592178\tclf_loss: 0.577863\tmmd_loss: 0.143143\n"
       ]
      },
      {
       "output_type": "stream",
       "stream": "stdout",
       "text": [
        "Train Epoch 8: [90000/180000 (50%)]\ttotal_loss: 0.734209\tclf_loss: 0.725211\tmmd_loss: 0.089977\n"
       ]
      },
      {
       "output_type": "stream",
       "stream": "stdout",
       "text": [
        "Train Epoch 8: [100000/180000 (56%)]\ttotal_loss: 0.754028\tclf_loss: 0.740729\tmmd_loss: 0.132991\n"
       ]
      },
      {
       "output_type": "stream",
       "stream": "stdout",
       "text": [
        "Train Epoch 8: [110000/180000 (61%)]\ttotal_loss: 0.691026\tclf_loss: 0.682519\tmmd_loss: 0.085074\n"
       ]
      },
      {
       "output_type": "stream",
       "stream": "stdout",
       "text": [
        "Train Epoch 8: [120000/180000 (67%)]\ttotal_loss: 0.608058\tclf_loss: 0.592008\tmmd_loss: 0.160497\n"
       ]
      },
      {
       "output_type": "stream",
       "stream": "stdout",
       "text": [
        "Train Epoch 8: [130000/180000 (72%)]\ttotal_loss: 0.844912\tclf_loss: 0.831884\tmmd_loss: 0.130281\n"
       ]
      },
      {
       "output_type": "stream",
       "stream": "stdout",
       "text": [
        "Train Epoch 8: [140000/180000 (78%)]\ttotal_loss: 0.694911\tclf_loss: 0.680372\tmmd_loss: 0.145382\n"
       ]
      },
      {
       "output_type": "stream",
       "stream": "stdout",
       "text": [
        "Train Epoch 8: [150000/180000 (83%)]\ttotal_loss: 0.538578\tclf_loss: 0.522794\tmmd_loss: 0.157833\n"
       ]
      },
      {
       "output_type": "stream",
       "stream": "stdout",
       "text": [
        "Train Epoch 8: [160000/180000 (89%)]\ttotal_loss: 0.688804\tclf_loss: 0.676467\tmmd_loss: 0.123361\n"
       ]
      },
      {
       "output_type": "stream",
       "stream": "stdout",
       "text": [
        "Train Epoch 8: [170000/180000 (94%)]\ttotal_loss: 0.498087\tclf_loss: 0.488195\tmmd_loss: 0.098921\n"
       ]
      },
      {
       "output_type": "stream",
       "stream": "stdout",
       "text": [
        "Train Epoch 8: [180000/180000 (100%)]\ttotal_loss: 0.613825\tclf_loss: 0.603272\tmmd_loss: 0.105528\n"
       ]
      },
      {
       "output_type": "stream",
       "stream": "stdout",
       "text": [
        "Validation: total_loss: 0.6533, clf_loss: 0.6424, mmd_loss: 0.1085, accuracy: 14777/20000 (73.89%)\n",
        "Train Epoch 9:\n"
       ]
      },
      {
       "output_type": "stream",
       "stream": "stdout",
       "text": [
        "Train Epoch 9: [10000/180000 (6%)]\ttotal_loss: 0.551923\tclf_loss: 0.542175\tmmd_loss: 0.097479\n"
       ]
      },
      {
       "output_type": "stream",
       "stream": "stdout",
       "text": [
        "Train Epoch 9: [20000/180000 (11%)]\ttotal_loss: 0.585558\tclf_loss: 0.569336\tmmd_loss: 0.162216\n"
       ]
      },
      {
       "output_type": "stream",
       "stream": "stdout",
       "text": [
        "Train Epoch 9: [30000/180000 (17%)]\ttotal_loss: 0.713754\tclf_loss: 0.704586\tmmd_loss: 0.091674\n"
       ]
      },
      {
       "output_type": "stream",
       "stream": "stdout",
       "text": [
        "Train Epoch 9: [40000/180000 (22%)]\ttotal_loss: 0.790711\tclf_loss: 0.778496\tmmd_loss: 0.122155\n"
       ]
      },
      {
       "output_type": "stream",
       "stream": "stdout",
       "text": [
        "Train Epoch 9: [50000/180000 (28%)]\ttotal_loss: 0.606039\tclf_loss: 0.597568\tmmd_loss: 0.084713\n"
       ]
      },
      {
       "output_type": "stream",
       "stream": "stdout",
       "text": [
        "Train Epoch 9: [60000/180000 (33%)]\ttotal_loss: 0.604681\tclf_loss: 0.589577\tmmd_loss: 0.151043\n"
       ]
      },
      {
       "output_type": "stream",
       "stream": "stdout",
       "text": [
        "Train Epoch 9: [70000/180000 (39%)]\ttotal_loss: 0.733866\tclf_loss: 0.717122\tmmd_loss: 0.167437\n"
       ]
      },
      {
       "output_type": "stream",
       "stream": "stdout",
       "text": [
        "Train Epoch 9: [80000/180000 (44%)]\ttotal_loss: 0.651804\tclf_loss: 0.642628\tmmd_loss: 0.091767\n"
       ]
      },
      {
       "output_type": "stream",
       "stream": "stdout",
       "text": [
        "Train Epoch 9: [90000/180000 (50%)]\ttotal_loss: 0.626984\tclf_loss: 0.611482\tmmd_loss: 0.155025\n"
       ]
      },
      {
       "output_type": "stream",
       "stream": "stdout",
       "text": [
        "Train Epoch 9: [100000/180000 (56%)]\ttotal_loss: 0.812150\tclf_loss: 0.786988\tmmd_loss: 0.251625\n"
       ]
      },
      {
       "output_type": "stream",
       "stream": "stdout",
       "text": [
        "Train Epoch 9: [110000/180000 (61%)]\ttotal_loss: 0.627844\tclf_loss: 0.617896\tmmd_loss: 0.099484\n"
       ]
      },
      {
       "output_type": "stream",
       "stream": "stdout",
       "text": [
        "Train Epoch 9: [120000/180000 (67%)]\ttotal_loss: 0.511988\tclf_loss: 0.504452\tmmd_loss: 0.075354\n"
       ]
      },
      {
       "output_type": "stream",
       "stream": "stdout",
       "text": [
        "Train Epoch 9: [130000/180000 (72%)]\ttotal_loss: 0.496315\tclf_loss: 0.488279\tmmd_loss: 0.080356\n"
       ]
      },
      {
       "output_type": "stream",
       "stream": "stdout",
       "text": [
        "Train Epoch 9: [140000/180000 (78%)]\ttotal_loss: 0.625490\tclf_loss: 0.615354\tmmd_loss: 0.101354\n"
       ]
      },
      {
       "output_type": "stream",
       "stream": "stdout",
       "text": [
        "Train Epoch 9: [150000/180000 (83%)]\ttotal_loss: 0.761976\tclf_loss: 0.748391\tmmd_loss: 0.135844\n"
       ]
      },
      {
       "output_type": "stream",
       "stream": "stdout",
       "text": [
        "Train Epoch 9: [160000/180000 (89%)]\ttotal_loss: 0.840721\tclf_loss: 0.830317\tmmd_loss: 0.104046\n"
       ]
      },
      {
       "output_type": "stream",
       "stream": "stdout",
       "text": [
        "Train Epoch 9: [170000/180000 (94%)]\ttotal_loss: 0.496789\tclf_loss: 0.484067\tmmd_loss: 0.127227\n"
       ]
      },
      {
       "output_type": "stream",
       "stream": "stdout",
       "text": [
        "Train Epoch 9: [180000/180000 (100%)]\ttotal_loss: 0.700557\tclf_loss: 0.691992\tmmd_loss: 0.085654\n"
       ]
      },
      {
       "output_type": "stream",
       "stream": "stdout",
       "text": [
        "Validation: total_loss: 0.6922, clf_loss: 0.6808, mmd_loss: 0.1133, accuracy: 14523/20000 (72.61%)\n",
        "Train Epoch 10:\n"
       ]
      },
      {
       "output_type": "stream",
       "stream": "stdout",
       "text": [
        "Train Epoch 10: [10000/180000 (6%)]\ttotal_loss: 0.576665\tclf_loss: 0.569683\tmmd_loss: 0.069821\n"
       ]
      },
      {
       "output_type": "stream",
       "stream": "stdout",
       "text": [
        "Train Epoch 10: [20000/180000 (11%)]\ttotal_loss: 0.541340\tclf_loss: 0.525352\tmmd_loss: 0.159878\n"
       ]
      },
      {
       "output_type": "stream",
       "stream": "stdout",
       "text": [
        "Train Epoch 10: [30000/180000 (17%)]\ttotal_loss: 0.753156\tclf_loss: 0.746520\tmmd_loss: 0.066356\n"
       ]
      },
      {
       "output_type": "stream",
       "stream": "stdout",
       "text": [
        "Train Epoch 10: [40000/180000 (22%)]\ttotal_loss: 0.690839\tclf_loss: 0.678388\tmmd_loss: 0.124508\n"
       ]
      },
      {
       "output_type": "stream",
       "stream": "stdout",
       "text": [
        "Train Epoch 10: [50000/180000 (28%)]\ttotal_loss: 0.771485\tclf_loss: 0.754993\tmmd_loss: 0.164920\n"
       ]
      },
      {
       "output_type": "stream",
       "stream": "stdout",
       "text": [
        "Train Epoch 10: [60000/180000 (33%)]\ttotal_loss: 0.781828\tclf_loss: 0.773324\tmmd_loss: 0.085050\n"
       ]
      },
      {
       "output_type": "stream",
       "stream": "stdout",
       "text": [
        "Train Epoch 10: [70000/180000 (39%)]\ttotal_loss: 0.579769\tclf_loss: 0.572260\tmmd_loss: 0.075095\n"
       ]
      },
      {
       "output_type": "stream",
       "stream": "stdout",
       "text": [
        "Train Epoch 10: [80000/180000 (44%)]\ttotal_loss: 0.557991\tclf_loss: 0.548528\tmmd_loss: 0.094627\n"
       ]
      },
      {
       "output_type": "stream",
       "stream": "stdout",
       "text": [
        "Train Epoch 10: [90000/180000 (50%)]\ttotal_loss: 0.635313\tclf_loss: 0.609455\tmmd_loss: 0.258584\n"
       ]
      },
      {
       "output_type": "stream",
       "stream": "stdout",
       "text": [
        "Train Epoch 10: [100000/180000 (56%)]\ttotal_loss: 0.602763\tclf_loss: 0.591326\tmmd_loss: 0.114377\n"
       ]
      },
      {
       "output_type": "stream",
       "stream": "stdout",
       "text": [
        "Train Epoch 10: [110000/180000 (61%)]\ttotal_loss: 0.655443\tclf_loss: 0.649475\tmmd_loss: 0.059685\n"
       ]
      },
      {
       "output_type": "stream",
       "stream": "stdout",
       "text": [
        "Train Epoch 10: [120000/180000 (67%)]\ttotal_loss: 0.601645\tclf_loss: 0.593073\tmmd_loss: 0.085728\n"
       ]
      },
      {
       "output_type": "stream",
       "stream": "stdout",
       "text": [
        "Train Epoch 10: [130000/180000 (72%)]\ttotal_loss: 0.575058\tclf_loss: 0.564600\tmmd_loss: 0.104578\n"
       ]
      },
      {
       "output_type": "stream",
       "stream": "stdout",
       "text": [
        "Train Epoch 10: [140000/180000 (78%)]\ttotal_loss: 0.574470\tclf_loss: 0.565398\tmmd_loss: 0.090724\n"
       ]
      },
      {
       "output_type": "stream",
       "stream": "stdout",
       "text": [
        "Train Epoch 10: [150000/180000 (83%)]\ttotal_loss: 0.528425\tclf_loss: 0.519946\tmmd_loss: 0.084791\n"
       ]
      },
      {
       "output_type": "stream",
       "stream": "stdout",
       "text": [
        "Train Epoch 10: [160000/180000 (89%)]\ttotal_loss: 0.583878\tclf_loss: 0.572081\tmmd_loss: 0.117972\n"
       ]
      },
      {
       "output_type": "stream",
       "stream": "stdout",
       "text": [
        "Train Epoch 10: [170000/180000 (94%)]\ttotal_loss: 0.663182\tclf_loss: 0.649496\tmmd_loss: 0.136856\n"
       ]
      },
      {
       "output_type": "stream",
       "stream": "stdout",
       "text": [
        "Train Epoch 10: [180000/180000 (100%)]\ttotal_loss: 0.624720\tclf_loss: 0.613527\tmmd_loss: 0.111929\n"
       ]
      },
      {
       "output_type": "stream",
       "stream": "stdout",
       "text": [
        "Validation: total_loss: 0.7534, clf_loss: 0.7420, mmd_loss: 0.1134, accuracy: 13954/20000 (69.77%)\n",
        "Train Epoch 11:\n"
       ]
      },
      {
       "output_type": "stream",
       "stream": "stdout",
       "text": [
        "Train Epoch 11: [10000/180000 (6%)]\ttotal_loss: 0.635140\tclf_loss: 0.627747\tmmd_loss: 0.073929\n"
       ]
      },
      {
       "output_type": "stream",
       "stream": "stdout",
       "text": [
        "Train Epoch 11: [20000/180000 (11%)]\ttotal_loss: 0.694312\tclf_loss: 0.683493\tmmd_loss: 0.108192\n"
       ]
      },
      {
       "output_type": "stream",
       "stream": "stdout",
       "text": [
        "Train Epoch 11: [30000/180000 (17%)]\ttotal_loss: 0.578357\tclf_loss: 0.561895\tmmd_loss: 0.164623\n"
       ]
      },
      {
       "output_type": "stream",
       "stream": "stdout",
       "text": [
        "Train Epoch 11: [40000/180000 (22%)]\ttotal_loss: 0.659660\tclf_loss: 0.648642\tmmd_loss: 0.110174\n"
       ]
      },
      {
       "output_type": "stream",
       "stream": "stdout",
       "text": [
        "Train Epoch 11: [50000/180000 (28%)]\ttotal_loss: 0.783478\tclf_loss: 0.770837\tmmd_loss: 0.126411\n"
       ]
      },
      {
       "output_type": "stream",
       "stream": "stdout",
       "text": [
        "Train Epoch 11: [60000/180000 (33%)]\ttotal_loss: 0.651877\tclf_loss: 0.638688\tmmd_loss: 0.131886\n"
       ]
      },
      {
       "output_type": "stream",
       "stream": "stdout",
       "text": [
        "Train Epoch 11: [70000/180000 (39%)]\ttotal_loss: 0.650838\tclf_loss: 0.637034\tmmd_loss: 0.138036\n"
       ]
      },
      {
       "output_type": "stream",
       "stream": "stdout",
       "text": [
        "Train Epoch 11: [80000/180000 (44%)]\ttotal_loss: 0.741215\tclf_loss: 0.730374\tmmd_loss: 0.108414\n"
       ]
      },
      {
       "output_type": "stream",
       "stream": "stdout",
       "text": [
        "Train Epoch 11: [90000/180000 (50%)]\ttotal_loss: 0.662470\tclf_loss: 0.654182\tmmd_loss: 0.082887\n"
       ]
      },
      {
       "output_type": "stream",
       "stream": "stdout",
       "text": [
        "Train Epoch 11: [100000/180000 (56%)]\ttotal_loss: 0.551398\tclf_loss: 0.542426\tmmd_loss: 0.089726\n"
       ]
      },
      {
       "output_type": "stream",
       "stream": "stdout",
       "text": [
        "Train Epoch 11: [110000/180000 (61%)]\ttotal_loss: 0.572797\tclf_loss: 0.564671\tmmd_loss: 0.081260\n"
       ]
      },
      {
       "output_type": "stream",
       "stream": "stdout",
       "text": [
        "Train Epoch 11: [120000/180000 (67%)]\ttotal_loss: 0.582430\tclf_loss: 0.569959\tmmd_loss: 0.124717\n"
       ]
      },
      {
       "output_type": "stream",
       "stream": "stdout",
       "text": [
        "Train Epoch 11: [130000/180000 (72%)]\ttotal_loss: 0.570706\tclf_loss: 0.561251\tmmd_loss: 0.094543\n"
       ]
      },
      {
       "output_type": "stream",
       "stream": "stdout",
       "text": [
        "Train Epoch 11: [140000/180000 (78%)]\ttotal_loss: 0.678902\tclf_loss: 0.668098\tmmd_loss: 0.108044\n"
       ]
      },
      {
       "output_type": "stream",
       "stream": "stdout",
       "text": [
        "Train Epoch 11: [150000/180000 (83%)]\ttotal_loss: 0.456572\tclf_loss: 0.449734\tmmd_loss: 0.068380\n"
       ]
      },
      {
       "output_type": "stream",
       "stream": "stdout",
       "text": [
        "Train Epoch 11: [160000/180000 (89%)]\ttotal_loss: 0.603962\tclf_loss: 0.594648\tmmd_loss: 0.093141\n"
       ]
      },
      {
       "output_type": "stream",
       "stream": "stdout",
       "text": [
        "Train Epoch 11: [170000/180000 (94%)]\ttotal_loss: 0.560751\tclf_loss: 0.552185\tmmd_loss: 0.085658\n"
       ]
      },
      {
       "output_type": "stream",
       "stream": "stdout",
       "text": [
        "Train Epoch 11: [180000/180000 (100%)]\ttotal_loss: 0.523402\tclf_loss: 0.513928\tmmd_loss: 0.094744\n"
       ]
      },
      {
       "output_type": "stream",
       "stream": "stdout",
       "text": [
        "Validation: total_loss: 0.6829, clf_loss: 0.6713, mmd_loss: 0.1157, accuracy: 14498/20000 (72.49%)\n",
        "Train Epoch 12:\n"
       ]
      },
      {
       "output_type": "stream",
       "stream": "stdout",
       "text": [
        "Train Epoch 12: [10000/180000 (6%)]\ttotal_loss: 0.498219\tclf_loss: 0.487291\tmmd_loss: 0.109273\n"
       ]
      },
      {
       "output_type": "stream",
       "stream": "stdout",
       "text": [
        "Train Epoch 12: [20000/180000 (11%)]\ttotal_loss: 0.563862\tclf_loss: 0.553472\tmmd_loss: 0.103897\n"
       ]
      },
      {
       "output_type": "stream",
       "stream": "stdout",
       "text": [
        "Train Epoch 12: [30000/180000 (17%)]\ttotal_loss: 0.566891\tclf_loss: 0.552120\tmmd_loss: 0.147705\n"
       ]
      },
      {
       "output_type": "stream",
       "stream": "stdout",
       "text": [
        "Train Epoch 12: [40000/180000 (22%)]\ttotal_loss: 0.683498\tclf_loss: 0.670397\tmmd_loss: 0.131009\n"
       ]
      },
      {
       "output_type": "stream",
       "stream": "stdout",
       "text": [
        "Train Epoch 12: [50000/180000 (28%)]\ttotal_loss: 0.599310\tclf_loss: 0.586146\tmmd_loss: 0.131641\n"
       ]
      },
      {
       "output_type": "stream",
       "stream": "stdout",
       "text": [
        "Train Epoch 12: [60000/180000 (33%)]\ttotal_loss: 0.540392\tclf_loss: 0.522963\tmmd_loss: 0.174290\n"
       ]
      },
      {
       "output_type": "stream",
       "stream": "stdout",
       "text": [
        "Train Epoch 12: [70000/180000 (39%)]\ttotal_loss: 0.643536\tclf_loss: 0.630017\tmmd_loss: 0.135190\n"
       ]
      },
      {
       "output_type": "stream",
       "stream": "stdout",
       "text": [
        "Train Epoch 12: [80000/180000 (44%)]\ttotal_loss: 0.644674\tclf_loss: 0.633083\tmmd_loss: 0.115911\n"
       ]
      },
      {
       "output_type": "stream",
       "stream": "stdout",
       "text": [
        "Train Epoch 12: [90000/180000 (50%)]\ttotal_loss: 0.548081\tclf_loss: 0.536186\tmmd_loss: 0.118945\n"
       ]
      },
      {
       "output_type": "stream",
       "stream": "stdout",
       "text": [
        "Train Epoch 12: [100000/180000 (56%)]\ttotal_loss: 0.670844\tclf_loss: 0.658763\tmmd_loss: 0.120809\n"
       ]
      },
      {
       "output_type": "stream",
       "stream": "stdout",
       "text": [
        "Train Epoch 12: [110000/180000 (61%)]\ttotal_loss: 0.661671\tclf_loss: 0.647745\tmmd_loss: 0.139259\n"
       ]
      },
      {
       "output_type": "stream",
       "stream": "stdout",
       "text": [
        "Train Epoch 12: [120000/180000 (67%)]\ttotal_loss: 0.711193\tclf_loss: 0.696429\tmmd_loss: 0.147641\n"
       ]
      },
      {
       "output_type": "stream",
       "stream": "stdout",
       "text": [
        "Train Epoch 12: [130000/180000 (72%)]\ttotal_loss: 0.547857\tclf_loss: 0.530085\tmmd_loss: 0.177715\n"
       ]
      },
      {
       "output_type": "stream",
       "stream": "stdout",
       "text": [
        "Train Epoch 12: [140000/180000 (78%)]\ttotal_loss: 0.562113\tclf_loss: 0.552134\tmmd_loss: 0.099783\n"
       ]
      },
      {
       "output_type": "stream",
       "stream": "stdout",
       "text": [
        "Train Epoch 12: [150000/180000 (83%)]\ttotal_loss: 0.513803\tclf_loss: 0.503940\tmmd_loss: 0.098627\n"
       ]
      },
      {
       "output_type": "stream",
       "stream": "stdout",
       "text": [
        "Train Epoch 12: [160000/180000 (89%)]\ttotal_loss: 0.627399\tclf_loss: 0.617731\tmmd_loss: 0.096678\n"
       ]
      },
      {
       "output_type": "stream",
       "stream": "stdout",
       "text": [
        "Train Epoch 12: [170000/180000 (94%)]\ttotal_loss: 0.606551\tclf_loss: 0.596977\tmmd_loss: 0.095731\n"
       ]
      },
      {
       "output_type": "stream",
       "stream": "stdout",
       "text": [
        "Train Epoch 12: [180000/180000 (100%)]\ttotal_loss: 0.665696\tclf_loss: 0.654476\tmmd_loss: 0.112197\n"
       ]
      },
      {
       "output_type": "stream",
       "stream": "stdout",
       "text": [
        "Validation: total_loss: 0.6607, clf_loss: 0.6495, mmd_loss: 0.1125, accuracy: 14391/20000 (71.96%)\n",
        "Train Epoch 13:\n"
       ]
      },
      {
       "output_type": "stream",
       "stream": "stdout",
       "text": [
        "Train Epoch 13: [10000/180000 (6%)]\ttotal_loss: 0.628500\tclf_loss: 0.600049\tmmd_loss: 0.284502\n"
       ]
      },
      {
       "output_type": "stream",
       "stream": "stdout",
       "text": [
        "Train Epoch 13: [20000/180000 (11%)]\ttotal_loss: 0.703880\tclf_loss: 0.692524\tmmd_loss: 0.113562\n"
       ]
      },
      {
       "output_type": "stream",
       "stream": "stdout",
       "text": [
        "Train Epoch 13: [30000/180000 (17%)]\ttotal_loss: 0.656172\tclf_loss: 0.647518\tmmd_loss: 0.086539\n"
       ]
      },
      {
       "output_type": "stream",
       "stream": "stdout",
       "text": [
        "Train Epoch 13: [40000/180000 (22%)]\ttotal_loss: 0.479877\tclf_loss: 0.468535\tmmd_loss: 0.113419\n"
       ]
      },
      {
       "output_type": "stream",
       "stream": "stdout",
       "text": [
        "Train Epoch 13: [50000/180000 (28%)]\ttotal_loss: 0.664865\tclf_loss: 0.654624\tmmd_loss: 0.102410\n"
       ]
      },
      {
       "output_type": "stream",
       "stream": "stdout",
       "text": [
        "Train Epoch 13: [60000/180000 (33%)]\ttotal_loss: 0.423412\tclf_loss: 0.412364\tmmd_loss: 0.110473\n"
       ]
      },
      {
       "output_type": "stream",
       "stream": "stdout",
       "text": [
        "Train Epoch 13: [70000/180000 (39%)]\ttotal_loss: 0.647806\tclf_loss: 0.634959\tmmd_loss: 0.128478\n"
       ]
      },
      {
       "output_type": "stream",
       "stream": "stdout",
       "text": [
        "Train Epoch 13: [80000/180000 (44%)]\ttotal_loss: 0.625904\tclf_loss: 0.613707\tmmd_loss: 0.121971\n"
       ]
      },
      {
       "output_type": "stream",
       "stream": "stdout",
       "text": [
        "Train Epoch 13: [90000/180000 (50%)]\ttotal_loss: 0.554695\tclf_loss: 0.541612\tmmd_loss: 0.130830\n"
       ]
      },
      {
       "output_type": "stream",
       "stream": "stdout",
       "text": [
        "Train Epoch 13: [100000/180000 (56%)]\ttotal_loss: 0.782738\tclf_loss: 0.769963\tmmd_loss: 0.127745\n"
       ]
      },
      {
       "output_type": "stream",
       "stream": "stdout",
       "text": [
        "Train Epoch 13: [110000/180000 (61%)]\ttotal_loss: 0.630810\tclf_loss: 0.615152\tmmd_loss: 0.156588\n"
       ]
      },
      {
       "output_type": "stream",
       "stream": "stdout",
       "text": [
        "Train Epoch 13: [120000/180000 (67%)]\ttotal_loss: 0.674679\tclf_loss: 0.658257\tmmd_loss: 0.164223\n"
       ]
      },
      {
       "output_type": "stream",
       "stream": "stdout",
       "text": [
        "Train Epoch 13: [130000/180000 (72%)]\ttotal_loss: 0.621748\tclf_loss: 0.611657\tmmd_loss: 0.100908\n"
       ]
      },
      {
       "output_type": "stream",
       "stream": "stdout",
       "text": [
        "Train Epoch 13: [140000/180000 (78%)]\ttotal_loss: 0.798801\tclf_loss: 0.749768\tmmd_loss: 0.490328\n"
       ]
      },
      {
       "output_type": "stream",
       "stream": "stdout",
       "text": [
        "Train Epoch 13: [150000/180000 (83%)]\ttotal_loss: 0.695841\tclf_loss: 0.679274\tmmd_loss: 0.165669\n"
       ]
      },
      {
       "output_type": "stream",
       "stream": "stdout",
       "text": [
        "Train Epoch 13: [160000/180000 (89%)]\ttotal_loss: 0.723510\tclf_loss: 0.710073\tmmd_loss: 0.134364\n"
       ]
      },
      {
       "output_type": "stream",
       "stream": "stdout",
       "text": [
        "Train Epoch 13: [170000/180000 (94%)]\ttotal_loss: 0.775817\tclf_loss: 0.765617\tmmd_loss: 0.101999\n"
       ]
      },
      {
       "output_type": "stream",
       "stream": "stdout",
       "text": [
        "Train Epoch 13: [180000/180000 (100%)]\ttotal_loss: 0.637243\tclf_loss: 0.618650\tmmd_loss: 0.185930\n"
       ]
      },
      {
       "output_type": "stream",
       "stream": "stdout",
       "text": [
        "Validation: total_loss: 0.6154, clf_loss: 0.6033, mmd_loss: 0.1212, accuracy: 15178/20000 (75.89%)\n",
        "Train Epoch 14:\n"
       ]
      },
      {
       "output_type": "stream",
       "stream": "stdout",
       "text": [
        "Train Epoch 14: [10000/180000 (6%)]\ttotal_loss: 0.745648\tclf_loss: 0.735494\tmmd_loss: 0.101543\n"
       ]
      },
      {
       "output_type": "stream",
       "stream": "stdout",
       "text": [
        "Train Epoch 14: [20000/180000 (11%)]\ttotal_loss: 0.549785\tclf_loss: 0.541115\tmmd_loss: 0.086698\n"
       ]
      },
      {
       "output_type": "stream",
       "stream": "stdout",
       "text": [
        "Train Epoch 14: [30000/180000 (17%)]\ttotal_loss: 0.621028\tclf_loss: 0.612886\tmmd_loss: 0.081422\n"
       ]
      },
      {
       "output_type": "stream",
       "stream": "stdout",
       "text": [
        "Train Epoch 14: [40000/180000 (22%)]\ttotal_loss: 0.671212\tclf_loss: 0.661327\tmmd_loss: 0.098845\n"
       ]
      },
      {
       "output_type": "stream",
       "stream": "stdout",
       "text": [
        "Train Epoch 14: [50000/180000 (28%)]\ttotal_loss: 0.621640\tclf_loss: 0.613563\tmmd_loss: 0.080772\n"
       ]
      },
      {
       "output_type": "stream",
       "stream": "stdout",
       "text": [
        "Train Epoch 14: [60000/180000 (33%)]\ttotal_loss: 0.511938\tclf_loss: 0.500431\tmmd_loss: 0.115064\n"
       ]
      },
      {
       "output_type": "stream",
       "stream": "stdout",
       "text": [
        "Train Epoch 14: [70000/180000 (39%)]\ttotal_loss: 0.600466\tclf_loss: 0.582114\tmmd_loss: 0.183520\n"
       ]
      },
      {
       "output_type": "stream",
       "stream": "stdout",
       "text": [
        "Train Epoch 14: [80000/180000 (44%)]\ttotal_loss: 0.523864\tclf_loss: 0.516480\tmmd_loss: 0.073832\n"
       ]
      },
      {
       "output_type": "stream",
       "stream": "stdout",
       "text": [
        "Train Epoch 14: [90000/180000 (50%)]\ttotal_loss: 0.552414\tclf_loss: 0.544868\tmmd_loss: 0.075462\n"
       ]
      },
      {
       "output_type": "stream",
       "stream": "stdout",
       "text": [
        "Train Epoch 14: [100000/180000 (56%)]\ttotal_loss: 0.503651\tclf_loss: 0.493752\tmmd_loss: 0.098988\n"
       ]
      },
      {
       "output_type": "stream",
       "stream": "stdout",
       "text": [
        "Train Epoch 14: [110000/180000 (61%)]\ttotal_loss: 0.501721\tclf_loss: 0.494607\tmmd_loss: 0.071145\n"
       ]
      },
      {
       "output_type": "stream",
       "stream": "stdout",
       "text": [
        "Train Epoch 14: [120000/180000 (67%)]\ttotal_loss: 0.592940\tclf_loss: 0.585588\tmmd_loss: 0.073517\n"
       ]
      },
      {
       "output_type": "stream",
       "stream": "stdout",
       "text": [
        "Train Epoch 14: [130000/180000 (72%)]\ttotal_loss: 0.776426\tclf_loss: 0.769299\tmmd_loss: 0.071267\n"
       ]
      },
      {
       "output_type": "stream",
       "stream": "stdout",
       "text": [
        "Train Epoch 14: [140000/180000 (78%)]\ttotal_loss: 0.628076\tclf_loss: 0.619044\tmmd_loss: 0.090314\n"
       ]
      },
      {
       "output_type": "stream",
       "stream": "stdout",
       "text": [
        "Train Epoch 14: [150000/180000 (83%)]\ttotal_loss: 0.465964\tclf_loss: 0.454212\tmmd_loss: 0.117521\n"
       ]
      },
      {
       "output_type": "stream",
       "stream": "stdout",
       "text": [
        "Train Epoch 14: [160000/180000 (89%)]\ttotal_loss: 0.676491\tclf_loss: 0.667511\tmmd_loss: 0.089804\n"
       ]
      },
      {
       "output_type": "stream",
       "stream": "stdout",
       "text": [
        "Train Epoch 14: [170000/180000 (94%)]\ttotal_loss: 0.547030\tclf_loss: 0.539892\tmmd_loss: 0.071376\n"
       ]
      },
      {
       "output_type": "stream",
       "stream": "stdout",
       "text": [
        "Train Epoch 14: [180000/180000 (100%)]\ttotal_loss: 0.497903\tclf_loss: 0.485144\tmmd_loss: 0.127597\n"
       ]
      },
      {
       "output_type": "stream",
       "stream": "stdout",
       "text": [
        "Validation: total_loss: 0.5697, clf_loss: 0.5586, mmd_loss: 0.1108, accuracy: 15480/20000 (77.40%)\n",
        "Train Epoch 15:\n"
       ]
      },
      {
       "output_type": "stream",
       "stream": "stdout",
       "text": [
        "Train Epoch 15: [10000/180000 (6%)]\ttotal_loss: 0.478718\tclf_loss: 0.463011\tmmd_loss: 0.157063\n"
       ]
      },
      {
       "output_type": "stream",
       "stream": "stdout",
       "text": [
        "Train Epoch 15: [20000/180000 (11%)]\ttotal_loss: 0.502837\tclf_loss: 0.491007\tmmd_loss: 0.118304\n"
       ]
      },
      {
       "output_type": "stream",
       "stream": "stdout",
       "text": [
        "Train Epoch 15: [30000/180000 (17%)]\ttotal_loss: 0.739838\tclf_loss: 0.718145\tmmd_loss: 0.216924\n"
       ]
      },
      {
       "output_type": "stream",
       "stream": "stdout",
       "text": [
        "Train Epoch 15: [40000/180000 (22%)]\ttotal_loss: 0.460166\tclf_loss: 0.440845\tmmd_loss: 0.193204\n"
       ]
      },
      {
       "output_type": "stream",
       "stream": "stdout",
       "text": [
        "Train Epoch 15: [50000/180000 (28%)]\ttotal_loss: 0.640103\tclf_loss: 0.624808\tmmd_loss: 0.152945\n"
       ]
      },
      {
       "output_type": "stream",
       "stream": "stdout",
       "text": [
        "Train Epoch 15: [60000/180000 (33%)]\ttotal_loss: 0.551479\tclf_loss: 0.540842\tmmd_loss: 0.106365\n"
       ]
      },
      {
       "output_type": "stream",
       "stream": "stdout",
       "text": [
        "Train Epoch 15: [70000/180000 (39%)]\ttotal_loss: 0.556779\tclf_loss: 0.544894\tmmd_loss: 0.118852\n"
       ]
      },
      {
       "output_type": "stream",
       "stream": "stdout",
       "text": [
        "Train Epoch 15: [80000/180000 (44%)]\ttotal_loss: 0.609204\tclf_loss: 0.597696\tmmd_loss: 0.115075\n"
       ]
      },
      {
       "output_type": "stream",
       "stream": "stdout",
       "text": [
        "Train Epoch 15: [90000/180000 (50%)]\ttotal_loss: 0.593455\tclf_loss: 0.581596\tmmd_loss: 0.118591\n"
       ]
      },
      {
       "output_type": "stream",
       "stream": "stdout",
       "text": [
        "Train Epoch 15: [100000/180000 (56%)]\ttotal_loss: 0.619726\tclf_loss: 0.612950\tmmd_loss: 0.067760\n"
       ]
      },
      {
       "output_type": "stream",
       "stream": "stdout",
       "text": [
        "Train Epoch 15: [110000/180000 (61%)]\ttotal_loss: 0.769660\tclf_loss: 0.757953\tmmd_loss: 0.117072\n"
       ]
      },
      {
       "output_type": "stream",
       "stream": "stdout",
       "text": [
        "Train Epoch 15: [120000/180000 (67%)]\ttotal_loss: 0.548097\tclf_loss: 0.534805\tmmd_loss: 0.132916\n"
       ]
      },
      {
       "output_type": "stream",
       "stream": "stdout",
       "text": [
        "Train Epoch 15: [130000/180000 (72%)]\ttotal_loss: 0.640444\tclf_loss: 0.626380\tmmd_loss: 0.140641\n"
       ]
      },
      {
       "output_type": "stream",
       "stream": "stdout",
       "text": [
        "Train Epoch 15: [140000/180000 (78%)]\ttotal_loss: 0.592531\tclf_loss: 0.581075\tmmd_loss: 0.114561\n"
       ]
      },
      {
       "output_type": "stream",
       "stream": "stdout",
       "text": [
        "Train Epoch 15: [150000/180000 (83%)]\ttotal_loss: 0.597896\tclf_loss: 0.583173\tmmd_loss: 0.147226\n"
       ]
      },
      {
       "output_type": "stream",
       "stream": "stdout",
       "text": [
        "Train Epoch 15: [160000/180000 (89%)]\ttotal_loss: 0.629517\tclf_loss: 0.611052\tmmd_loss: 0.184643\n"
       ]
      },
      {
       "output_type": "stream",
       "stream": "stdout",
       "text": [
        "Train Epoch 15: [170000/180000 (94%)]\ttotal_loss: 0.682540\tclf_loss: 0.672958\tmmd_loss: 0.095822\n"
       ]
      },
      {
       "output_type": "stream",
       "stream": "stdout",
       "text": [
        "Train Epoch 15: [180000/180000 (100%)]\ttotal_loss: 0.566213\tclf_loss: 0.555785\tmmd_loss: 0.104280\n"
       ]
      },
      {
       "output_type": "stream",
       "stream": "stdout",
       "text": [
        "Validation: total_loss: 0.5782, clf_loss: 0.5666, mmd_loss: 0.1162, accuracy: 15485/20000 (77.43%)\n",
        "time: 28min 9s\n"
       ]
      }
     ],
     "prompt_number": 10
    },
    {
     "cell_type": "heading",
     "level": 2,
     "metadata": {},
     "source": [
      "Performance of the fine-tuned model"
     ]
    },
    {
     "cell_type": "code",
     "collapsed": false,
     "input": [
      "# create a network\n",
      "model = Net(num_classes=class_num)\n",
      "print('Construct model complete')\n",
      "if cuda:\n",
      "    model.cuda()\n",
      "# load the fine-tuned model\n",
      "checkpoint = torch.load('./our_models/last_valid_loss_finetuned_device{}_to_{}.pth'.format(source_device_id, target_device_id))\n",
      "finetuned_dict = checkpoint['model_state_dict']\n",
      "model.load_state_dict(finetuned_dict)\n",
      "print('Results after fine-tuning:')\n",
      "# evaluate the fine-tuned model on source and target domain\n",
      "with torch.no_grad():\n",
      "    print('Result on source device:')\n",
      "    test(model, source_device_id,disp_GE=True, disp_MAT=True,model_flag='finetuned_source')\n",
      "    print('Result on target device:')\n",
      "    test(model, target_device_id, disp_GE=True,disp_MAT=True,model_flag='finetuned_target')"
     ],
     "language": "python",
     "metadata": {},
     "outputs": [
      {
       "output_type": "stream",
       "stream": "stdout",
       "text": [
        "Construct model complete\n"
       ]
      },
      {
       "output_type": "stream",
       "stream": "stdout",
       "text": [
        "Results after fine-tuning:\n",
        "Result on source device:\n"
       ]
      },
      {
       "output_type": "stream",
       "stream": "stdout",
       "text": [
        "Target test loss: 0.5716, Target test accuracy: 30786/40000 (76.96%)\n",
        "\n"
       ]
      },
      {
       "output_type": "display_data",
       "png": "[encoded data removed]",
       "text": [
        "<Figure size 800x600 with 2 Axes>"
       ]
      },
      {
       "output_type": "display_data",
       "png": "[encoded data removed]",
       "text": [
        "<Figure size 1200x400 with 2 Axes>"
       ]
      },
      {
       "output_type": "stream",
       "stream": "stdout",
       "text": [
        "Result on target device:\n"
       ]
      },
      {
       "output_type": "stream",
       "stream": "stdout",
       "text": [
        "Target test loss: 10.4815, Target test accuracy: 3561/20000 (17.81%)\n",
        "\n"
       ]
      },
      {
       "output_type": "display_data",
       "png": "[encoded data removed]",
       "text": [
        "<Figure size 800x600 with 2 Axes>"
       ]
      },
      {
       "output_type": "display_data",
       "png": "[encoded data removed]",
       "text": [
        "<Figure size 1200x400 with 2 Axes>"
       ]
      },
      {
       "output_type": "stream",
       "stream": "stdout",
       "text": [
        "time: 1min 11s\n"
       ]
      }
     ],
     "prompt_number": 11
    },
    {
     "cell_type": "code",
     "collapsed": false,
     "input": [],
     "language": "python",
     "metadata": {},
     "outputs": [
      {
       "output_type": "stream",
       "stream": "stdout",
       "text": [
        "time: 1min 11s\n"
       ]
      }
     ],
     "prompt_number": 12
    }
   ],
   "metadata": {}
  }
 ]
}
