{
 "cells": [
  {
   "cell_type": "markdown",
   "metadata": {},
   "source": [
    "## adding key to the tuning data"
   ]
  },
  {
   "cell_type": "code",
   "execution_count": 1,
   "metadata": {},
   "outputs": [],
   "source": [
    "import numpy as np\n",
    "%load_ext autotime"
   ]
  },
  {
   "cell_type": "code",
   "execution_count": 2,
   "metadata": {},
   "outputs": [
    {
     "name": "stdout",
     "output_type": "stream",
     "text": [
      "time: 88.9 ms\n"
     ]
    }
   ],
   "source": [
    "def add_key(tune_data_path=None,test_data_path=None,output_tune_data_path=None):\n",
    "    \"\"\"\n",
    "    add 'key' attrubte of test data to tune data \n",
    "    as tune data does not include 'key'\n",
    "    \"\"\"\n",
    "    tune_data = np.load(tune_data_path)\n",
    "    test_data = np.load(test_data_path)\n",
    "    print(f\"attribute of tune data {tune_data.files}\")\n",
    "    if 'key' not in tune_data.files:\n",
    "        #np.savez_compressed(output_tune_data_path,power_trace=tune_data['power_trace'],plain_text=tune_data['plain_text'],key=test_data['key'])\n",
    "        np.savez(output_tune_data_path,power_trace=tune_data['power_trace'],plain_text=tune_data['plain_text'],key=test_data['key'])\n",
    "        print(\"'key' adds sucessfully!\")\n",
    "\n",
    "        tune_data_w_key = np.load(output_tune_data_path)\n",
    "        print(f\"attributes of new tune data {tune_data_w_key.files}\")\n",
    "        print(f\"shape of 'key' is {tune_data_w_key['key'].shape}, and key is {tune_data_w_key['key']}\")\n",
    "        print(f\"shape of power trace is {tune_data_w_key['power_trace'].shape}\")\n",
    "        print(f\"shape of plain text is {tune_data_w_key['plain_text'].shape}\")\n",
    "    else:\n",
    "        print(f\"'key' exists in tune data, no further adding step!\")"
   ]
  },
  {
   "cell_type": "markdown",
   "metadata": {},
   "source": [
    "## XMEGA Unmasked "
   ]
  },
  {
   "cell_type": "code",
   "execution_count": 3,
   "metadata": {},
   "outputs": [
    {
     "name": "stdout",
     "output_type": "stream",
     "text": [
      "attribute of tune data ['power_trace', 'plain_text']\n",
      "'key' adds sucessfully!\n",
      "attributes of new tune data ['power_trace', 'plain_text', 'key']\n",
      "shape of 'key' is (16,), and key is [112  25 236  86 208 121 246 166 121 214 187 133  45  97  96  48]\n",
      "shape of power trace is (2500, 5000)\n",
      "shape of plain text is (2500, 16)\n",
      "time: 1.41 s\n"
     ]
    }
   ],
   "source": [
    "tune_data_path='./our_data/unmasked/device02/PC2_CB2_TDX3_K3_U_2500_b_0317.npz'\n",
    "test_data_path='./our_data/unmasked/device02/PC2_CB2_TDX3_K3_U_20k_0317.npz'\n",
    "output_tune_data_path='./our_data/unmasked/device02/PC2_CB2_TDX3_K3_U_2500_b_0326.npz'\n",
    "add_key(tune_data_path,test_data_path,output_tune_data_path)"
   ]
  },
  {
   "cell_type": "markdown",
   "metadata": {},
   "source": [
    "## STM32 Unmasked"
   ]
  },
  {
   "cell_type": "code",
   "execution_count": 4,
   "metadata": {},
   "outputs": [
    {
     "name": "stdout",
     "output_type": "stream",
     "text": [
      "attribute of tune data ['power_trace', 'plain_text']\n",
      "'key' adds sucessfully!\n",
      "attributes of new tune data ['power_trace', 'plain_text', 'key']\n",
      "shape of 'key' is (16,), and key is [198  91  97  57 152  71 214 101 138  74  78  84  27 234  87  22]\n",
      "shape of power trace is (2500, 5000)\n",
      "shape of plain text is (2500, 16)\n",
      "time: 808 ms\n"
     ]
    }
   ],
   "source": [
    "tune_data_path='../STM32_unmasked/our_data/tuning_data/PC2_CB2_TDS3_K6_U_2500_b_0317.npz'\n",
    "test_data_path='../STM32_unmasked/our_data/tuning_data/PC2_CB2_TDS3_K6_U_20k_0317.npz'\n",
    "output_tune_data_path='../STM32_unmasked/our_data/tuning_data/PC2_CB2_TDS3_K6_U_2500_b_0326.npz'\n",
    "add_key(tune_data_path,test_data_path,output_tune_data_path)"
   ]
  },
  {
   "cell_type": "markdown",
   "metadata": {},
   "source": [
    "## XMEGA Masked"
   ]
  },
  {
   "cell_type": "code",
   "execution_count": 5,
   "metadata": {},
   "outputs": [
    {
     "name": "stdout",
     "output_type": "stream",
     "text": [
      "attribute of tune data ['power_trace', 'plain_text']\n",
      "'key' adds sucessfully!\n",
      "attributes of new tune data ['power_trace', 'plain_text', 'key']\n",
      "shape of 'key' is (16,), and key is [237 236 182 114 179 179  65  26 174 236 145  76   9 177 226 108]\n",
      "shape of power trace is (2500, 5000)\n",
      "shape of plain text is (2500, 16)\n",
      "time: 879 ms\n"
     ]
    }
   ],
   "source": [
    "tune_data_path='../XMEGA_masked/our_data/tuning_data/PC2_CB2_TDX3_K9_M_2500_b_0317.npz'\n",
    "test_data_path='../XMEGA_masked/our_data/tuning_data/PC2_CB2_TDX3_K9_M_20k_0317.npz'\n",
    "output_tune_data_path='../XMEGA_masked/our_data/tuning_data/PC2_CB2_TDX3_K9_M_2500_b_0326.npz'\n",
    "add_key(tune_data_path,test_data_path,output_tune_data_path)\n",
    "\n"
   ]
  },
  {
   "cell_type": "code",
   "execution_count": 6,
   "metadata": {},
   "outputs": [
    {
     "name": "stdout",
     "output_type": "stream",
     "text": [
      "time: 116 µs\n"
     ]
    }
   ],
   "source": [
    "# ori = np.load(tune_data_path)\n",
    "# new = np.load(output_tune_data_path)\n",
    "# print(f\"{True if new['power_trace'].all()==ori['power_trace'].all() else False}\")\n",
    "# print(f\"{new['power_trace']}\")\n",
    "# print(f\"{ori['power_trace']}\")"
   ]
  }
 ],
 "metadata": {
  "kernelspec": {
   "display_name": "Python [conda env:sca]",
   "language": "python",
   "name": "conda-env-sca-py"
  },
  "language_info": {
   "codemirror_mode": {
    "name": "ipython",
    "version": 3
   },
   "file_extension": ".py",
   "mimetype": "text/x-python",
   "name": "python",
   "nbconvert_exporter": "python",
   "pygments_lexer": "ipython3",
   "version": "3.8.8"
  }
 },
 "nbformat": 4,
 "nbformat_minor": 4
}
