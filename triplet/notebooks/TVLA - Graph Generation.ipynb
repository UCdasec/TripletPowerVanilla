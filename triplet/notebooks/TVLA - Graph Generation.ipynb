{
 "cells": [
  {
   "cell_type": "markdown",
   "metadata": {},
   "source": [
    "The purpose of this notebook is to plot test vector leakage assessment results.\n",
    "\n",
    "Below are descriptions of the input parameters:\n",
    "- input path: The path to the directory containing the tvla results to plot. The plots are also saved in this directory.\n",
    "- target_byte: The specific target byte being plotted. This value corresponds to the specific .csv file that will be plotted.\n",
    "- byte_value: The specific byte value being plotted. This and the above parameter values correspond to the specific .csv file that will be plotted."
   ]
  },
  {
   "cell_type": "code",
   "execution_count": 1,
   "metadata": {},
   "outputs": [
    {
     "data": {
      "text/html": [
       "<pre>✔️ 1.21 ms (2022-04-07T13:24:31/2022-04-07T13:24:31)</pre>"
      ],
      "text/plain": [
       "<IPython.core.display.HTML object>"
      ]
     },
     "metadata": {},
     "output_type": "display_data"
    }
   ],
   "source": [
    "import os, sys\n",
    "import pandas as pd\n",
    "from math import floor, ceil\n",
    "\n",
    "sys.path.append('../utilities/')\n",
    "from graphGenerationUtilities import *\n",
    "\n",
    "%load_ext autotime"
   ]
  },
  {
   "cell_type": "code",
   "execution_count": 2,
   "metadata": {},
   "outputs": [
    {
     "data": {
      "text/html": [
       "<pre>✔️ 386 µs (2022-04-07T13:24:31/2022-04-07T13:24:31)</pre>"
      ],
      "text/plain": [
       "<IPython.core.display.HTML object>"
      ]
     },
     "metadata": {},
     "output_type": "display_data"
    }
   ],
   "source": [
    "data_params = {\n",
    "    \"input_path\":\"../results/unmasked-aes-xmega/test-vector-leakage-assessment/PC2_CB2_TDX3_K0_U_20k/\", # Path to load the data\n",
    "    \"target_byte\": 0, # Target byte to identify which file to plot\n",
    "    \"byte_value\": 43 # Byte Value to identify which file to plot\n",
    "}"
   ]
  },
  {
   "cell_type": "code",
   "execution_count": 3,
   "metadata": {},
   "outputs": [
    {
     "data": {
      "text/html": [
       "<pre>✔️ 13.3 ms (2022-04-07T13:24:32/2022-04-07T13:24:32)</pre>"
      ],
      "text/plain": [
       "<IPython.core.display.HTML object>"
      ]
     },
     "metadata": {},
     "output_type": "display_data"
    },
    {
     "data": {
      "text/html": [
       "<div>\n",
       "<style scoped>\n",
       "    .dataframe tbody tr th:only-of-type {\n",
       "        vertical-align: middle;\n",
       "    }\n",
       "\n",
       "    .dataframe tbody tr th {\n",
       "        vertical-align: top;\n",
       "    }\n",
       "\n",
       "    .dataframe thead th {\n",
       "        text-align: right;\n",
       "    }\n",
       "</style>\n",
       "<table border=\"1\" class=\"dataframe\">\n",
       "  <thead>\n",
       "    <tr style=\"text-align: right;\">\n",
       "      <th></th>\n",
       "      <th>time</th>\n",
       "      <th>t-value</th>\n",
       "    </tr>\n",
       "  </thead>\n",
       "  <tbody>\n",
       "    <tr>\n",
       "      <th>0</th>\n",
       "      <td>1801</td>\n",
       "      <td>-0.292302</td>\n",
       "    </tr>\n",
       "    <tr>\n",
       "      <th>1</th>\n",
       "      <td>1802</td>\n",
       "      <td>0.238101</td>\n",
       "    </tr>\n",
       "    <tr>\n",
       "      <th>2</th>\n",
       "      <td>1803</td>\n",
       "      <td>-0.031082</td>\n",
       "    </tr>\n",
       "    <tr>\n",
       "      <th>3</th>\n",
       "      <td>1804</td>\n",
       "      <td>-0.161954</td>\n",
       "    </tr>\n",
       "    <tr>\n",
       "      <th>4</th>\n",
       "      <td>1805</td>\n",
       "      <td>-0.578133</td>\n",
       "    </tr>\n",
       "  </tbody>\n",
       "</table>\n",
       "</div>"
      ],
      "text/plain": [
       "   time   t-value\n",
       "0  1801 -0.292302\n",
       "1  1802  0.238101\n",
       "2  1803 -0.031082\n",
       "3  1804 -0.161954\n",
       "4  1805 -0.578133"
      ]
     },
     "execution_count": 3,
     "metadata": {},
     "output_type": "execute_result"
    }
   ],
   "source": [
    "# Read the csv file containing the tvla results\n",
    "f_name = \"target-byte-\" + str(data_params[\"target_byte\"]) + \"-byte-value-\" + str(data_params[\"byte_value\"])\n",
    "tvla_path = os.path.join(data_params['input_path'], f_name + \".csv\")\n",
    "try:\n",
    "    tvla_results = pd.read_csv(tvla_path)\n",
    "except OSError:\n",
    "    print(\"could not access {}\".format(f_name))\n",
    "    sys.exit()\n",
    "    \n",
    "tvla_results.head()"
   ]
  },
  {
   "cell_type": "code",
   "execution_count": 4,
   "metadata": {},
   "outputs": [
    {
     "data": {
      "text/html": [
       "<pre>✔️ 1.9 ms (2022-04-07T13:24:32/2022-04-07T13:24:32)</pre>"
      ],
      "text/plain": [
       "<IPython.core.display.HTML object>"
      ]
     },
     "metadata": {},
     "output_type": "display_data"
    }
   ],
   "source": [
    "# min and max t values are found for y-ticks of plot.\n",
    "min_t_val = floor(tvla_results[\"t-value\"].min())\n",
    "max_t_val = ceil(tvla_results[\"t-value\"].max())\n",
    "\n",
    "# The range of the above values is calculated.\n",
    "# This is floored with an arbitrarily-selected value. This value affects the number of y-ticks shown.\n",
    "# This will represent the amount incremented between y-ticks.\n",
    "t_val_increment = ((max_t_val - min_t_val)//5)\n",
    "\n",
    "# The increment value is ensured to be at least 1.\n",
    "if not(t_val_increment):\n",
    "    t_val_increment = 1\n",
    "    \n",
    "# The y_ticks are created. \n",
    "y_ticks = list(range(min_t_val, max_t_val+1, t_val_increment))\n",
    "\n",
    "# If the max t value was not included in the range (the data extends above the largest y-tick)\n",
    "# Then a new value is added to the y-ticks; the current max y-tick plus the increment value.\n",
    "if not(max_t_val in y_ticks):\n",
    "    y_ticks.append(y_ticks[-1]+t_val_increment)"
   ]
  },
  {
   "cell_type": "code",
   "execution_count": 5,
   "metadata": {},
   "outputs": [
    {
     "data": {
      "text/html": [
       "<pre>✔️ 904 µs (2022-04-07T13:24:32/2022-04-07T13:24:32)</pre>"
      ],
      "text/plain": [
       "<IPython.core.display.HTML object>"
      ]
     },
     "metadata": {},
     "output_type": "display_data"
    }
   ],
   "source": [
    "# The x ticks are calculated. There is some variability with these values between masked and unmasked (due to num_time_samples)\n",
    "# so, code was introduced to account for the differences.\n",
    "num_time_samples = tvla_results.shape[0]\n",
    "time_samples_inc = num_time_samples//5\n",
    "# The first time value is the start_idx + 1.\n",
    "# For better formatting of the results, the x-ticks begin from one less than this.\n",
    "first_time_val = tvla_results['time'][0]\n",
    "x_ticks = list(range(first_time_val - 1, first_time_val + num_time_samples, time_samples_inc))"
   ]
  },
  {
   "cell_type": "code",
   "execution_count": 6,
   "metadata": {},
   "outputs": [
    {
     "data": {
      "text/html": [
       "<pre>✔️ 198 ms (2022-04-07T13:24:32/2022-04-07T13:24:32)</pre>"
      ],
      "text/plain": [
       "<IPython.core.display.HTML object>"
      ]
     },
     "metadata": {},
     "output_type": "display_data"
    },
    {
     "data": {
      "image/png": "[encoded data removed]",
      "text/plain": [
       "<Figure size 432x288 with 1 Axes>"
      ]
     },
     "metadata": {
      "needs_background": "light"
     },
     "output_type": "display_data"
    }
   ],
   "source": [
    "fig, ax = plt.subplots()\n",
    "ax.plot(tvla_results['time'], tvla_results['t-value'], color='grey', \n",
    "        linestyle='-', linewidth=1, alpha=0.9, label=\"TVLA ({})\".format(f_name))\n",
    "\n",
    "legend_without_duplicate_labels(ax, loc=\"upper right\")\n",
    "plt.xlabel('Time')\n",
    "plt.ylabel('TVLA')\n",
    "plt.xticks(x_ticks)\n",
    "plt.yticks(y_ticks)\n",
    "\n",
    "tvla_plot_path = os.path.join(data_params['input_path'], f_name + \"-plot.png\")\n",
    "plt.savefig(tvla_plot_path, dpi=150, bbox_inches='tight')\n",
    "plt.show()"
   ]
  }
 ],
 "metadata": {
  "kernelspec": {
   "display_name": "Python 3",
   "language": "python",
   "name": "python3"
  },
  "language_info": {
   "codemirror_mode": {
    "name": "ipython",
    "version": 3
   },
   "file_extension": ".py",
   "mimetype": "text/x-python",
   "name": "python",
   "nbconvert_exporter": "python",
   "pygments_lexer": "ipython3",
   "version": "3.6.12"
  }
 },
 "nbformat": 4,
 "nbformat_minor": 5
}
