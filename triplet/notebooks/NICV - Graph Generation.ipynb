{
 "cells": [
  {
   "cell_type": "markdown",
   "metadata": {},
   "source": [
    "The purpose of this notebook is to plot normalized inter-class variance results.\n",
    "\n",
    "Below are descriptions of the input parameters:\n",
    "\n",
    "- input_path: The path to the directory containing the tvla results to plot. The plots are also saved in this directory.\n",
    "- target_byte: The specific target byte being plotted. This value corresponds to the specific .csv file that will be plotted."
   ]
  },
  {
   "cell_type": "code",
   "execution_count": 1,
   "metadata": {},
   "outputs": [
    {
     "data": {
      "text/html": [
       "<pre>✔️ 468 µs (2022-04-05T11:16:52/2022-04-05T11:16:52)</pre>"
      ],
      "text/plain": [
       "<IPython.core.display.HTML object>"
      ]
     },
     "metadata": {},
     "output_type": "display_data"
    }
   ],
   "source": [
    "import os, sys\n",
    "import pandas as pd\n",
    "from math import floor, ceil\n",
    "\n",
    "# setting the utilities required for loading the data and training the model\n",
    "sys.path.append('../utilities/')\n",
    "from graphGenerationUtilities import *\n",
    "\n",
    "%load_ext autotime"
   ]
  },
  {
   "cell_type": "code",
   "execution_count": 2,
   "metadata": {},
   "outputs": [
    {
     "data": {
      "text/html": [
       "<pre>✔️ 643 µs (2022-04-05T11:16:52/2022-04-05T11:16:52)</pre>"
      ],
      "text/plain": [
       "<IPython.core.display.HTML object>"
      ]
     },
     "metadata": {},
     "output_type": "display_data"
    }
   ],
   "source": [
    "data_params = {\n",
    "    \"input_path\":\"../results/FPGA/normalized-inter-class-variance/fpga_target1_k0_50k_ethan_0401/\", # Path to load the data\n",
    "    \"target_byte\": 15, # Target byte to identify which file to plot\n",
    "}"
   ]
  },
  {
   "cell_type": "code",
   "execution_count": 3,
   "metadata": {},
   "outputs": [
    {
     "data": {
      "text/html": [
       "<pre>✔️ 13 ms (2022-04-05T11:16:53/2022-04-05T11:16:53)</pre>"
      ],
      "text/plain": [
       "<IPython.core.display.HTML object>"
      ]
     },
     "metadata": {},
     "output_type": "display_data"
    },
    {
     "data": {
      "text/html": [
       "<div>\n",
       "<style scoped>\n",
       "    .dataframe tbody tr th:only-of-type {\n",
       "        vertical-align: middle;\n",
       "    }\n",
       "\n",
       "    .dataframe tbody tr th {\n",
       "        vertical-align: top;\n",
       "    }\n",
       "\n",
       "    .dataframe thead th {\n",
       "        text-align: right;\n",
       "    }\n",
       "</style>\n",
       "<table border=\"1\" class=\"dataframe\">\n",
       "  <thead>\n",
       "    <tr style=\"text-align: right;\">\n",
       "      <th></th>\n",
       "      <th>time</th>\n",
       "      <th>nicv-value</th>\n",
       "    </tr>\n",
       "  </thead>\n",
       "  <tbody>\n",
       "    <tr>\n",
       "      <th>0</th>\n",
       "      <td>1</td>\n",
       "      <td>0.006099</td>\n",
       "    </tr>\n",
       "    <tr>\n",
       "      <th>1</th>\n",
       "      <td>2</td>\n",
       "      <td>0.006026</td>\n",
       "    </tr>\n",
       "    <tr>\n",
       "      <th>2</th>\n",
       "      <td>3</td>\n",
       "      <td>0.005675</td>\n",
       "    </tr>\n",
       "    <tr>\n",
       "      <th>3</th>\n",
       "      <td>4</td>\n",
       "      <td>0.006670</td>\n",
       "    </tr>\n",
       "    <tr>\n",
       "      <th>4</th>\n",
       "      <td>5</td>\n",
       "      <td>0.005847</td>\n",
       "    </tr>\n",
       "  </tbody>\n",
       "</table>\n",
       "</div>"
      ],
      "text/plain": [
       "   time  nicv-value\n",
       "0     1    0.006099\n",
       "1     2    0.006026\n",
       "2     3    0.005675\n",
       "3     4    0.006670\n",
       "4     5    0.005847"
      ]
     },
     "execution_count": 3,
     "metadata": {},
     "output_type": "execute_result"
    }
   ],
   "source": [
    "# Read the csv file containing the NICV results\n",
    "f_name = \"target-byte-\" + str(data_params[\"target_byte\"])\n",
    "nicv_path = os.path.join(data_params['input_path'], f_name + \".csv\")\n",
    "try:\n",
    "    nicv_results = pd.read_csv(nicv_path)\n",
    "except OSError:\n",
    "    print(\"could not access {}\".format(f_name))\n",
    "    sys.exit()\n",
    "\n",
    "nicv_results.head()"
   ]
  },
  {
   "cell_type": "code",
   "execution_count": 4,
   "metadata": {},
   "outputs": [
    {
     "data": {
      "text/html": [
       "<pre>✔️ 1.06 ms (2022-04-05T11:16:53/2022-04-05T11:16:53)</pre>"
      ],
      "text/plain": [
       "<IPython.core.display.HTML object>"
      ]
     },
     "metadata": {},
     "output_type": "display_data"
    }
   ],
   "source": [
    "# The x ticks are calculated. There is some variability with these values between masked and unmasked (due to num_time_samples)\n",
    "# so, code was introduced to account for the differences.\n",
    "num_time_samples = nicv_results.shape[0]\n",
    "time_samples_inc = num_time_samples//5\n",
    "# The first time value is the start_idx + 1.\n",
    "# For better formatting of the results, the x-ticks begin from one less than this.\n",
    "first_time_val = nicv_results['time'][0]\n",
    "x_ticks = list(range(first_time_val - 1, first_time_val + num_time_samples, time_samples_inc))"
   ]
  },
  {
   "cell_type": "code",
   "execution_count": 5,
   "metadata": {},
   "outputs": [
    {
     "data": {
      "text/html": [
       "<pre>✔️ 165 ms (2022-04-05T11:16:53/2022-04-05T11:16:53)</pre>"
      ],
      "text/plain": [
       "<IPython.core.display.HTML object>"
      ]
     },
     "metadata": {},
     "output_type": "display_data"
    },
    {
     "data": {
      "image/png": "[encoded data removed]",
      "text/plain": [
       "<Figure size 432x288 with 1 Axes>"
      ]
     },
     "metadata": {
      "needs_background": "light"
     },
     "output_type": "display_data"
    }
   ],
   "source": [
    "fig, ax = plt.subplots()\n",
    "ax.plot(nicv_results['time'], nicv_results['nicv-value'], color='grey', \n",
    "        linestyle='-', linewidth=1, alpha=0.9, label=\"NICV ({})\".format(f_name))\n",
    "\n",
    "legend_without_duplicate_labels(ax, loc=\"upper right\")\n",
    "plt.xlabel('Points of Interests')\n",
    "plt.ylabel(\"NICV\")\n",
    "plt.xticks(x_ticks)\n",
    "plt.yticks([0,1])\n",
    "\n",
    "nicv_plot_path = os.path.join(data_params['input_path'], f_name + \"-plot.png\")\n",
    "plt.savefig(nicv_plot_path, dpi=150, bbox_inches='tight')\n",
    "plt.show()"
   ]
  }
 ],
 "metadata": {
  "kernelspec": {
   "display_name": "Python 3",
   "language": "python",
   "name": "python3"
  },
  "language_info": {
   "codemirror_mode": {
    "name": "ipython",
    "version": 3
   },
   "file_extension": ".py",
   "mimetype": "text/x-python",
   "name": "python",
   "nbconvert_exporter": "python",
   "pygments_lexer": "ipython3",
   "version": "3.6.12"
  }
 },
 "nbformat": 4,
 "nbformat_minor": 4
}
