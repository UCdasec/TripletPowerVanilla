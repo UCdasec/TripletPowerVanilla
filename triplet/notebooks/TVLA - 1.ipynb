{
 "cells": [
  {
   "cell_type": "markdown",
   "metadata": {},
   "source": [
    "This notebook is responsible for: computing the test vector leakage assessment (tvla) results.\n",
    "\n",
    "Below are descriptions of the input parameters:\n",
    "\n",
    "- input_path: The directory containing the dataset that will be used for tvla calculations is specified by input path. Unlike other uses of an \"input_parameter,\" this should include the file name itself. I.e, ensure the path to and including the file is passed.\n",
    "- target_byte: The attack byte is designated as target byte.\n",
    "- start_idx: Starting index of the attack window.\n",
    "- end_idx: Last index of the attack window.\n",
    "- n: Size of power traces. Ensure the value is equivalent to the size of the.npz input file.\n",
    "- path_to_save_tvla: Path to save the tvla results to."
   ]
  },
  {
   "cell_type": "code",
   "execution_count": 1,
   "metadata": {},
   "outputs": [
    {
     "data": {
      "text/html": [
       "<pre>✔️ 473 µs (2022-04-07T13:35:17/2022-04-07T13:35:17)</pre>"
      ],
      "text/plain": [
       "<IPython.core.display.HTML object>"
      ]
     },
     "metadata": {},
     "output_type": "display_data"
    }
   ],
   "source": [
    "import os, sys\n",
    "from math import sqrt\n",
    "\n",
    "# setting the utilities required for loading the data\n",
    "sys.path.append('../utilities/')\n",
    "from loadDataUtility import *\n",
    "\n",
    "%load_ext autotime"
   ]
  },
  {
   "cell_type": "code",
   "execution_count": 2,
   "metadata": {},
   "outputs": [
    {
     "data": {
      "text/html": [
       "<pre>✔️ 1.17 ms (2022-04-07T13:35:17/2022-04-07T13:35:17)</pre>"
      ],
      "text/plain": [
       "<IPython.core.display.HTML object>"
      ]
     },
     "metadata": {},
     "output_type": "display_data"
    }
   ],
   "source": [
    "data_params = {\n",
    "    \"input_path\": '../../TripletPower-data/xmega-unmasked/PC1_CB1_TDX1_K1_U_20k/PC1_CB1_TDX1_K1_U_20k_0317.npz', # path to the input file\n",
    "    \"target_byte\": 0, # byte on which analysis is to be performed\n",
    "    \"start_idx\": 1800, # These values depend on the architecture being tested\n",
    "    \"end_idx\": 2800,\n",
    "    \"n\": 20000, # This value should be equivalent to the number of power traces in the input file\n",
    "    \"path_to_save_tvla\":\"../results/unmasked-aes-xmega/test-vector-leakage-assessment/PC1_CB1_TDX1_K1_U_20k/\" # path to save csv file containing time and t value\n",
    "}\n",
    "\n",
    "# The directory to save the files is created.\n",
    "model_dir_path = data_params[\"path_to_save_tvla\"]\n",
    "if not os.path.isdir(model_dir_path):\n",
    "    os.makedirs(model_dir_path)"
   ]
  },
  {
   "cell_type": "code",
   "execution_count": 3,
   "metadata": {},
   "outputs": [
    {
     "data": {
      "text/html": [
       "<pre>✔️ 595 µs (2022-04-07T13:35:18/2022-04-07T13:35:18)</pre>"
      ],
      "text/plain": [
       "<IPython.core.display.HTML object>"
      ]
     },
     "metadata": {},
     "output_type": "display_data"
    }
   ],
   "source": [
    "def data_info(data):\n",
    "    \"\"\"\n",
    "    This function prints the information of the dataset.\n",
    "    \"\"\"\n",
    "    # loading the dataset\n",
    "    power_traces, plain_text, key = data['power_trace'], data['plain_text'], data['key']\n",
    "\n",
    "    print('shape of the power traces: ', power_traces.shape)\n",
    "    print('shape of the plaintext : ', plain_text.shape)\n",
    "    print('Ground Truth for the key : ', key)"
   ]
  },
  {
   "cell_type": "code",
   "execution_count": 4,
   "metadata": {},
   "outputs": [
    {
     "data": {
      "text/html": [
       "<pre>✔️ 1.49 ms (2022-04-07T13:35:18/2022-04-07T13:35:18)</pre>"
      ],
      "text/plain": [
       "<IPython.core.display.HTML object>"
      ]
     },
     "metadata": {},
     "output_type": "display_data"
    }
   ],
   "source": [
    "def load_data_tvla(params):\n",
    "    \"\"\"\n",
    "    This function loads the dataset required.\n",
    "    \"\"\"\n",
    "    print('preparing data ...')\n",
    "    target_byte = params['target_byte']\n",
    "    start_idx, end_idx = params[\"start_idx\"], params[\"end_idx\"]\n",
    "    file_name = params[\"input_path\"]\n",
    "    \n",
    "    try:\n",
    "        train_data_whole_pack = np.load(file_name)\n",
    "    except OSError:\n",
    "        print(\"could not access {}\".format(file_name))\n",
    "        sys.exit()\n",
    "    else:\n",
    "        data_info(train_data_whole_pack)\n",
    "\n",
    "    print('-'*80)\n",
    "    print('processing data...')\n",
    "    power_traces, labels, key_byte_value = gen_features_and_labels_256_tvla(train_data_whole_pack,\n",
    "                                                         target_byte,\n",
    "                                                        start_idx, end_idx)\n",
    "\n",
    "    power_traces = power_traces[:params[\"n\"], :]\n",
    "    labels = labels[:params[\"n\"]]\n",
    "\n",
    "    print('reshaped power traces: ', power_traces.shape)\n",
    "    print('shape of the labels: ', labels.shape)\n",
    "\n",
    "    return power_traces, labels, key_byte_value"
   ]
  },
  {
   "cell_type": "code",
   "execution_count": 5,
   "metadata": {},
   "outputs": [
    {
     "data": {
      "text/html": [
       "<pre>✔️ 1.2 ms (2022-04-07T13:35:18/2022-04-07T13:35:18)</pre>"
      ],
      "text/plain": [
       "<IPython.core.display.HTML object>"
      ]
     },
     "metadata": {},
     "output_type": "display_data"
    }
   ],
   "source": [
    "def gen_features_and_labels_256_tvla(data, input_target_byte, start_index, end_index):\n",
    "    \"\"\"\n",
    "    This function generates features and labels for the dataset.\n",
    "    Although similar, this function differs somewhat from the one present in the Step 2.1 notebook.\n",
    "    It differs from the corresponding function in the NICV notebook as well.\n",
    "    \"\"\"\n",
    "    # loading the dataset\n",
    "    power_traces, plain_text, key = data['power_trace'], data['plain_text'], data['key']\n",
    "    \n",
    "    # Getting the key_byte_value AKA label to split the power traces\n",
    "    key_byte_value = key[input_target_byte]\n",
    "\n",
    "    print('generating features and labels for the key byte value: ', key_byte_value)\n",
    "\n",
    "    labels = []\n",
    "    for i in range(plain_text.shape[0]):\n",
    "        text_i = plain_text[i]\n",
    "        label = aes_internal(int(text_i[input_target_byte]), key_byte_value) #key[i][input_key_byte]\n",
    "        labels.append(label)\n",
    "\n",
    "    labels = np.array(labels)\n",
    "    if not isinstance(power_traces, np.ndarray):\n",
    "        power_traces = np.array(power_traces)\n",
    "    power_traces = power_traces[:, start_index:end_index]\n",
    "\n",
    "    return power_traces, labels, key_byte_value"
   ]
  },
  {
   "cell_type": "code",
   "execution_count": 6,
   "metadata": {},
   "outputs": [
    {
     "data": {
      "text/html": [
       "<pre>✔️ 707 µs (2022-04-07T13:35:18/2022-04-07T13:35:18)</pre>"
      ],
      "text/plain": [
       "<IPython.core.display.HTML object>"
      ]
     },
     "metadata": {},
     "output_type": "display_data"
    }
   ],
   "source": [
    "def calculate_tvla_values(arr):\n",
    "    '''\n",
    "    This functions returns the values needed for the test vector leakage assessment calculation.\n",
    "    '''\n",
    "    return np.average(arr), np.var(arr, ddof=1), len(arr)"
   ]
  },
  {
   "cell_type": "code",
   "execution_count": 7,
   "metadata": {},
   "outputs": [
    {
     "data": {
      "text/html": [
       "<pre>✔️ 1.14 ms (2022-04-07T13:35:18/2022-04-07T13:35:18)</pre>"
      ],
      "text/plain": [
       "<IPython.core.display.HTML object>"
      ]
     },
     "metadata": {},
     "output_type": "display_data"
    }
   ],
   "source": [
    "def save_test_vector_leakage_assessment(power_traces, t_vals, str_target_byte, str_key_byte, path_to_save_tvla):\n",
    "    '''\n",
    "    This function saves the tvla results into a csv file.\n",
    "    '''\n",
    "    # The file name is of the format: \"target-byte-x-key-byte-y\"\n",
    "    # The thought is that the parent directories will provide the necessary information as to what this file name represents\n",
    "    f_name = \"target-byte-\" + str_target_byte + \"-byte-value-\" + str_key_byte\n",
    "    tvla_file_path = os.path.join(path_to_save_tvla, f_name + '.csv')\n",
    "    \n",
    "    # data is an iterator of tuples. These tuples contain the time (incremented by 1) and the corresponding t-value.\n",
    "    data = zip(range(data_params[\"start_idx\"] + 1, data_params[\"end_idx\"] + 1), t_vals)\n",
    "    tvla_df = pd.DataFrame(data)\n",
    "    tvla_df.to_csv(tvla_file_path, index=False, header=[\"time\", \"t-value\"])\n",
    "    print(\"Test vector leakage assessment results sucessfully saved to csv file: {}\".format(tvla_file_path))"
   ]
  },
  {
   "cell_type": "code",
   "execution_count": 8,
   "metadata": {},
   "outputs": [
    {
     "data": {
      "text/html": [
       "<pre>✔️ 627 µs (2022-04-07T13:35:18/2022-04-07T13:35:18)</pre>"
      ],
      "text/plain": [
       "<IPython.core.display.HTML object>"
      ]
     },
     "metadata": {},
     "output_type": "display_data"
    }
   ],
   "source": [
    "def print_testing_test_vector_leakage_assessment_results(mean, variance, size, list_name, name):\n",
    "    '''\n",
    "    This function prints variables associated with tvla calculation.\n",
    "    '''\n",
    "    print(\"\\tFor set: {}\".format(name))\n",
    "    print(\"\\t\\tSet Elements: {}\".format(list_name))\n",
    "    print(\"\\t\\tThe mean is: {}\".format(mean))\n",
    "    print(\"\\t\\tThe variance is: {}\".format(variance))\n",
    "    print(\"\\t\\tThe size is: {}\".format(size))"
   ]
  },
  {
   "cell_type": "code",
   "execution_count": 9,
   "metadata": {},
   "outputs": [
    {
     "data": {
      "text/html": [
       "<pre>✔️ 1.73 ms (2022-04-07T13:35:19/2022-04-07T13:35:19)</pre>"
      ],
      "text/plain": [
       "<IPython.core.display.HTML object>"
      ]
     },
     "metadata": {},
     "output_type": "display_data"
    }
   ],
   "source": [
    "def compute_test_vector_leakage_assessment(power_traces, labels, key_byte_value, debug=False):\n",
    "    '''\n",
    "    This function computes the test vector leakage assessments.\n",
    "    '''\n",
    "    t_vals = []\n",
    "    for j in range(np.shape(power_traces)[1]): # Each column (time sample) of the power_traces array is analyzed.\n",
    "        curr_power_traces_col = power_traces[:,j]\n",
    "        Q0 = [] # Lists Q_0 and Q_1 are created.\n",
    "        Q1 = []\n",
    "        for k in range(np.shape(curr_power_traces_col)[0]): # Each row of the current power_traces column is analyzed.\n",
    "            if (labels[k] == key_byte_value): # The key_byte_value will be used to determine the sets.\n",
    "                Q0.append(curr_power_traces_col[k])\n",
    "            else:\n",
    "                Q1.append(curr_power_traces_col[k])\n",
    "        u0, v0, n0 = calculate_tvla_values(np.array(Q0)) # Once the sets have been created, then calculations are performed.\n",
    "        u1, v1, n1 = calculate_tvla_values(np.array(Q1))\n",
    "        t = (u0 - u1)/(sqrt((v0/n0)+(v1/n1))) # The t value is calculated and appended to a list of t_vals.\n",
    "        t_vals.append(t) # This list contains t_vals for every time sample.\n",
    "        if debug: # If debug is enabled, additional information will be printed to the screen.\n",
    "            print(\"Round {}\".format(j+1))\n",
    "            print_testing_test_vector_leakage_assessment_results(u0, v0, n0, Q0, \"Q0\")\n",
    "            print_testing_test_vector_leakage_assessment_results(u1, v1, n1, Q1, \"Q1\")\n",
    "            print(\"\\tThe test vector leakage result is: {}\".format(t))\n",
    "    if not(debug): # If debug is disabled, the results will be saved to a file\n",
    "        print(\"Saving test vector leakage assessment results to csv file...\")\n",
    "        save_test_vector_leakage_assessment(power_traces, t_vals, \n",
    "                                            str(data_params[\"target_byte\"]), str(key_byte_value), data_params[\"path_to_save_tvla\"])"
   ]
  },
  {
   "cell_type": "code",
   "execution_count": 10,
   "metadata": {},
   "outputs": [
    {
     "data": {
      "text/html": [
       "<pre>✔️ 7.59 s (2022-04-07T13:35:19/2022-04-07T13:35:26)</pre>"
      ],
      "text/plain": [
       "<IPython.core.display.HTML object>"
      ]
     },
     "metadata": {},
     "output_type": "display_data"
    },
    {
     "name": "stdout",
     "output_type": "stream",
     "text": [
      "preparing data ...\n",
      "shape of the power traces:  (20000, 5000)\n",
      "shape of the plaintext :  (20000, 16)\n",
      "Ground Truth for the key :  [149  25 127 102 176 109 110  33 103 138 250 143 135 169 100 229]\n",
      "--------------------------------------------------------------------------------\n",
      "processing data...\n",
      "generating features and labels for the key byte value:  149\n",
      "reshaped power traces:  (20000, 1000)\n",
      "shape of the labels:  (20000,)\n",
      "Saving test vector leakage assessment results to csv file...\n",
      "Test vector leakage assessment results sucessfully saved to csv file: ../results/unmasked-aes-xmega/test-vector-leakage-assessment/PC1_CB1_TDX1_K1_U_20k/target-byte-0-byte-value-149.csv\n"
     ]
    }
   ],
   "source": [
    "debug = False # Var allows debugging of \"toy\" examples if necessary.\n",
    "\n",
    "if debug:\n",
    "    # The below code represents the toy example provided in the original document.\n",
    "    # This block was created for testing purposes.\n",
    "    \n",
    "    # For debugging purposes, one of the elements of the below list must be passed\n",
    "    # as the key_byte_value.\n",
    "    key_byte_values = [0x00, 0x01, 0x02]\n",
    "    key_byte_value = key_byte_values[0]\n",
    "    power_traces = np.array([\n",
    "        [2, 3, 4, 5],\n",
    "        [6, 4, 6, 8],\n",
    "        [1, 3, 4, 5],\n",
    "        [5, 3, 4, 5],\n",
    "        [3, 3, 5, 6],\n",
    "        [3, 2, 2, 3]\n",
    "    ])\n",
    "    labels = np.array([\n",
    "        [0x00],\n",
    "        [0x01],\n",
    "        [0x02],\n",
    "        [0x00],\n",
    "        [0x01],\n",
    "        [0x02]\n",
    "    ])\n",
    "else:\n",
    "    power_traces, labels, key_byte_value = load_data_tvla(data_params)\n",
    "compute_test_vector_leakage_assessment(power_traces, labels, key_byte_value, debug)"
   ]
  },
  {
   "cell_type": "code",
   "execution_count": null,
   "metadata": {},
   "outputs": [],
   "source": []
  }
 ],
 "metadata": {
  "kernelspec": {
   "display_name": "Python 3",
   "language": "python",
   "name": "python3"
  },
  "language_info": {
   "codemirror_mode": {
    "name": "ipython",
    "version": 3
   },
   "file_extension": ".py",
   "mimetype": "text/x-python",
   "name": "python",
   "nbconvert_exporter": "python",
   "pygments_lexer": "ipython3",
   "version": "3.6.12"
  }
 },
 "nbformat": 4,
 "nbformat_minor": 5
}
