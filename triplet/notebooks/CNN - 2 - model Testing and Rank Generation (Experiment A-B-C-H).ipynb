{
 "cells": [
  {
   "cell_type": "markdown",
   "metadata": {},
   "source": [
    "#### Experiment C\n",
    "##### Overview\n",
    "- This notebook performs experiment C of the proposed research. The model are trained on different bytes using Chenggang's dataset and testing of the model is performed using Jimmy's dataset.\n",
    "\n",
    "##### Description of the Dataset\n",
    "- The dataset has 200k power traces for training from Chenggang's dataset and 20k traces for testing from Jimmy's dataset, 10k power traces with same key and 10k power traces with different key\n",
    "- The power traces used for testing were collected wihtout performing any optimizations to the dataset"
   ]
  },
  {
   "cell_type": "code",
   "execution_count": 1,
   "metadata": {},
   "outputs": [],
   "source": [
    "# importing notebook containig utility functions for model training\n",
    "import sys\n",
    "sys.path.append('../utilities/')\n",
    "\n",
    "from modelZoo import *\n",
    "from modelTrainingUtility import *"
   ]
  },
  {
   "cell_type": "code",
   "execution_count": 2,
   "metadata": {},
   "outputs": [
    {
     "name": "stdout",
     "output_type": "stream",
     "text": [
      "directory available for saving results.\n"
     ]
    }
   ],
   "source": [
    "# input parameters for training not used for testing required for reading the data from the disk\n",
    "input_params = {\n",
    "    \"input_path\": '../../TripletPower-data/xmega-unmasked/PC1_CB1_TDX1_K1_U_20k/PC1_CB1_TDX1_K1_U_20k_0317.npz', # path to load the dataset\n",
    "    \"output_path\": '../models/experiment-q/model/', # path to saved model\n",
    "    \"verbose\": True,\n",
    "    \"target_byte\": 0, # byte for which ranking is to be performed\n",
    "    \"network_type\": \"cnn2\", # choices={'mlp', 'cnn', 'cnn2', 'wang'}\n",
    "    \"start_idx\": 1800,\n",
    "    \"end_idx\": 2800,\n",
    "    \"verbose\": False,\n",
    "    \"testType\": \"diffkey\", # choices={'samekey', 'diffkey'}\n",
    "}\n",
    "\n",
    "if not os.path.isdir(input_params[\"output_path\"]):\n",
    "    print('creating directory for saving results ...')\n",
    "    os.makedirs(input_params[\"output_path\"])\n",
    "else:\n",
    "    print('directory available for saving results.')"
   ]
  },
  {
   "cell_type": "code",
   "execution_count": 3,
   "metadata": {},
   "outputs": [
    {
     "name": "stdout",
     "output_type": "stream",
     "text": [
      "model file:  ../models/experiment-q/model/model/best_model_cnn2_dataset_PC1_CB1_TDX1_K0_U_200k_targetbyte_0.hdf5\n"
     ]
    }
   ],
   "source": [
    "# directory for saving model\n",
    "model_dir = os.path.join(input_params[\"output_path\"], 'model')\n",
    "\n",
    "# model_file_name = 'best_model_cnn2_dataset_MPEG_target1_targetbyte_{}.hdf5'.format(input_params[\"target_byte\"])\n",
    "model_file_name = 'best_model_cnn2_dataset_PC1_CB1_TDX1_K0_U_200k_targetbyte_{}.hdf5'.format(input_params[\"target_byte\"])\n",
    "model_path = os.path.join(input_params[\"output_path\"], 'model')\n",
    "mode_weights = os.path.join(model_path, model_file_name)\n",
    "print('model file: ', mode_weights)"
   ]
  },
  {
   "cell_type": "code",
   "execution_count": 4,
   "metadata": {},
   "outputs": [
    {
     "name": "stdout",
     "output_type": "stream",
     "text": [
      "loading the test data ...\n",
      "processing data for key byte 0\n"
     ]
    },
    {
     "ename": "TypeError",
     "evalue": "ufunc 'bitwise_xor' not supported for the input types, and the inputs could not be safely coerced to any supported types according to the casting rule ''safe''",
     "output_type": "error",
     "traceback": [
      "\u001b[0;31m---------------------------------------------------------------------------\u001b[0m",
      "\u001b[0;31mTypeError\u001b[0m                                 Traceback (most recent call last)",
      "\u001b[0;32m<ipython-input-4-ed15b76d1f42>\u001b[0m in \u001b[0;36m<module>\u001b[0;34m\u001b[0m\n\u001b[1;32m      1\u001b[0m \u001b[0;31m# Load profiling and attack data and metadata from the ASCAD database\u001b[0m\u001b[0;34m\u001b[0m\u001b[0;34m\u001b[0m\u001b[0;34m\u001b[0m\u001b[0m\n\u001b[1;32m      2\u001b[0m \u001b[0;31m# val_traces, val_label, val_textin, key\u001b[0m\u001b[0;34m\u001b[0m\u001b[0;34m\u001b[0m\u001b[0;34m\u001b[0m\u001b[0m\n\u001b[0;32m----> 3\u001b[0;31m \u001b[0mX_attack\u001b[0m\u001b[0;34m,\u001b[0m \u001b[0mY_attack\u001b[0m\u001b[0;34m,\u001b[0m \u001b[0mplaintext_attack\u001b[0m\u001b[0;34m,\u001b[0m \u001b[0mkey\u001b[0m \u001b[0;34m=\u001b[0m \u001b[0mload_test_data_2\u001b[0m\u001b[0;34m(\u001b[0m\u001b[0minput_params\u001b[0m\u001b[0;34m)\u001b[0m\u001b[0;34m\u001b[0m\u001b[0;34m\u001b[0m\u001b[0m\n\u001b[0m",
      "\u001b[0;32m~/projects/TripletPower/utilities/modelTrainingUtility.py\u001b[0m in \u001b[0;36mload_test_data_2\u001b[0;34m(params, clsNum)\u001b[0m\n\u001b[1;32m    175\u001b[0m \u001b[0;34m\u001b[0m\u001b[0m\n\u001b[1;32m    176\u001b[0m     test_traces, test_label, test_text_in, key = gen_features_labels(val_data_whole_pack, target_byte, start_idx,\n\u001b[0;32m--> 177\u001b[0;31m                                                                      end_idx)\n\u001b[0m\u001b[1;32m    178\u001b[0m \u001b[0;34m\u001b[0m\u001b[0m\n\u001b[1;32m    179\u001b[0m     \u001b[0mtest_label\u001b[0m \u001b[0;34m=\u001b[0m \u001b[0mto_categorical\u001b[0m\u001b[0;34m(\u001b[0m\u001b[0mtest_label\u001b[0m\u001b[0;34m,\u001b[0m \u001b[0mclsNum\u001b[0m\u001b[0;34m)\u001b[0m\u001b[0;34m\u001b[0m\u001b[0;34m\u001b[0m\u001b[0m\n",
      "\u001b[0;32m~/projects/TripletPower/utilities/loadDataUtility.py\u001b[0m in \u001b[0;36mgen_features_labels\u001b[0;34m(data, input_key_byte, start_index, end_index)\u001b[0m\n\u001b[1;32m    111\u001b[0m     \u001b[0;32mfor\u001b[0m \u001b[0mi\u001b[0m \u001b[0;32min\u001b[0m \u001b[0mrange\u001b[0m\u001b[0;34m(\u001b[0m\u001b[0mplain_text\u001b[0m\u001b[0;34m.\u001b[0m\u001b[0mshape\u001b[0m\u001b[0;34m[\u001b[0m\u001b[0;36m0\u001b[0m\u001b[0;34m]\u001b[0m\u001b[0;34m)\u001b[0m\u001b[0;34m:\u001b[0m\u001b[0;34m\u001b[0m\u001b[0;34m\u001b[0m\u001b[0m\n\u001b[1;32m    112\u001b[0m         \u001b[0mtext_i\u001b[0m \u001b[0;34m=\u001b[0m \u001b[0mplain_text\u001b[0m\u001b[0;34m[\u001b[0m\u001b[0mi\u001b[0m\u001b[0;34m]\u001b[0m\u001b[0;34m\u001b[0m\u001b[0;34m\u001b[0m\u001b[0m\n\u001b[0;32m--> 113\u001b[0;31m         \u001b[0mlabel\u001b[0m \u001b[0;34m=\u001b[0m \u001b[0maes_internal\u001b[0m\u001b[0;34m(\u001b[0m\u001b[0mtext_i\u001b[0m\u001b[0;34m[\u001b[0m\u001b[0minput_key_byte\u001b[0m\u001b[0;34m]\u001b[0m\u001b[0;34m,\u001b[0m \u001b[0mkey\u001b[0m\u001b[0;34m[\u001b[0m\u001b[0minput_key_byte\u001b[0m\u001b[0;34m]\u001b[0m\u001b[0;34m)\u001b[0m\u001b[0;34m\u001b[0m\u001b[0;34m\u001b[0m\u001b[0m\n\u001b[0m\u001b[1;32m    114\u001b[0m         \u001b[0mlabels\u001b[0m\u001b[0;34m.\u001b[0m\u001b[0mappend\u001b[0m\u001b[0;34m(\u001b[0m\u001b[0mlabel\u001b[0m\u001b[0;34m)\u001b[0m\u001b[0;34m\u001b[0m\u001b[0;34m\u001b[0m\u001b[0m\n\u001b[1;32m    115\u001b[0m \u001b[0;34m\u001b[0m\u001b[0m\n",
      "\u001b[0;32m~/projects/TripletPower/utilities/loadDataUtility.py\u001b[0m in \u001b[0;36maes_internal\u001b[0;34m(inp_data_byte, key_byte)\u001b[0m\n\u001b[1;32m     77\u001b[0m     \u001b[0mThis\u001b[0m \u001b[0mfunction\u001b[0m \u001b[0mperforms\u001b[0m \u001b[0mXOR\u001b[0m \u001b[0moperation\u001b[0m \u001b[0mbetween\u001b[0m \u001b[0mthe\u001b[0m \u001b[0minput\u001b[0m \u001b[0mbyte\u001b[0m \u001b[0;32mand\u001b[0m \u001b[0mkey\u001b[0m \u001b[0mbyte\u001b[0m \u001b[0mwhich\u001b[0m \u001b[0;32mis\u001b[0m \u001b[0mused\u001b[0m \u001b[0;32mas\u001b[0m \u001b[0mlabel\u001b[0m\u001b[0;34m.\u001b[0m\u001b[0;34m\u001b[0m\u001b[0;34m\u001b[0m\u001b[0m\n\u001b[1;32m     78\u001b[0m     \"\"\"\n\u001b[0;32m---> 79\u001b[0;31m     \u001b[0;32mreturn\u001b[0m \u001b[0msbox\u001b[0m\u001b[0;34m[\u001b[0m\u001b[0minp_data_byte\u001b[0m \u001b[0;34m^\u001b[0m \u001b[0mkey_byte\u001b[0m\u001b[0;34m]\u001b[0m\u001b[0;34m\u001b[0m\u001b[0;34m\u001b[0m\u001b[0m\n\u001b[0m\u001b[1;32m     80\u001b[0m \u001b[0;34m\u001b[0m\u001b[0m\n\u001b[1;32m     81\u001b[0m \u001b[0;34m\u001b[0m\u001b[0m\n",
      "\u001b[0;31mTypeError\u001b[0m: ufunc 'bitwise_xor' not supported for the input types, and the inputs could not be safely coerced to any supported types according to the casting rule ''safe''"
     ]
    }
   ],
   "source": [
    "# Load profiling and attack data and metadata from the ASCAD database\n",
    "# val_traces, val_label, val_textin, key\n",
    "X_attack, Y_attack, plaintext_attack, key = load_test_data_2(input_params)"
   ]
  },
  {
   "cell_type": "code",
   "execution_count": null,
   "metadata": {},
   "outputs": [],
   "source": [
    "# Load model\n",
    "start_idx, end_idx = input_params[\"start_idx\"], input_params[\"end_idx\"]\n",
    "input_shape = (end_idx-start_idx, 1)\n",
    "K.clear_session()\n",
    "\n",
    "model = cnn_best2(input_shape)\n",
    "\n",
    "print('loading weights...')\n",
    "model.load_weights(mode_weights)\n",
    "print('weights loaded successfully!')"
   ]
  },
  {
   "cell_type": "code",
   "execution_count": null,
   "metadata": {},
   "outputs": [],
   "source": [
    "# run the accuracy test\n",
    "score, accuracy = model.evaluate(X_attack, Y_attack, verbose=input_params[\"verbose\"])\n",
    "print('test accuracy is: {:f}'.format(accuracy))"
   ]
  },
  {
   "cell_type": "code",
   "execution_count": null,
   "metadata": {},
   "outputs": [],
   "source": [
    "# We test the rank over traces of the Attack dataset, with a step of 10 traces\n",
    "print('start computing rank value...')\n",
    "min_trace_idx = 0\n",
    "max_trace_idx = 10\n",
    "rank_step = 1\n",
    "target_byte = input_params[\"target_byte\"]\n",
    "ranks = full_ranks(model, X_attack, key, plaintext_attack, min_trace_idx, max_trace_idx, target_byte, rank_step)"
   ]
  },
  {
   "cell_type": "code",
   "execution_count": null,
   "metadata": {},
   "outputs": [],
   "source": [
    "# We plot the results\n",
    "# f_ranks[i] = [t, real_key_rank]\n",
    "x = [ranks[i][0] for i in range(0, ranks.shape[0])]\n",
    "y = [ranks[i][1] for i in range(0, ranks.shape[0])]"
   ]
  },
  {
   "cell_type": "code",
   "execution_count": null,
   "metadata": {},
   "outputs": [],
   "source": [
    "testType = input_params[\"testType\"]\n",
    "fig_save_name =  os.path.join(input_params[\"output_path\"], 'xmega-no-opt' + '_rank_performance_byte_{}_{}.png'.format(target_byte, testType))\n",
    "print('figure save to file: {}'.format(fig_save_name))\n",
    "model_file_name = os.path.basename(mode_weights).split('.')[0]"
   ]
  },
  {
   "cell_type": "code",
   "execution_count": null,
   "metadata": {},
   "outputs": [],
   "source": [
    "plot_figure(x, y, model_file_name, 'xmega-no-opt', fig_save_name, testType)"
   ]
  },
  {
   "cell_type": "code",
   "execution_count": null,
   "metadata": {},
   "outputs": [],
   "source": []
  }
 ],
 "metadata": {
  "kernelspec": {
   "display_name": "Python 3",
   "language": "python",
   "name": "python3"
  },
  "language_info": {
   "codemirror_mode": {
    "name": "ipython",
    "version": 3
   },
   "file_extension": ".py",
   "mimetype": "text/x-python",
   "name": "python",
   "nbconvert_exporter": "python",
   "pygments_lexer": "ipython3",
   "version": "3.6.12"
  }
 },
 "nbformat": 4,
 "nbformat_minor": 4
}
