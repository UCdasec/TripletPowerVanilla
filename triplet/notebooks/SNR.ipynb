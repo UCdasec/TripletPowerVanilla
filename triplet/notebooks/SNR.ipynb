{
 "cells": [
  {
   "cell_type": "markdown",
   "id": "e5e56330",
   "metadata": {},
   "source": [
    "# Calculate Signal-to-Noise (SNR) values to evaluate the privacy leakage of Power/EM trace in Side-Channel Attacks\n",
    "\n",
    "step1: For the input npz file, which includes [power_trace, plain_text,key] attributes, we first extract the power/EM trace as X, and calculating the correspoding labels as y for these traces.\n",
    "\n",
    "step2: Given X and y, we calculate the SNR values and save the results"
   ]
  },
  {
   "cell_type": "code",
   "execution_count": 1,
   "id": "e177a6da",
   "metadata": {},
   "outputs": [],
   "source": [
    "import numpy as np\n",
    "%load_ext autotime"
   ]
  },
  {
   "cell_type": "markdown",
   "id": "71c85b55",
   "metadata": {},
   "source": [
    "### Pre-processing data\n",
    "Extract power/EM trace as X, corresponding label as Y"
   ]
  },
  {
   "cell_type": "code",
   "execution_count": 2,
   "id": "42fc14ba",
   "metadata": {},
   "outputs": [
    {
     "name": "stdout",
     "output_type": "stream",
     "text": [
      "time: 164 µs\n"
     ]
    }
   ],
   "source": [
    "## paramaters\n",
    "data_params = {\n",
    "    \"target_byte\": 0,  # byte on which attack is to be performed (at this point, 0 for all unmasked XMEGA)\n",
    "    \"start_idx\": 1800, # the start index of attacking window\n",
    "    \"end_idx\": 2800, # the end index of attacking window\n",
    "    \"input_path\": './our_data/unmasked/device01/PC1_CB1_TDX1_K0_U_20k_0317.npz', # data path for pre-processing\n",
    "    \"figure_output_path\": \"./results/PC1_CB1_TDX1_K0_U_20k_0317_snr.png\",\n",
    "    \"result_output_path\": \"./results/PC1_CB1_TDX1_K0_U_20k_0317_snr.csv\"\n",
    "}"
   ]
  },
  {
   "cell_type": "markdown",
   "id": "aecb4512",
   "metadata": {},
   "source": [
    "##### Functions for AES operation, getting information of input data, and generating corresponding labels"
   ]
  },
  {
   "cell_type": "code",
   "execution_count": 3,
   "id": "b37f882d",
   "metadata": {},
   "outputs": [
    {
     "name": "stdout",
     "output_type": "stream",
     "text": [
      "time: 53 ms\n"
     ]
    }
   ],
   "source": [
    "## AES operations\n",
    "sbox = [\n",
    "    # 0    1    2    3    4    5    6    7    8    9    a    b    c    d    e    f\n",
    "    0x63, 0x7c, 0x77, 0x7b, 0xf2, 0x6b, 0x6f, 0xc5, 0x30, 0x01, 0x67, 0x2b, 0xfe, 0xd7, 0xab, 0x76,  # 0\n",
    "    0xca, 0x82, 0xc9, 0x7d, 0xfa, 0x59, 0x47, 0xf0, 0xad, 0xd4, 0xa2, 0xaf, 0x9c, 0xa4, 0x72, 0xc0,  # 1\n",
    "    0xb7, 0xfd, 0x93, 0x26, 0x36, 0x3f, 0xf7, 0xcc, 0x34, 0xa5, 0xe5, 0xf1, 0x71, 0xd8, 0x31, 0x15,  # 2\n",
    "    0x04, 0xc7, 0x23, 0xc3, 0x18, 0x96, 0x05, 0x9a, 0x07, 0x12, 0x80, 0xe2, 0xeb, 0x27, 0xb2, 0x75,  # 3\n",
    "    0x09, 0x83, 0x2c, 0x1a, 0x1b, 0x6e, 0x5a, 0xa0, 0x52, 0x3b, 0xd6, 0xb3, 0x29, 0xe3, 0x2f, 0x84,  # 4\n",
    "    0x53, 0xd1, 0x00, 0xed, 0x20, 0xfc, 0xb1, 0x5b, 0x6a, 0xcb, 0xbe, 0x39, 0x4a, 0x4c, 0x58, 0xcf,  # 5\n",
    "    0xd0, 0xef, 0xaa, 0xfb, 0x43, 0x4d, 0x33, 0x85, 0x45, 0xf9, 0x02, 0x7f, 0x50, 0x3c, 0x9f, 0xa8,  # 6\n",
    "    0x51, 0xa3, 0x40, 0x8f, 0x92, 0x9d, 0x38, 0xf5, 0xbc, 0xb6, 0xda, 0x21, 0x10, 0xff, 0xf3, 0xd2,  # 7\n",
    "    0xcd, 0x0c, 0x13, 0xec, 0x5f, 0x97, 0x44, 0x17, 0xc4, 0xa7, 0x7e, 0x3d, 0x64, 0x5d, 0x19, 0x73,  # 8\n",
    "    0x60, 0x81, 0x4f, 0xdc, 0x22, 0x2a, 0x90, 0x88, 0x46, 0xee, 0xb8, 0x14, 0xde, 0x5e, 0x0b, 0xdb,  # 9\n",
    "    0xe0, 0x32, 0x3a, 0x0a, 0x49, 0x06, 0x24, 0x5c, 0xc2, 0xd3, 0xac, 0x62, 0x91, 0x95, 0xe4, 0x79,  # a\n",
    "    0xe7, 0xc8, 0x37, 0x6d, 0x8d, 0xd5, 0x4e, 0xa9, 0x6c, 0x56, 0xf4, 0xea, 0x65, 0x7a, 0xae, 0x08,  # b\n",
    "    0xba, 0x78, 0x25, 0x2e, 0x1c, 0xa6, 0xb4, 0xc6, 0xe8, 0xdd, 0x74, 0x1f, 0x4b, 0xbd, 0x8b, 0x8a,  # c\n",
    "    0x70, 0x3e, 0xb5, 0x66, 0x48, 0x03, 0xf6, 0x0e, 0x61, 0x35, 0x57, 0xb9, 0x86, 0xc1, 0x1d, 0x9e,  # d\n",
    "    0xe1, 0xf8, 0x98, 0x11, 0x69, 0xd9, 0x8e, 0x94, 0x9b, 0x1e, 0x87, 0xe9, 0xce, 0x55, 0x28, 0xdf,  # e\n",
    "    0x8c, 0xa1, 0x89, 0x0d, 0xbf, 0xe6, 0x42, 0x68, 0x41, 0x99, 0x2d, 0x0f, 0xb0, 0x54, 0xbb, 0x16  # f\n",
    "]\n",
    "\n",
    "\n",
    "def aes_internal(inp_data_byte, key_byte):\n",
    "    \"\"\"\n",
    "    This function performs XOR operation between the input byte and key byte which is used as label.\n",
    "    \"\"\"\n",
    "    inp_data_byte = inp_data_byte.astype(np.uint8)\n",
    "    key_byte = key_byte.astype(np.int64)\n",
    "    return sbox[inp_data_byte ^ key_byte]\n",
    "\n",
    "\n",
    "## get information of raw data\n",
    "def data_info(data):\n",
    "    \"\"\"\n",
    "    This function prints the information of the dataset.\n",
    "    \"\"\"\n",
    "    # loading the dataset\n",
    "    power_traces, plain_text, key = data['power_trace'], data['plain_text'], data['key']\n",
    "    \n",
    "    print(f'index of data {data.files}')\n",
    "    print('shape of the traces: ', power_traces.shape)\n",
    "    print('shape of the plaintext : ', plain_text.shape)\n",
    "    print('Ground Truth for the key : ', key)\n",
    "    \n",
    "\n",
    "## generate labels\n",
    "def gen_features_and_labels_256_2(data, key_byte_value, input_target_byte, start_index, end_index):\n",
    "    \"\"\"\n",
    "    This function generates features and labels for the dataset.\n",
    "    \"\"\"\n",
    "\n",
    "    # loading the dataset\n",
    "    if 'key' in data.files:\n",
    "        power_traces, plain_text, key = data['power_trace'], data['plain_text'], data['key']\n",
    "    else:\n",
    "        power_traces, plain_text = data['power_trace'], data['plain_text']\n",
    "\n",
    "    print('generating features and labels for the key byte value: ', key_byte_value)\n",
    "\n",
    "    # key byte is the value between 0 and 15 (index)\n",
    "    labels = []\n",
    "    for i in range(plain_text.shape[0]):\n",
    "        text_i = plain_text[i]\n",
    "        label = aes_internal(text_i[input_target_byte], key_byte_value) #key[i][input_key_byte]\n",
    "        labels.append(label)\n",
    "\n",
    "    labels = np.array(labels)\n",
    "    if not isinstance(power_traces, np.ndarray):\n",
    "        power_traces = np.array(power_traces)\n",
    "    power_traces = power_traces[:, start_index:end_index]\n",
    "\n",
    "    return power_traces, labels"
   ]
  },
  {
   "cell_type": "markdown",
   "id": "9e7ed815",
   "metadata": {},
   "source": [
    "##### Load input data and extract the power/EM trace and get labels"
   ]
  },
  {
   "cell_type": "code",
   "execution_count": 4,
   "id": "6f0a0362",
   "metadata": {},
   "outputs": [
    {
     "name": "stdout",
     "output_type": "stream",
     "text": [
      "index of data ['power_trace', 'plain_text', 'key']\n",
      "shape of the traces:  (40000, 5000)\n",
      "shape of the plaintext :  (40000, 16)\n",
      "Ground Truth for the key :  [ 43 126  21  22  40 174 210 166 171 247  21 136   9 207  79  60]\n",
      "real key: 43\n",
      "generating features and labels for the key byte value:  43\n",
      "processed traces shape is (40000, 1000), data type is <class 'numpy.ndarray'>\n",
      "generated labels shape is (40000,), number of class 256, data type is <class 'numpy.ndarray'>\n",
      "time: 2.48 s\n"
     ]
    }
   ],
   "source": [
    "## load data and print info\n",
    "raw_data = np.load(data_params['input_path'])\n",
    "data_info(raw_data)\n",
    "\n",
    "## get labels \n",
    "key_byte_value=raw_data['key'][data_params['target_byte']]\n",
    "print(f\"real key: {key_byte_value}\")\n",
    "power_traces_processed,labels = gen_features_and_labels_256_2(raw_data, \n",
    "                                                              key_byte_value,\n",
    "                                                              data_params['target_byte'],\n",
    "                                                              data_params['start_idx'],\n",
    "                                                              data_params['end_idx'])\n",
    "\n",
    "## print processed data info\n",
    "print(f\"processed traces shape is {power_traces_processed.shape}, data type is {type(power_traces_processed)}\")\n",
    "print(f\"generated labels shape is {labels.shape}, number of class {max(labels+1)}, data type is {type(labels)}\")\n",
    "\n",
    "X = power_traces_processed\n",
    "y = labels"
   ]
  },
  {
   "cell_type": "markdown",
   "id": "31188d3a",
   "metadata": {},
   "source": [
    "### Calculate Signal-to-Noise (SNR) \n",
    "calculate SNR over the extracted power/EM trace data and the corresponding labels"
   ]
  },
  {
   "cell_type": "code",
   "execution_count": 5,
   "id": "c9bed63d",
   "metadata": {},
   "outputs": [
    {
     "name": "stdout",
     "output_type": "stream",
     "text": [
      "time: 275 µs\n"
     ]
    }
   ],
   "source": [
    "def signaltonoise(X,y):\n",
    "    \"\"\"\n",
    "    calculate singal to noise (SNR) based on the Equation 5 from paper \"https://eprint.iacr.org/2017/608.pdf\" \n",
    "    to evaluate the privacy leakage \n",
    "    \n",
    "    X: ndarray, data (e.g., EM/power trace data)\n",
    "    y: list or array, corresponding label\n",
    "    \n",
    "    return: a vector that consists snr value across different\n",
    "    \n",
    "    \"\"\"\n",
    "    snr = []\n",
    "    for c in range(X.shape[-1]):\n",
    "        e_list, var_list = [],[] # expectation and variance for each column\n",
    "        for j in set(y):\n",
    "            temp = []\n",
    "            index = np.where(y == j)\n",
    "            for r in index:\n",
    "                temp.append(X[r,c])\n",
    "            e_list.append(np.array(temp).mean())\n",
    "            var_list.append(np.var(temp))\n",
    "\n",
    "        var_e = np.var(e_list)\n",
    "        e_var = np.array(var_list).mean()\n",
    "\n",
    "        snr.append(var_e / e_var)\n",
    "    \n",
    "    return snr"
   ]
  },
  {
   "cell_type": "code",
   "execution_count": 6,
   "id": "6aa3b529",
   "metadata": {},
   "outputs": [
    {
     "name": "stdout",
     "output_type": "stream",
     "text": [
      "results save in ./results/PC1_CB1_TDX1_K0_U_20k_0317_snr.csv\n",
      "time: 14.1 s\n"
     ]
    }
   ],
   "source": [
    "## get snr\n",
    "import pandas as pd\n",
    "\n",
    "snr = signaltonoise(X,y)\n",
    "\n",
    "pd.DataFrame(snr).to_csv(data_params['result_output_path'],index=False)\n",
    "print(f\"results save in {data_params['result_output_path']}\")"
   ]
  },
  {
   "cell_type": "code",
   "execution_count": 7,
   "id": "bca1ae45",
   "metadata": {},
   "outputs": [
    {
     "data": {
      "image/png": "[encoded data removed]",
      "text/plain": [
       "<Figure size 640x480 with 1 Axes>"
      ]
     },
     "metadata": {},
     "output_type": "display_data"
    },
    {
     "name": "stdout",
     "output_type": "stream",
     "text": [
      "result save in ./results/PC1_CB1_TDX1_K0_U_20k_0317_snr.png\n",
      "time: 233 ms\n"
     ]
    }
   ],
   "source": [
    "## plot snr\n",
    "import matplotlib.pyplot as plt \n",
    "\n",
    "f_name = \"target-byte-\" + str(data_params[\"target_byte\"])\n",
    "x_ticks = list(range(data_params['start_idx'], data_params['end_idx']))\n",
    "\n",
    "plt.plot(x_ticks,snr,label=\"SNR ({})\".format(f_name))\n",
    "plt.xlabel('Points of Interests')\n",
    "plt.ylabel('SNR')\n",
    "plt.legend()\n",
    "\n",
    "plt.savefig(data_params['figure_output_path'])\n",
    "plt.show()\n",
    "print(f\"result save in {data_params['figure_output_path']}\")"
   ]
  },
  {
   "cell_type": "code",
   "execution_count": null,
   "id": "ad861a70",
   "metadata": {},
   "outputs": [],
   "source": []
  }
 ],
 "metadata": {
  "kernelspec": {
   "display_name": "Python [conda env:sca] *",
   "language": "python",
   "name": "conda-env-sca-py"
  },
  "language_info": {
   "codemirror_mode": {
    "name": "ipython",
    "version": 3
   },
   "file_extension": ".py",
   "mimetype": "text/x-python",
   "name": "python",
   "nbconvert_exporter": "python",
   "pygments_lexer": "ipython3",
   "version": "3.8.8"
  }
 },
 "nbformat": 4,
 "nbformat_minor": 5
}
