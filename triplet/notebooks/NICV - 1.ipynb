{
 "cells": [
  {
   "cell_type": "markdown",
   "metadata": {},
   "source": [
    "This notebook is responsible for: computing the normalized inter-class variance (NICV) results. This notebook is very similar to the notebook used to compute TVLA.\n",
    "\n",
    "Below are descriptions of the input parameters:\n",
    "\n",
    "- input_path: The directory containing the dataset that will be used for NICV calculations is specified by input path. Unlike other uses of an \"input_parameter,\" this should include the file name itself. I.e, ensure the path to and including the file is passed.\n",
    "- target_byte: The attack byte is designated as target byte.\n",
    "- start_idx: Starting index of the attack window.\n",
    "- end_idx: Last index of the attack window.\n",
    "- n: Size of power traces. Ensure the value is equivalent to the size of the .npz input file.\n",
    "- path_to_save_nicv: Path to save the NICV results to."
   ]
  },
  {
   "cell_type": "code",
   "execution_count": 1,
   "metadata": {},
   "outputs": [
    {
     "data": {
      "text/html": [
       "<pre>✔️ 474 µs (2022-03-09T10:59:51/2022-03-09T10:59:51)</pre>"
      ],
      "text/plain": [
       "<IPython.core.display.HTML object>"
      ]
     },
     "metadata": {},
     "output_type": "display_data"
    }
   ],
   "source": [
    "import os, sys\n",
    "from math import sqrt\n",
    "\n",
    "# setting the utilities required for loading the data\n",
    "sys.path.append('../utilities/')\n",
    "from loadDataUtility import *\n",
    "\n",
    "%load_ext autotime"
   ]
  },
  {
   "cell_type": "code",
   "execution_count": 2,
   "metadata": {},
   "outputs": [
    {
     "data": {
      "text/html": [
       "<pre>✔️ 1.11 ms (2022-03-09T10:59:51/2022-03-09T10:59:51)</pre>"
      ],
      "text/plain": [
       "<IPython.core.display.HTML object>"
      ]
     },
     "metadata": {},
     "output_type": "display_data"
    }
   ],
   "source": [
    "data_params = {\n",
    "    \"input_path\": '../../TripletPower-data/stm32f-unmasked/PC2_CB2_TDS3_K0_U_200k/train_same_key.npz', # path to the input file\n",
    "    \"target_byte\": 5, # byte on which analysis is to be performed\n",
    "    \"start_idx\": 1200, # These values depend on the architecture being tested\n",
    "    \"end_idx\": 2200,\n",
    "    \"n\": 200000, # This value should be equivalent to the number of power traces in the input file\n",
    "    \"path_to_save_nicv\":\"../results/unmasked-aes-stm32f/normalized-inter-class-variance/PC2_CB2_TDS3_K0_U_200k/\" # path to save csv file containing time and nicv value\n",
    "}\n",
    "\n",
    "# The directory to save the files is created.\n",
    "model_dir_path = data_params[\"path_to_save_nicv\"]\n",
    "if not os.path.isdir(model_dir_path):\n",
    "    os.makedirs(model_dir_path)"
   ]
  },
  {
   "cell_type": "code",
   "execution_count": 3,
   "metadata": {},
   "outputs": [
    {
     "data": {
      "text/html": [
       "<pre>✔️ 847 µs (2022-03-09T10:59:51/2022-03-09T10:59:51)</pre>"
      ],
      "text/plain": [
       "<IPython.core.display.HTML object>"
      ]
     },
     "metadata": {},
     "output_type": "display_data"
    }
   ],
   "source": [
    "def data_info(data):\n",
    "    \"\"\"\n",
    "    This function prints the information of the dataset.\n",
    "    \"\"\"\n",
    "    # loading the dataset\n",
    "    power_traces, plain_text, key = data['power_trace'], data['plain_text'], data['key']\n",
    "\n",
    "    print('shape of the power traces: ', power_traces.shape)\n",
    "    print('shape of the plaintext : ', plain_text.shape)\n",
    "    print('Ground Truth for the key : ', key)"
   ]
  },
  {
   "cell_type": "code",
   "execution_count": 4,
   "metadata": {},
   "outputs": [
    {
     "data": {
      "text/html": [
       "<pre>✔️ 1.49 ms (2022-03-09T10:59:51/2022-03-09T10:59:51)</pre>"
      ],
      "text/plain": [
       "<IPython.core.display.HTML object>"
      ]
     },
     "metadata": {},
     "output_type": "display_data"
    }
   ],
   "source": [
    "def load_data_nicv(params):\n",
    "    \"\"\"\n",
    "    This function loads the dataset required.\n",
    "    \"\"\"\n",
    "    print('preparing data ...')\n",
    "    target_byte = params['target_byte']\n",
    "    start_idx, end_idx = params[\"start_idx\"], params[\"end_idx\"]\n",
    "    file_name = params[\"input_path\"]\n",
    "    \n",
    "    try:\n",
    "        train_data_whole_pack = np.load(file_name)\n",
    "    except OSError:\n",
    "        print(\"could not access {}\".format(file_name))\n",
    "        sys.exit()\n",
    "    else:\n",
    "        data_info(train_data_whole_pack)\n",
    "\n",
    "    print('-'*80)\n",
    "    print('processing data...')\n",
    "    power_traces, labels = gen_features_and_labels_256_nicv(train_data_whole_pack,\n",
    "                                                         target_byte,\n",
    "                                                        start_idx, end_idx)\n",
    "\n",
    "    power_traces = power_traces[:params[\"n\"], :]\n",
    "    labels = labels[:params[\"n\"]]\n",
    "\n",
    "    print('reshaped power traces: ', power_traces.shape)\n",
    "    print('shape of the labels: ', labels.shape)\n",
    "\n",
    "    return power_traces, labels"
   ]
  },
  {
   "cell_type": "code",
   "execution_count": 5,
   "metadata": {},
   "outputs": [
    {
     "data": {
      "text/html": [
       "<pre>✔️ 1.14 ms (2022-03-09T10:59:51/2022-03-09T10:59:51)</pre>"
      ],
      "text/plain": [
       "<IPython.core.display.HTML object>"
      ]
     },
     "metadata": {},
     "output_type": "display_data"
    }
   ],
   "source": [
    "def gen_features_and_labels_256_nicv(data, input_target_byte, start_index, end_index):\n",
    "    \"\"\"\n",
    "    This function generates features and labels for the dataset.\n",
    "    Although similar, this function differs somewhat from the one present in the Step 2.1 notebook.\n",
    "    It differs from the corresponding function in the TVLA notebook as well.\n",
    "    \"\"\"\n",
    "    # loading the dataset\n",
    "    power_traces, plain_text, key = data['power_trace'], data['plain_text'], data['key']\n",
    "    \n",
    "    # Getting the key_byte_value AKA label\n",
    "    key_byte_value = key[input_target_byte]\n",
    "\n",
    "    print('generating features and labels for the key byte value: ', key_byte_value)\n",
    "\n",
    "    labels = []\n",
    "    for i in range(plain_text.shape[0]):\n",
    "        text_i = plain_text[i]\n",
    "        label = aes_internal(text_i[input_target_byte], key_byte_value) #key[i][input_key_byte]\n",
    "        labels.append(label)\n",
    "\n",
    "    labels = np.array(labels)\n",
    "    if not isinstance(power_traces, np.ndarray):\n",
    "        power_traces = np.array(power_traces)\n",
    "    power_traces = power_traces[:, start_index:end_index]\n",
    "\n",
    "    return power_traces, labels"
   ]
  },
  {
   "cell_type": "code",
   "execution_count": 6,
   "metadata": {},
   "outputs": [
    {
     "data": {
      "text/html": [
       "<pre>✔️ 895 µs (2022-03-09T10:59:51/2022-03-09T10:59:51)</pre>"
      ],
      "text/plain": [
       "<IPython.core.display.HTML object>"
      ]
     },
     "metadata": {},
     "output_type": "display_data"
    }
   ],
   "source": [
    "def calculate_nicv_values(labels_arr, Y_var):\n",
    "    '''\n",
    "    This function computes the nicv values (mean, variance, NICV) of the labels_arr\n",
    "    '''\n",
    "    Z = np.zeros((labels_arr.shape[0])) # A 1D array containing the means of each label (row) is instantiated (AKA Z array).\n",
    "    for i in range(np.shape(labels_arr)[0]): # Each row (power traces with specific label) is iterated through.\n",
    "        non_zero_elements = labels_arr[i][labels_arr[i] != 0] # The non-zero elements of the current row are saved.\n",
    "        if not(len(non_zero_elements)): # If there is a label with no power traces, the mean is set to 0.\n",
    "            Z[i] = 0\n",
    "        else: # Else, the average of the current row's non-zero elements are calculated.\n",
    "            Z[i] = np.average(non_zero_elements)\n",
    "    Z_var = np.var(Z, ddof=1) # The variance of the Z array is calculated.\n",
    "    return Z_var/Y_var # NICV is returned"
   ]
  },
  {
   "cell_type": "code",
   "execution_count": 7,
   "metadata": {},
   "outputs": [
    {
     "data": {
      "text/html": [
       "<pre>✔️ 1.06 ms (2022-03-09T10:59:52/2022-03-09T10:59:52)</pre>"
      ],
      "text/plain": [
       "<IPython.core.display.HTML object>"
      ]
     },
     "metadata": {},
     "output_type": "display_data"
    }
   ],
   "source": [
    "def save_NICV(power_traces, NICV_vals, str_target_byte, path_to_save_nicv):\n",
    "    '''\n",
    "    This function saves the nicv results to a csv file.\n",
    "    '''\n",
    "    # The file name is of the format: \"target-byte-x\"\n",
    "    # The thought is that the parent directories will provide the necessary information as to what this file name represents.\n",
    "    f_name = \"target-byte-\" + str_target_byte\n",
    "    nicv_file_path = os.path.join(path_to_save_nicv, f_name + '.csv')\n",
    "    \n",
    "    # data is an iterator of tuples. These tuples contain the time (incremented by 1) and the corresponding t-value.\n",
    "    data = zip(range(1, np.shape(power_traces)[1] + 1), NICV_vals)\n",
    "    nicv_df = pd.DataFrame(data)\n",
    "    nicv_df.to_csv(nicv_file_path, index=False, header=[\"time\", \"nicv-value\"])\n",
    "    print(\"Normalized Inter-Class Variance results sucessfully saved to csv file: {}\".format(nicv_file_path))"
   ]
  },
  {
   "cell_type": "markdown",
   "metadata": {},
   "source": [
    "This block will explain a few details about the below code block that is too verbose for a comment:\n",
    "\n",
    "label_arrs: \n",
    "- An array of size 256 x n is instantiated with zeros, where n is equal to the number of power traces. Each row corresponds to a specific label and each column corresponds to a specific power trace (E.g. label_arrs[x][y] are the coordinates that contain the yth power trace of the column whose label is equivalent to label x). Theoretically, it's possbile for every power trace to have the same label, hence why the the number of columns is equal to the number of power traces.\n",
    "- This array will be updated by inserting elements into positions that overwrite the initial zeros.\n",
    "- This array is reinitialzied for each column (time sample) as its values are specific to the current column being examined.\n",
    "\n",
    "inside the \"for j...\" loop:\n",
    "- We already know the label of each power trace (row) with labels[j]. So, we could simply insert the current power trace's value into labels_arr at index [j][k] where j is the label of the current row and k is the current row's index. If you recall from the above label_arrs section, [j] represents the label (row) and [k] represents the kth power trace (column).\n",
    "- E.g. the FIRST power trace of the current column has a value of 9 and a label of 5. At index [5,0] of label_arrs, 9 will be inserted (5 is the label, 0 is the index of the current power trace, 9 is the value).\n",
    "- The second power trace has a value of 7 and a label of 5. At index [5,1] of label_arrs, 7 will be inserted."
   ]
  },
  {
   "cell_type": "code",
   "execution_count": 8,
   "metadata": {},
   "outputs": [
    {
     "data": {
      "text/html": [
       "<pre>✔️ 1.6 ms (2022-03-09T10:59:52/2022-03-09T10:59:52)</pre>"
      ],
      "text/plain": [
       "<IPython.core.display.HTML object>"
      ]
     },
     "metadata": {},
     "output_type": "display_data"
    }
   ],
   "source": [
    "def compute_normalized_inter_class_variance(power_traces, labels, debug=False):\n",
    "    '''\n",
    "    This function computes the normalized inter-class variance.\n",
    "    '''\n",
    "    NICV_vals = []\n",
    "    for i in range(np.shape(power_traces)[1]): # Each column (time) of the power_traces array is analyzed.\n",
    "        curr_power_traces_col = power_traces[:,i]\n",
    "        var_curr_power_traces_col = np.var(curr_power_traces_col, ddof=1) # The variance of the current column is calculated for NICV.\n",
    "        labels_arr = np.zeros((256, power_traces.shape[0])) # NOTE: For debugging, replace the \"256\" with the length of debug key_byte_values (3)\n",
    "        for j in range(np.shape(curr_power_traces_col)[0]): # Each row of the current power traces column is analyzed.\n",
    "            labels_arr[labels[j]][j] = curr_power_traces_col[j]\n",
    "        NICV = calculate_nicv_values(labels_arr, var_curr_power_traces_col)\n",
    "        NICV_vals.append(NICV)\n",
    "        \n",
    "        if debug: # If debug is enabled, additional information will be printed to the screen.\n",
    "            print(\"Round {}\".format(i+1))\n",
    "            print(\"\\tThe nicv result is: {}\".format(NICV))\n",
    "    if not(debug):\n",
    "        print(\"Saving test vector leakage assessment results to csv file...\")\n",
    "        save_NICV(power_traces, NICV_vals, str(data_params[\"target_byte\"]), data_params[\"path_to_save_nicv\"])"
   ]
  },
  {
   "cell_type": "code",
   "execution_count": 9,
   "metadata": {},
   "outputs": [
    {
     "data": {
      "text/html": [
       "<pre>✔️ 4 min 22 s (2022-03-09T10:59:52/2022-03-09T11:04:14)</pre>"
      ],
      "text/plain": [
       "<IPython.core.display.HTML object>"
      ]
     },
     "metadata": {},
     "output_type": "display_data"
    },
    {
     "name": "stdout",
     "output_type": "stream",
     "text": [
      "preparing data ...\n",
      "shape of the power traces:  (200000, 5000)\n",
      "shape of the plaintext :  (200000, 16)\n",
      "Ground Truth for the key :  [ 43 126  21  22  40 174 210 166 171 247  21 136   9 207  79  60]\n",
      "--------------------------------------------------------------------------------\n",
      "processing data...\n",
      "generating features and labels for the key byte value:  174\n",
      "reshaped power traces:  (200000, 1000)\n",
      "shape of the labels:  (200000,)\n",
      "Saving test vector leakage assessment results to csv file...\n",
      "Normalized Inter-Class Variance results sucessfully saved to csv file: ../results/unmasked-aes-stm32f/normalized-inter-class-variance/PC2_CB2_TDS3_K0_U_200k/target-byte-5.csv\n"
     ]
    }
   ],
   "source": [
    "debug = False # Var allows debugging of \"toy\" examples if necessary.\n",
    "\n",
    "if debug:\n",
    "    # The below code represents the toy example provided in the original document.\n",
    "    # This block was created for testing purposes.\n",
    "    key_byte_values = [0x00, 0x01, 0x02]\n",
    "    key_byte_value = key_byte_values[0]\n",
    "    power_traces = np.array([\n",
    "        [2, 3, 4, 5],\n",
    "        [6, 4, 6, 8],\n",
    "        [1, 3, 4, 5],\n",
    "        [5, 3, 4, 5],\n",
    "        [3, 3, 5, 6],\n",
    "        [3, 2, 2, 3]\n",
    "    ])\n",
    "    labels = np.array([\n",
    "        0x00,\n",
    "        0x01,\n",
    "        0x02,\n",
    "        0x00,\n",
    "        0x01,\n",
    "        0x02\n",
    "    ])\n",
    "else:\n",
    "    power_traces, labels = load_data_nicv(data_params)\n",
    "compute_normalized_inter_class_variance(power_traces, labels, debug)"
   ]
  }
 ],
 "metadata": {
  "kernelspec": {
   "display_name": "Python 3",
   "language": "python",
   "name": "python3"
  },
  "language_info": {
   "codemirror_mode": {
    "name": "ipython",
    "version": 3
   },
   "file_extension": ".py",
   "mimetype": "text/x-python",
   "name": "python",
   "nbconvert_exporter": "python",
   "pygments_lexer": "ipython3",
   "version": "3.6.12"
  }
 },
 "nbformat": 4,
 "nbformat_minor": 4
}
