{
 "cells": [
  {
   "cell_type": "markdown",
   "metadata": {},
   "source": [
    "This notebook is where the ranking curves are generated. Make changes to the \"params\" dictionary to properly run this notebook for generating ranking curves. The params dictionary is described as follows:\n",
    "\n",
    "- target_board: The target board name. choices = {\"XMEGA\", \"STM32F\"}\n",
    "- aes_type: The type of board and aes, # choices = {\"xmega-masked\", \"xmega-unmasked\", \"stm32f-unmasked\"}\n",
    "- input_path: path to the testing dataset. This could be the directory containing the file or the path to the file itself.\n",
    "- target_byte: The byte for which ranking is to be performed\n",
    "- start_idx: The start index of the attack window\n",
    "- end_idx: The end index of the attack window\n",
    "- testType: If you want to load dataset with different key from testing. Mostly it is \"samekey\" # choices={'samekey', 'diffkey'}\n",
    "- n: Number of traces to be used for generating the ranking curve\n",
    "- sets: Divide the 256 traces into eqal sets\n",
    "- ranking_curve_path: path where the ranking information is saved from Step 3"
   ]
  },
  {
   "cell_type": "code",
   "execution_count": 1,
   "metadata": {},
   "outputs": [
    {
     "data": {
      "text/html": [
       "<pre>✔️ 468 µs (2022-03-21T10:04:44/2022-03-21T10:04:44)</pre>"
      ],
      "text/plain": [
       "<IPython.core.display.HTML object>"
      ]
     },
     "metadata": {},
     "output_type": "display_data"
    }
   ],
   "source": [
    "import os, sys\n",
    "# setting the utilities required for loading the data and training the model\n",
    "# parent_dir = os.path.abspath(os.path.join(os.path.dirname(__file__), '..')) + '/utilities/'\n",
    "sys.path.append('../utilities/')\n",
    "\n",
    "from graphGenerationUtilities import *\n",
    "\n",
    "import warnings\n",
    "warnings.filterwarnings('ignore')\n",
    "\n",
    "# %matplotlib nbagg\n",
    "%load_ext autotime"
   ]
  },
  {
   "cell_type": "code",
   "execution_count": 2,
   "metadata": {},
   "outputs": [
    {
     "data": {
      "text/html": [
       "<pre>✔️ 835 µs (2022-03-21T10:04:44/2022-03-21T10:04:44)</pre>"
      ],
      "text/plain": [
       "<IPython.core.display.HTML object>"
      ]
     },
     "metadata": {},
     "output_type": "display_data"
    }
   ],
   "source": [
    "# parameters for loading the dataset for testing k-NN\n",
    "params = {\n",
    "    \"target_board\": \"STM32F\", # choices = {'XMEGA', 'STM32F'}\n",
    "    \"aes_type\": \"stm32f-unmasked\", # choices = {\"xmega-masked\", \"xmega-unmasked\", \"stm32f-unmasked\"}\n",
    "    \"input_path\": '../../TripletPower-data/stm32f-unmasked/train-test-256-k-nn/PC2_CB2_TDS3_K6_U_20k/test_same_key.npz',  # path to load the dataset\n",
    "    \"target_byte\": 2,  # byte for which ranking is to be performed\n",
    "    \"start_idx\": 1200,\n",
    "    \"end_idx\": 2200,\n",
    "    \"testType\": \"samekey\",  # choices={'samekey', 'diffkey'}\n",
    "    \"n\": 10000, # number of traces to be used for testing\n",
    "    \"sets\": 8, # divide the 256 traces into eqal sets\n",
    "    \"ranking_curve_path\": '../results/unmasked-aes-stm32f/ranks-accuracy-n-2500/', # path to save key ranking curve\n",
    "}"
   ]
  },
  {
   "cell_type": "code",
   "execution_count": 3,
   "metadata": {},
   "outputs": [
    {
     "data": {
      "text/html": [
       "<pre>✔️ 844 ms (2022-03-21T10:04:44/2022-03-21T10:04:45)</pre>"
      ],
      "text/plain": [
       "<IPython.core.display.HTML object>"
      ]
     },
     "metadata": {},
     "output_type": "display_data"
    },
    {
     "name": "stdout",
     "output_type": "stream",
     "text": [
      "parameters of the dataset are:  {'target_board': 'STM32F', 'aes_type': 'stm32f-unmasked', 'input_path': '../../TripletPower-data/stm32f-unmasked/train-test-256-k-nn/PC2_CB2_TDS3_K6_U_20k/test_same_key.npz', 'target_byte': 2, 'start_idx': 1200, 'end_idx': 2200, 'testType': 'samekey', 'n': 10000, 'sets': 8, 'ranking_curve_path': '../results/unmasked-aes-stm32f/ranks-accuracy-n-2500/'}\n",
      "loading the test data ...\n",
      "test_data_path:  ../../TripletPower-data/stm32f-unmasked/train-test-256-k-nn/PC2_CB2_TDS3_K6_U_20k/test_same_key.npz\n",
      "test data loaded successfully!\n",
      "reshaped traces for the feature extractor: (20000, 1000, 1)\n",
      "shape of the labels: (20000,)\n",
      "shape of X_profiling:  (20000, 1000)\n",
      "shape of y_profiling:  (20000,)\n",
      "number of classes in the dataset:  256\n",
      "Test key:  [198  91  97  57 152  71 214 101 138  74  78  84  27 234  87  22]\n"
     ]
    }
   ],
   "source": [
    "x_test, y_test, test_data_df, nb_classes_test, test_plain_text, key = load_data(params,\n",
    "                                                                                     data_label=\"test\")"
   ]
  },
  {
   "cell_type": "code",
   "execution_count": 4,
   "metadata": {},
   "outputs": [
    {
     "data": {
      "text/html": [
       "<pre>✔️ 11.3 ms (2022-03-21T10:04:45/2022-03-21T10:04:45)</pre>"
      ],
      "text/plain": [
       "<IPython.core.display.HTML object>"
      ]
     },
     "metadata": {},
     "output_type": "display_data"
    },
    {
     "data": {
      "text/html": [
       "<div>\n",
       "<style scoped>\n",
       "    .dataframe tbody tr th:only-of-type {\n",
       "        vertical-align: middle;\n",
       "    }\n",
       "\n",
       "    .dataframe tbody tr th {\n",
       "        vertical-align: top;\n",
       "    }\n",
       "\n",
       "    .dataframe thead th {\n",
       "        text-align: right;\n",
       "    }\n",
       "</style>\n",
       "<table border=\"1\" class=\"dataframe\">\n",
       "  <thead>\n",
       "    <tr style=\"text-align: right;\">\n",
       "      <th></th>\n",
       "      <th>model-name</th>\n",
       "      <th>accuracy</th>\n",
       "    </tr>\n",
       "  </thead>\n",
       "  <tbody>\n",
       "    <tr>\n",
       "      <th>0</th>\n",
       "      <td>knn-key-value-0.model</td>\n",
       "      <td>0.0009</td>\n",
       "    </tr>\n",
       "    <tr>\n",
       "      <th>1</th>\n",
       "      <td>knn-key-value-1.model</td>\n",
       "      <td>0.0060</td>\n",
       "    </tr>\n",
       "    <tr>\n",
       "      <th>2</th>\n",
       "      <td>knn-key-value-2.model</td>\n",
       "      <td>0.0000</td>\n",
       "    </tr>\n",
       "    <tr>\n",
       "      <th>3</th>\n",
       "      <td>knn-key-value-3.model</td>\n",
       "      <td>0.0012</td>\n",
       "    </tr>\n",
       "    <tr>\n",
       "      <th>4</th>\n",
       "      <td>knn-key-value-4.model</td>\n",
       "      <td>0.0013</td>\n",
       "    </tr>\n",
       "  </tbody>\n",
       "</table>\n",
       "</div>"
      ],
      "text/plain": [
       "              model-name  accuracy\n",
       "0  knn-key-value-0.model    0.0009\n",
       "1  knn-key-value-1.model    0.0060\n",
       "2  knn-key-value-2.model    0.0000\n",
       "3  knn-key-value-3.model    0.0012\n",
       "4  knn-key-value-4.model    0.0013"
      ]
     },
     "execution_count": 4,
     "metadata": {},
     "output_type": "execute_result"
    }
   ],
   "source": [
    "# read the CSV file containing accuracies\n",
    "acc_path = os.path.join(params['ranking_curve_path'], '256-knn-accuracies.csv')\n",
    "acc = pd.read_csv(acc_path)\n",
    "acc.head()"
   ]
  },
  {
   "cell_type": "code",
   "execution_count": 5,
   "metadata": {},
   "outputs": [
    {
     "data": {
      "text/html": [
       "<pre>✔️ 1.83 ms (2022-03-21T10:04:45/2022-03-21T10:04:45)</pre>"
      ],
      "text/plain": [
       "<IPython.core.display.HTML object>"
      ]
     },
     "metadata": {},
     "output_type": "display_data"
    }
   ],
   "source": [
    "# get the accuracy of the k-nn model\n",
    "search_acc = 'knn-key-value-' + str(key[params['target_byte']]) + '.model'\n",
    "search_result = acc.loc[acc['model-name'].str.contains(search_acc, case=False)]"
   ]
  },
  {
   "cell_type": "code",
   "execution_count": 6,
   "metadata": {},
   "outputs": [
    {
     "data": {
      "text/html": [
       "<pre></pre>"
      ],
      "text/plain": [
       "<IPython.core.display.HTML object>"
      ]
     },
     "metadata": {},
     "output_type": "display_data"
    }
   ],
   "source": [
    "%%capture cap --no-stderr\n",
    "model_name = search_result['model-name'].values[0].split('.')[0].split('-')[-1]\n",
    "print('Model name is: ', model_name)\n",
    "model_accuracy = search_result['accuracy'].values[0]\n",
    "print('Accuracy is: ', model_accuracy)"
   ]
  },
  {
   "cell_type": "code",
   "execution_count": 7,
   "metadata": {},
   "outputs": [
    {
     "data": {
      "text/html": [
       "<pre>✔️ 1.3 ms (2022-03-21T10:04:45/2022-03-21T10:04:45)</pre>"
      ],
      "text/plain": [
       "<IPython.core.display.HTML object>"
      ]
     },
     "metadata": {},
     "output_type": "display_data"
    },
    {
     "name": "stdout",
     "output_type": "stream",
     "text": [
      "Correct key guess model and its accuracy is saved to ../results/unmasked-aes-stm32f/ranks-accuracy-n-2500/accuracy.txt.\n"
     ]
    }
   ],
   "source": [
    "acc_txt_path = os.path.join(params['ranking_curve_path'], 'accuracy.txt')\n",
    "with open(acc_txt_path, 'w') as f:\n",
    "    f.write(cap.stdout)\n",
    "    \n",
    "print('Correct key guess model and its accuracy is saved to %s.'%(acc_txt_path))"
   ]
  },
  {
   "cell_type": "markdown",
   "metadata": {},
   "source": [
    "#### Generating Accuracy Plot"
   ]
  },
  {
   "cell_type": "code",
   "execution_count": 8,
   "metadata": {},
   "outputs": [
    {
     "data": {
      "text/html": [
       "<pre>✔️ 4.16 s (2022-03-21T10:04:45/2022-03-21T10:04:50)</pre>"
      ],
      "text/plain": [
       "<IPython.core.display.HTML object>"
      ]
     },
     "metadata": {},
     "output_type": "display_data"
    },
    {
     "data": {
      "image/png": "[encoded data removed]",
      "text/plain": [
       "<Figure size 432x288 with 1 Axes>"
      ]
     },
     "metadata": {
      "needs_background": "light"
     },
     "output_type": "display_data"
    }
   ],
   "source": [
    "sizes = np.array([200])\n",
    "model_idxs = np.arange(0, 256, 1)\n",
    "fig, ax = plt.subplots()\n",
    "for i in range(len(acc)):\n",
    "    if i == key[params['target_byte']]:\n",
    "        plt.scatter(i, acc['accuracy'][i], color='r', marker='x', s=sizes, label='C_'+str(key[params['target_byte']]))\n",
    "    else:\n",
    "        plt.scatter(i, acc['accuracy'][i], marker='.', color='grey', label='Others')\n",
    "legend_without_duplicate_labels(ax, loc=\"upper left\")\n",
    "plt.xlabel('Classifiers')\n",
    "plt.ylabel('Accuracy')\n",
    "plt.xticks([0, 255, key[params['target_byte']]])\n",
    "from matplotlib.ticker import StrMethodFormatter\n",
    "                             \n",
    "if params['target_board'] == 'STM32F':\n",
    "    plt.yticks([0, round(max(acc['accuracy']), 3)])\n",
    "    plt.gca().yaxis.set_major_formatter(StrMethodFormatter('{x:,.3f}')) # 2 decimal places\n",
    "else:\n",
    "    plt.yticks([0, 1])\n",
    "    plt.gca().yaxis.set_major_formatter(StrMethodFormatter('{x:,.1f}')) # 2 decimal places\n",
    "path_str = params['aes_type'] + '-target-byte-' + str(params['target_byte']) + '-accuracy.png'\n",
    "acc_plot_path = os.path.join(params['ranking_curve_path'], path_str)\n",
    "plt.savefig(acc_plot_path, dpi=150, bbox_inches='tight')\n",
    "plt.show()"
   ]
  },
  {
   "cell_type": "markdown",
   "metadata": {},
   "source": [
    "#### Generating Ranking Curves Plots"
   ]
  },
  {
   "cell_type": "code",
   "execution_count": 9,
   "metadata": {
    "pycharm": {
     "name": "#%%\n"
    }
   },
   "outputs": [
    {
     "data": {
      "text/html": [
       "<pre>✔️ 3.84 s (2022-03-21T10:04:50/2022-03-21T10:04:54)</pre>"
      ],
      "text/plain": [
       "<IPython.core.display.HTML object>"
      ]
     },
     "metadata": {},
     "output_type": "display_data"
    },
    {
     "name": "stdout",
     "output_type": "stream",
     "text": [
      "processing set 0 - 32 ...\n",
      "generating a plot for STM32F target board...\n",
      "plot for STM32F target board saved successfully.\n",
      "processing completed from 0 - 32.\n",
      "processing set 32 - 64 ...\n",
      "generating a plot for STM32F target board...\n",
      "plot for STM32F target board saved successfully.\n",
      "processing completed from 32 - 64.\n",
      "processing set 64 - 96 ...\n",
      "generating a plot for STM32F target board...\n",
      "plot for STM32F target board saved successfully.\n",
      "processing completed from 64 - 96.\n",
      "processing set 96 - 128 ...\n",
      "generating a plot for STM32F target board...\n",
      "plot for STM32F target board saved successfully.\n",
      "processing completed from 96 - 128.\n",
      "processing set 128 - 160 ...\n",
      "generating a plot for STM32F target board...\n",
      "plot for STM32F target board saved successfully.\n",
      "processing completed from 128 - 160.\n",
      "processing set 160 - 192 ...\n",
      "generating a plot for STM32F target board...\n",
      "plot for STM32F target board saved successfully.\n",
      "processing completed from 160 - 192.\n",
      "processing set 192 - 224 ...\n",
      "generating a plot for STM32F target board...\n",
      "plot for STM32F target board saved successfully.\n",
      "processing completed from 192 - 224.\n",
      "processing set 224 - 256 ...\n",
      "generating a plot for STM32F target board...\n",
      "plot for STM32F target board saved successfully.\n",
      "processing completed from 224 - 256.\n"
     ]
    }
   ],
   "source": [
    "for i in range(0, 256, 32):\n",
    "    print('processing set %d - %d ...'%(i, i+32))\n",
    "    temp_acc = acc.iloc[i:i+32, :]\n",
    "    temp_save_path = params['ranking_curve_path'] + params[\"aes_type\"] + '-target-byte-' + str(params['target_byte']) + '-' + str(i) + '-' + str(i+31) +'-' + str(params[\"n\"]) + '-traces.png'\n",
    "    generate_ranking_plot(params, key, temp_acc, index_range=[i, i+32], save_path=temp_save_path)\n",
    "    print('processing completed from %d - %d.'%(i, i+32))"
   ]
  },
  {
   "cell_type": "code",
   "execution_count": null,
   "metadata": {},
   "outputs": [],
   "source": []
  }
 ],
 "metadata": {
  "kernelspec": {
   "display_name": "Python 3",
   "language": "python",
   "name": "python3"
  },
  "language_info": {
   "codemirror_mode": {
    "name": "ipython",
    "version": 3
   },
   "file_extension": ".py",
   "mimetype": "text/x-python",
   "name": "python",
   "nbconvert_exporter": "python",
   "pygments_lexer": "ipython3",
   "version": "3.6.12"
  }
 },
 "nbformat": 4,
 "nbformat_minor": 4
}
