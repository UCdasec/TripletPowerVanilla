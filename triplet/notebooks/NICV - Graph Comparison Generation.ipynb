{
 "cells": [
  {
   "cell_type": "markdown",
   "metadata": {},
   "source": [
    "The purpose of this notebook is to plot and compare the normalized inter-class variance results of two separate files. There will be no checking to ensure the files being compared are of the same format (xmega/stm32 and unmasked/masked); it will be assumed that the user-entered parameters are correct. Much of this file will be similar to the \"nicv_graph_generation\" notebook and the corresponding tvla notebook.\n",
    "\n",
    "The current implementation of this will be for only two datasets (down the line, the scope may change to include >2 datasets being compared).\n",
    "\n",
    "Additional functions that are used in both this file and the NICV file are implemented in graphGenerationUtilities.py.\n",
    "\n",
    "Below are descriptions of the input parameters:\n",
    "\n",
    "- input_path_1: The directory containing the first csv file that will be used for plotting. Unlike other uses of an \"input_parameter,\" this should include the file name itself. I.e, ensure the path to and including the file is passed.\n",
    "- input_path_2: The directory containing the second csv file that will be used for plotting. Format is the same as what is mentioned for the above parameter.\n",
    "- path_to_save_nicv_comparison: Path to save the plots to."
   ]
  },
  {
   "cell_type": "code",
   "execution_count": 1,
   "metadata": {},
   "outputs": [
    {
     "data": {
      "text/html": [
       "<pre>✔️ 464 µs (2022-03-31T12:01:14/2022-03-31T12:01:14)</pre>"
      ],
      "text/plain": [
       "<IPython.core.display.HTML object>"
      ]
     },
     "metadata": {},
     "output_type": "display_data"
    }
   ],
   "source": [
    "import os, sys\n",
    "import pandas as pd\n",
    "from math import floor, ceil\n",
    "\n",
    "# setting the utilities required for loading the data and training the model\n",
    "sys.path.append('../utilities/')\n",
    "from graphGenerationUtilities import *\n",
    "\n",
    "%load_ext autotime"
   ]
  },
  {
   "cell_type": "code",
   "execution_count": 2,
   "metadata": {},
   "outputs": [
    {
     "data": {
      "text/html": [
       "<pre>✔️ 850 µs (2022-03-31T12:01:14/2022-03-31T12:01:14)</pre>"
      ],
      "text/plain": [
       "<IPython.core.display.HTML object>"
      ]
     },
     "metadata": {},
     "output_type": "display_data"
    }
   ],
   "source": [
    "data_params = {\n",
    "    \"input_path_1\": '../results/masked-aes-xmega/normalized-inter-class-variance/PC1_CB1_TDX1_K0_M_200k/target-byte-0.csv', # path to the first input file\n",
    "    \"input_path_2\": '../results/masked-aes-xmega/normalized-inter-class-variance/PC2_CB2_TDX3_K9_M_20k/target-byte-0.csv', # path to the second input file\n",
    "    \"path_to_save_nicv_comparison\":\"../results/masked-aes-xmega/normalized-inter-class-variance/comparisons/\" # path to save csv file containing time and t value\n",
    "}\n",
    "\n",
    "# The directory to save the files is created.\n",
    "model_dir_path = data_params[\"path_to_save_nicv_comparison\"]\n",
    "if not os.path.isdir(model_dir_path):\n",
    "    os.makedirs(model_dir_path)"
   ]
  },
  {
   "cell_type": "code",
   "execution_count": 3,
   "metadata": {},
   "outputs": [
    {
     "data": {
      "text/html": [
       "<pre>✔️ 9.84 ms (2022-03-31T12:01:14/2022-03-31T12:01:14)</pre>"
      ],
      "text/plain": [
       "<IPython.core.display.HTML object>"
      ]
     },
     "metadata": {},
     "output_type": "display_data"
    }
   ],
   "source": [
    "# Both input files are read and converted to DataFrame objects.\n",
    "nicv_1_df = read_csv_file_as_df(data_params[\"input_path_1\"])\n",
    "nicv_2_df = read_csv_file_as_df(data_params[\"input_path_2\"])\n",
    "\n",
    "# The x ticks are calculated. It is assumed that both dfs have the same num_time_samples\n",
    "num_time_samples = nicv_1_df.shape[0]\n",
    "time_samples_inc = num_time_samples//5\n",
    "# The first time value is the start_idx + 1.\n",
    "# For better formatting of the results, the x-ticks begin from one less than this.\n",
    "first_time_val = nicv_1_df['time'][0]\n",
    "x_ticks = list(range(first_time_val - 1, first_time_val + num_time_samples, time_samples_inc))\n",
    "\n",
    "# The file and parent directory names are gotten from the path parameters.\n",
    "nicv_file_name_1 = get_file_name_from_path(data_params[\"input_path_1\"])\n",
    "nicv_file_1_parent_dir = os.path.dirname(data_params[\"input_path_1\"]).rsplit(\"/\")[-1]\n",
    "nicv_file_name_2 = get_file_name_from_path(data_params[\"input_path_2\"])\n",
    "nicv_file_2_parent_dir = os.path.dirname(data_params[\"input_path_2\"]).rsplit(\"/\")[-1]\n",
    "\n",
    "# The plot labels are created based on the above variables.\n",
    "nicv_label_1 = \"{}_{}\".format(nicv_file_1_parent_dir, replace_file_name_text(nicv_file_name_1, \"NICV\"))\n",
    "nicv_label_2 = \"{}_{}\".format(nicv_file_2_parent_dir, replace_file_name_text(nicv_file_name_2, \"NICV\"))\n",
    "\n",
    "# The file name is based on the labels.\n",
    "f_name = \"{}_{}\".format(nicv_label_1, nicv_label_2)"
   ]
  },
  {
   "cell_type": "code",
   "execution_count": 4,
   "metadata": {},
   "outputs": [
    {
     "data": {
      "text/html": [
       "<pre>✔️ 238 ms (2022-03-31T12:01:14/2022-03-31T12:01:15)</pre>"
      ],
      "text/plain": [
       "<IPython.core.display.HTML object>"
      ]
     },
     "metadata": {},
     "output_type": "display_data"
    },
    {
     "data": {
      "image/png": "[encoded data removed]",
      "text/plain": [
       "<Figure size 432x288 with 1 Axes>"
      ]
     },
     "metadata": {
      "needs_background": "light"
     },
     "output_type": "display_data"
    }
   ],
   "source": [
    "fig, ax = plt.subplots()\n",
    "ax.plot(nicv_1_df['time'], nicv_1_df['nicv-value'], color='maroon', \n",
    "        linestyle='-', linewidth=1, alpha=0.9, label=nicv_label_1)\n",
    "\n",
    "ax.plot(nicv_2_df['time'], nicv_2_df['nicv-value'], color='dodgerblue', \n",
    "        linestyle='-', linewidth=1, alpha=0.9, label=nicv_label_2)\n",
    "\n",
    "legend_without_duplicate_labels(ax, loc=\"upper right\")\n",
    "plt.xlabel('Points of Interests')\n",
    "plt.ylabel('NICV')\n",
    "plt.xticks(x_ticks)\n",
    "plt.yticks([0, 1])\n",
    "\n",
    "nicv_plot_path = os.path.join(data_params['path_to_save_nicv_comparison'], f_name + \"-plot.png\")\n",
    "plt.savefig(nicv_plot_path, dpi=150, bbox_inches='tight')\n",
    "plt.show()"
   ]
  }
 ],
 "metadata": {
  "kernelspec": {
   "display_name": "Python 3",
   "language": "python",
   "name": "python3"
  },
  "language_info": {
   "codemirror_mode": {
    "name": "ipython",
    "version": 3
   },
   "file_extension": ".py",
   "mimetype": "text/x-python",
   "name": "python",
   "nbconvert_exporter": "python",
   "pygments_lexer": "ipython3",
   "version": "3.6.12"
  }
 },
 "nbformat": 4,
 "nbformat_minor": 4
}
