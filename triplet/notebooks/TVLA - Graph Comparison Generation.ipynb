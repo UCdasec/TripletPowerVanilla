{
 "cells": [
  {
   "cell_type": "markdown",
   "metadata": {},
   "source": [
    "The purpose of this notebook is to plot and compare the test vector leakage assessment results of two separate files. There will be no checking to ensure the files being compared are of the same format (xmega/stm32 and unmasked/masked); it will be assumed that the user-entered parameters are correct. Much of this file will be similar to the \"tvla_graph_generation\" notebook.\n",
    "\n",
    "The current implementation of this will be for only two datasets (down the line, the scope may change to include >2 datasets being compared).\n",
    "\n",
    "Additional functions that are used in both this file and the NICV file are implemented in graphGenerationUtilities.py.\n",
    "\n",
    "Below are descriptions of the input parameters:\n",
    "\n",
    "- input_path_1: The directory containing the first csv file that will be used for plotting. Unlike other uses of an \"input_parameter,\" this should include the file name itself. I.e, ensure the path to and including the file is passed.\n",
    "- input_path_2: The directory containing the second csv file that will be used for plotting. Format is the same as what is mentioned for the above parameter.\n",
    "- path_to_save_tvla_comparison: Path to save the plots to."
   ]
  },
  {
   "cell_type": "code",
   "execution_count": 1,
   "metadata": {},
   "outputs": [
    {
     "data": {
      "text/html": [
       "<pre>✔️ 478 µs (2022-03-09T10:53:16/2022-03-09T10:53:16)</pre>"
      ],
      "text/plain": [
       "<IPython.core.display.HTML object>"
      ]
     },
     "metadata": {},
     "output_type": "display_data"
    }
   ],
   "source": [
    "import os, sys\n",
    "import pandas as pd\n",
    "from math import floor, ceil\n",
    "\n",
    "sys.path.append('../utilities/')\n",
    "from graphGenerationUtilities import *\n",
    "\n",
    "%load_ext autotime"
   ]
  },
  {
   "cell_type": "code",
   "execution_count": 2,
   "metadata": {},
   "outputs": [
    {
     "data": {
      "text/html": [
       "<pre>✔️ 871 µs (2022-03-09T10:53:17/2022-03-09T10:53:17)</pre>"
      ],
      "text/plain": [
       "<IPython.core.display.HTML object>"
      ]
     },
     "metadata": {},
     "output_type": "display_data"
    }
   ],
   "source": [
    "data_params = {\n",
    "    \"input_path_1\": '../results/unmasked-aes-stm32f/test-vector-leakage-assessment/PC2_CB2_TDS3_K6_U_20k/target-byte-10-byte-value-78.csv', # path to the first input file\n",
    "    \"input_path_2\": '../results/unmasked-aes-stm32f/test-vector-leakage-assessment/PC2_CB2_TDS3_K0_U_200k/target-byte-7-byte-value-166.csv', # path to the second input file\n",
    "    \"path_to_save_tvla_comparison\":\"../results/unmasked-aes-stm32f/test-vector-leakage-assessment/comparisons/\" # path to save csv file containing time and t value\n",
    "}\n",
    "\n",
    "# The directory to save the files is created.\n",
    "model_dir_path = data_params[\"path_to_save_tvla_comparison\"]\n",
    "if not os.path.isdir(model_dir_path):\n",
    "    os.makedirs(model_dir_path)"
   ]
  },
  {
   "cell_type": "code",
   "execution_count": 3,
   "metadata": {},
   "outputs": [
    {
     "data": {
      "text/html": [
       "<pre>✔️ 1.35 ms (2022-03-09T10:53:17/2022-03-09T10:53:17)</pre>"
      ],
      "text/plain": [
       "<IPython.core.display.HTML object>"
      ]
     },
     "metadata": {},
     "output_type": "display_data"
    }
   ],
   "source": [
    "def calc_y_ticks_of_dfs(df_obj1, df_obj2):\n",
    "    '''\n",
    "    This function accepts two Pandas DataFrame objects as input.\n",
    "    The appropriate y-ticks are calculated based on the values of these two parameters.\n",
    "    '''\n",
    "    # The min and max values between both df objects are gotten\n",
    "    min_t_val = floor(min([df_obj1[\"t-value\"].min(), df_obj2[\"t-value\"].min()]))\n",
    "    max_t_val = ceil(max([df_obj1[\"t-value\"].max(), df_obj2[\"t-value\"].max()]))\n",
    "    \n",
    "    # The range of the above values is calculated.\n",
    "    # This is floored with an arbitrarily-selected value. This value affects the number of y-ticks shown.\n",
    "    # This will represent the amount incremented between y-ticks.\n",
    "    t_val_increment = ((max_t_val - min_t_val)//5)\n",
    "\n",
    "    # The increment value is ensured to be at least 1.\n",
    "    if not(t_val_increment):\n",
    "        t_val_increment = 1\n",
    "\n",
    "    # The y_ticks are created. \n",
    "    y_ticks = list(range(min_t_val, max_t_val+1, t_val_increment))\n",
    "\n",
    "    # If the max t value was not included in the range (the data extends above the largest y-tick)\n",
    "    # Then a new value is added to the y-ticks; the current max y-tick plus the increment value.\n",
    "    if not(max_t_val in y_ticks):\n",
    "        y_ticks.append(y_ticks[-1]+t_val_increment)\n",
    "    \n",
    "    return y_ticks"
   ]
  },
  {
   "cell_type": "code",
   "execution_count": 4,
   "metadata": {},
   "outputs": [
    {
     "data": {
      "text/html": [
       "<pre>✔️ 9.58 ms (2022-03-09T10:53:17/2022-03-09T10:53:17)</pre>"
      ],
      "text/plain": [
       "<IPython.core.display.HTML object>"
      ]
     },
     "metadata": {},
     "output_type": "display_data"
    }
   ],
   "source": [
    "# Both input files are read and converted to DataFrame objects.\n",
    "tvla_1_df = read_csv_file_as_df(data_params[\"input_path_1\"])\n",
    "tvla_2_df = read_csv_file_as_df(data_params[\"input_path_2\"])\n",
    "# The y_ticks are calculated based on the above DataFrames.\n",
    "y_ticks = calc_y_ticks_of_dfs(tvla_1_df, tvla_2_df)\n",
    "\n",
    "# The x_ticks are calculated. It is assumed that both dfs have the same num_time_samples\n",
    "num_time_samples = tvla_1_df.shape[0]\n",
    "time_samples_inc = num_time_samples//5\n",
    "x_ticks = list(range(0, num_time_samples+1, time_samples_inc))\n",
    "\n",
    "# The file and parent directory names are gotten from the path parameters.\n",
    "tvla_file_name_1 = get_file_name_from_path(data_params[\"input_path_1\"])\n",
    "tvla_file_1_parent_dir = os.path.dirname(data_params[\"input_path_1\"]).rsplit(\"/\")[-1]\n",
    "tvla_file_name_2 = get_file_name_from_path(data_params[\"input_path_2\"])\n",
    "tvla_file_2_parent_dir = os.path.dirname(data_params[\"input_path_2\"]).rsplit(\"/\")[-1]\n",
    "\n",
    "# The plot labels are created based on the above variables.\n",
    "tvla_label_1 = \"{}_{}\".format(tvla_file_1_parent_dir, replace_file_name_text(tvla_file_name_1, \"TVLA\"))\n",
    "tvla_label_2 = \"{}_{}\".format(tvla_file_2_parent_dir, replace_file_name_text(tvla_file_name_2, \"TVLA\"))\n",
    "\n",
    "# The file name is based on the labels.\n",
    "f_name = \"{}_{}\".format(tvla_label_1, tvla_label_2)"
   ]
  },
  {
   "cell_type": "code",
   "execution_count": 5,
   "metadata": {},
   "outputs": [
    {
     "data": {
      "text/html": [
       "<pre>✔️ 223 ms (2022-03-09T10:53:17/2022-03-09T10:53:17)</pre>"
      ],
      "text/plain": [
       "<IPython.core.display.HTML object>"
      ]
     },
     "metadata": {},
     "output_type": "display_data"
    },
    {
     "data": {
      "image/png": "[encoded data removed]",
      "text/plain": [
       "<Figure size 432x288 with 1 Axes>"
      ]
     },
     "metadata": {
      "needs_background": "light"
     },
     "output_type": "display_data"
    }
   ],
   "source": [
    "fig, ax = plt.subplots()\n",
    "ax.plot(tvla_1_df['time'], tvla_1_df['t-value'], color='maroon', \n",
    "        linestyle='-', linewidth=1, alpha=0.9, label=tvla_label_1)\n",
    "\n",
    "ax.plot(tvla_2_df['time'], tvla_2_df['t-value'], color='dodgerblue', \n",
    "        linestyle='-', linewidth=1, alpha=0.9, label=tvla_label_2)\n",
    "\n",
    "legend_without_duplicate_labels(ax, loc=\"upper right\")\n",
    "plt.xlabel('Time')\n",
    "plt.ylabel('T value')\n",
    "plt.xticks(x_ticks)\n",
    "plt.yticks(y_ticks)\n",
    "\n",
    "tvla_plot_path = os.path.join(data_params['path_to_save_tvla_comparison'], f_name + \"-plot.png\")\n",
    "plt.savefig(tvla_plot_path, dpi=150, bbox_inches='tight')\n",
    "plt.show()"
   ]
  }
 ],
 "metadata": {
  "kernelspec": {
   "display_name": "Python 3",
   "language": "python",
   "name": "python3"
  },
  "language_info": {
   "codemirror_mode": {
    "name": "ipython",
    "version": 3
   },
   "file_extension": ".py",
   "mimetype": "text/x-python",
   "name": "python",
   "nbconvert_exporter": "python",
   "pygments_lexer": "ipython3",
   "version": "3.6.12"
  }
 },
 "nbformat": 4,
 "nbformat_minor": 5
}
